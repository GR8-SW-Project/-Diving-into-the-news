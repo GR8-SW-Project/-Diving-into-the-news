{
 "cells": [
  {
   "cell_type": "code",
   "execution_count": 1,
   "metadata": {},
   "outputs": [
    {
     "name": "stderr",
     "output_type": "stream",
     "text": [
      "c:\\ProgramData\\Anaconda3\\envs\\DINS\\lib\\site-packages\\tqdm\\auto.py:22: TqdmWarning: IProgress not found. Please update jupyter and ipywidgets. See https://ipywidgets.readthedocs.io/en/stable/user_install.html\n",
      "  from .autonotebook import tqdm as notebook_tqdm\n"
     ]
    }
   ],
   "source": [
    "import numpy as np\n",
    "import pandas as pd\n",
    "import matplotlib.pyplot as plt\n",
    "\n",
    "from konlpy.tag import Okt\n",
    "\n",
    "import os\n",
    "\n",
    "from keybert import KeyBERT\n",
    "import tqdm"
   ]
  },
  {
   "cell_type": "code",
   "execution_count": 64,
   "metadata": {},
   "outputs": [
    {
     "data": {
      "text/html": [
       "<div>\n",
       "<style scoped>\n",
       "    .dataframe tbody tr th:only-of-type {\n",
       "        vertical-align: middle;\n",
       "    }\n",
       "\n",
       "    .dataframe tbody tr th {\n",
       "        vertical-align: top;\n",
       "    }\n",
       "\n",
       "    .dataframe thead th {\n",
       "        text-align: right;\n",
       "    }\n",
       "</style>\n",
       "<table border=\"1\" class=\"dataframe\">\n",
       "  <thead>\n",
       "    <tr style=\"text-align: right;\">\n",
       "      <th></th>\n",
       "      <th>title</th>\n",
       "      <th>headline</th>\n",
       "      <th>date</th>\n",
       "      <th>link</th>\n",
       "      <th>content</th>\n",
       "      <th>category</th>\n",
       "      <th>site</th>\n",
       "    </tr>\n",
       "  </thead>\n",
       "  <tbody>\n",
       "    <tr>\n",
       "      <th>0</th>\n",
       "      <td>이란 남부 원유시설서 화재…업체 대표 \"정체불명 세력이 방화\"</td>\n",
       "      <td>이란 남부 원유시설에서 불이 나 한때 생산이 중단됐다고 현지 언론이 13일 보도했습...</td>\n",
       "      <td>2022.09.13</td>\n",
       "      <td>https://news.sbs.co.kr//news/endPage.do?news_i...</td>\n",
       "      <td>이란 남부 원유시설에서 불이 나 한때 생산이 중단됐다고 현지 언론이 13일(현지...</td>\n",
       "      <td>국제</td>\n",
       "      <td>sbs</td>\n",
       "    </tr>\n",
       "  </tbody>\n",
       "</table>\n",
       "</div>"
      ],
      "text/plain": [
       "                                title  \\\n",
       "0  이란 남부 원유시설서 화재…업체 대표 \"정체불명 세력이 방화\"   \n",
       "\n",
       "                                            headline        date  \\\n",
       "0  이란 남부 원유시설에서 불이 나 한때 생산이 중단됐다고 현지 언론이 13일 보도했습...  2022.09.13   \n",
       "\n",
       "                                                link  \\\n",
       "0  https://news.sbs.co.kr//news/endPage.do?news_i...   \n",
       "\n",
       "                                             content category site  \n",
       "0    이란 남부 원유시설에서 불이 나 한때 생산이 중단됐다고 현지 언론이 13일(현지...       국제  sbs  "
      ]
     },
     "execution_count": 64,
     "metadata": {},
     "output_type": "execute_result"
    }
   ],
   "source": [
    "data = pd.read_csv('./Data/SBS.csv')\n",
    "\n",
    "data.head(1)"
   ]
  },
  {
   "cell_type": "code",
   "execution_count": 65,
   "metadata": {},
   "outputs": [],
   "source": [
    "dates = ['2022.10.24', '2022.10.25', '2022.10.26', '2022.10.27',\n",
    "         '2022.10.28', '2022.10.29', '2022.10.30']"
   ]
  },
  {
   "cell_type": "code",
   "execution_count": 66,
   "metadata": {},
   "outputs": [],
   "source": [
    "data_date= []\n",
    "\n",
    "for date in dates:\n",
    "    data_date.append(data.groupby('date').get_group(date))"
   ]
  },
  {
   "cell_type": "code",
   "execution_count": 67,
   "metadata": {},
   "outputs": [],
   "source": [
    "data_week = pd.concat(data_date, axis=0)"
   ]
  },
  {
   "cell_type": "code",
   "execution_count": 68,
   "metadata": {},
   "outputs": [
    {
     "data": {
      "text/plain": [
       "1694"
      ]
     },
     "execution_count": 68,
     "metadata": {},
     "output_type": "execute_result"
    }
   ],
   "source": [
    "len(data_week)"
   ]
  },
  {
   "cell_type": "code",
   "execution_count": 70,
   "metadata": {},
   "outputs": [
    {
     "data": {
      "text/plain": [
       "7"
      ]
     },
     "execution_count": 70,
     "metadata": {},
     "output_type": "execute_result"
    }
   ],
   "source": [
    "categories = data_week.category.unique()\n",
    "\n",
    "len(categories)\n",
    "# '사회', '국제', '스포츠', '생활·문화', '경제', '정치', '연예'"
   ]
  },
  {
   "cell_type": "code",
   "execution_count": 71,
   "metadata": {},
   "outputs": [],
   "source": [
    "okt = Okt()"
   ]
  },
  {
   "cell_type": "code",
   "execution_count": 72,
   "metadata": {},
   "outputs": [],
   "source": [
    "datas = []\n",
    "\n",
    "for category in categories:\n",
    "    try:\n",
    "        datas.append(data_week.groupby('category').get_group(category).content)\n",
    "    except (KeyError):\n",
    "        pass"
   ]
  },
  {
   "cell_type": "code",
   "execution_count": 77,
   "metadata": {},
   "outputs": [],
   "source": [
    "datas_nouns = []\n",
    "\n",
    "for contents in datas:\n",
    "    content_nouns = ''\n",
    "    \n",
    "    for text in contents:\n",
    "        text_nouns = okt.nouns(text)\n",
    "        \n",
    "        for noun in text_nouns:\n",
    "            content_nouns += noun + ' '\n",
    "            \n",
    "    datas_nouns.append(content_nouns)"
   ]
  },
  {
   "cell_type": "code",
   "execution_count": 78,
   "metadata": {},
   "outputs": [],
   "source": [
    "model = KeyBERT('distilbert-base-nli-mean-tokens')"
   ]
  },
  {
   "cell_type": "code",
   "execution_count": 79,
   "metadata": {},
   "outputs": [],
   "source": [
    "datas_keywords = []\n",
    "\n",
    "for content_nouns in datas_nouns:\n",
    "    datas_keywords.append(model.extract_keywords(content_nouns, keyphrase_ngram_range=(1,1), top_n=20, use_mmr=True))"
   ]
  },
  {
   "cell_type": "code",
   "execution_count": 80,
   "metadata": {},
   "outputs": [],
   "source": [
    "result_keywords = []\n",
    "\n",
    "category_idx = 0\n",
    "\n",
    "for keywords in datas_keywords:\n",
    "    for keyword in keywords:\n",
    "        result_keywords.append(('2022.10.24', '2022.10.30', categories[category_idx], ) + keyword) # (date_start, date_end, category, keyword, importance)\n",
    "\n",
    "    category_idx += 1"
   ]
  },
  {
   "cell_type": "code",
   "execution_count": 82,
   "metadata": {},
   "outputs": [
    {
     "data": {
      "text/html": [
       "<div>\n",
       "<style scoped>\n",
       "    .dataframe tbody tr th:only-of-type {\n",
       "        vertical-align: middle;\n",
       "    }\n",
       "\n",
       "    .dataframe tbody tr th {\n",
       "        vertical-align: top;\n",
       "    }\n",
       "\n",
       "    .dataframe thead th {\n",
       "        text-align: right;\n",
       "    }\n",
       "</style>\n",
       "<table border=\"1\" class=\"dataframe\">\n",
       "  <thead>\n",
       "    <tr style=\"text-align: right;\">\n",
       "      <th></th>\n",
       "      <th>date_start</th>\n",
       "      <th>date_end</th>\n",
       "      <th>category</th>\n",
       "      <th>keyword</th>\n",
       "      <th>importance</th>\n",
       "    </tr>\n",
       "  </thead>\n",
       "  <tbody>\n",
       "    <tr>\n",
       "      <th>0</th>\n",
       "      <td>2022.10.24</td>\n",
       "      <td>2022.10.30</td>\n",
       "      <td>국제</td>\n",
       "      <td>대륙간탄도미사일</td>\n",
       "      <td>0.8705</td>\n",
       "    </tr>\n",
       "    <tr>\n",
       "      <th>1</th>\n",
       "      <td>2022.10.24</td>\n",
       "      <td>2022.10.30</td>\n",
       "      <td>국제</td>\n",
       "      <td>원자력발전소</td>\n",
       "      <td>0.8624</td>\n",
       "    </tr>\n",
       "    <tr>\n",
       "      <th>2</th>\n",
       "      <td>2022.10.24</td>\n",
       "      <td>2022.10.30</td>\n",
       "      <td>국제</td>\n",
       "      <td>소셜네트워크서비스</td>\n",
       "      <td>0.8542</td>\n",
       "    </tr>\n",
       "    <tr>\n",
       "      <th>3</th>\n",
       "      <td>2022.10.24</td>\n",
       "      <td>2022.10.30</td>\n",
       "      <td>국제</td>\n",
       "      <td>독립국가연합</td>\n",
       "      <td>0.8463</td>\n",
       "    </tr>\n",
       "    <tr>\n",
       "      <th>4</th>\n",
       "      <td>2022.10.24</td>\n",
       "      <td>2022.10.30</td>\n",
       "      <td>국제</td>\n",
       "      <td>로스앤젤레스</td>\n",
       "      <td>0.8378</td>\n",
       "    </tr>\n",
       "    <tr>\n",
       "      <th>...</th>\n",
       "      <td>...</td>\n",
       "      <td>...</td>\n",
       "      <td>...</td>\n",
       "      <td>...</td>\n",
       "      <td>...</td>\n",
       "    </tr>\n",
       "    <tr>\n",
       "      <th>135</th>\n",
       "      <td>2022.10.24</td>\n",
       "      <td>2022.10.30</td>\n",
       "      <td>연예</td>\n",
       "      <td>쇼트프로그램</td>\n",
       "      <td>0.7943</td>\n",
       "    </tr>\n",
       "    <tr>\n",
       "      <th>136</th>\n",
       "      <td>2022.10.24</td>\n",
       "      <td>2022.10.30</td>\n",
       "      <td>연예</td>\n",
       "      <td>엠씨더맥스</td>\n",
       "      <td>0.7932</td>\n",
       "    </tr>\n",
       "    <tr>\n",
       "      <th>137</th>\n",
       "      <td>2022.10.24</td>\n",
       "      <td>2022.10.30</td>\n",
       "      <td>연예</td>\n",
       "      <td>스타크래프트</td>\n",
       "      <td>0.7892</td>\n",
       "    </tr>\n",
       "    <tr>\n",
       "      <th>138</th>\n",
       "      <td>2022.10.24</td>\n",
       "      <td>2022.10.30</td>\n",
       "      <td>연예</td>\n",
       "      <td>도로교통법</td>\n",
       "      <td>0.7780</td>\n",
       "    </tr>\n",
       "    <tr>\n",
       "      <th>139</th>\n",
       "      <td>2022.10.24</td>\n",
       "      <td>2022.10.30</td>\n",
       "      <td>연예</td>\n",
       "      <td>숙명여대</td>\n",
       "      <td>0.7768</td>\n",
       "    </tr>\n",
       "  </tbody>\n",
       "</table>\n",
       "<p>140 rows × 5 columns</p>\n",
       "</div>"
      ],
      "text/plain": [
       "     date_start    date_end category    keyword  importance\n",
       "0    2022.10.24  2022.10.30       국제   대륙간탄도미사일      0.8705\n",
       "1    2022.10.24  2022.10.30       국제     원자력발전소      0.8624\n",
       "2    2022.10.24  2022.10.30       국제  소셜네트워크서비스      0.8542\n",
       "3    2022.10.24  2022.10.30       국제     독립국가연합      0.8463\n",
       "4    2022.10.24  2022.10.30       국제     로스앤젤레스      0.8378\n",
       "..          ...         ...      ...        ...         ...\n",
       "135  2022.10.24  2022.10.30       연예     쇼트프로그램      0.7943\n",
       "136  2022.10.24  2022.10.30       연예      엠씨더맥스      0.7932\n",
       "137  2022.10.24  2022.10.30       연예     스타크래프트      0.7892\n",
       "138  2022.10.24  2022.10.30       연예      도로교통법      0.7780\n",
       "139  2022.10.24  2022.10.30       연예       숙명여대      0.7768\n",
       "\n",
       "[140 rows x 5 columns]"
      ]
     },
     "execution_count": 82,
     "metadata": {},
     "output_type": "execute_result"
    }
   ],
   "source": [
    "result = pd.DataFrame(result_keywords, columns=['date_start', 'date_end', 'category', 'keyword', 'importance'])\n",
    "\n",
    "result"
   ]
  },
  {
   "cell_type": "code",
   "execution_count": 83,
   "metadata": {},
   "outputs": [],
   "source": [
    "result.to_csv('./Data/keywords(week).csv', index=False)"
   ]
  },
  {
   "cell_type": "code",
   "execution_count": 84,
   "metadata": {},
   "outputs": [],
   "source": [
    "import pymysql"
   ]
  },
  {
   "cell_type": "code",
   "execution_count": 85,
   "metadata": {},
   "outputs": [
    {
     "data": {
      "text/html": [
       "<div>\n",
       "<style scoped>\n",
       "    .dataframe tbody tr th:only-of-type {\n",
       "        vertical-align: middle;\n",
       "    }\n",
       "\n",
       "    .dataframe tbody tr th {\n",
       "        vertical-align: top;\n",
       "    }\n",
       "\n",
       "    .dataframe thead th {\n",
       "        text-align: right;\n",
       "    }\n",
       "</style>\n",
       "<table border=\"1\" class=\"dataframe\">\n",
       "  <thead>\n",
       "    <tr style=\"text-align: right;\">\n",
       "      <th></th>\n",
       "      <th>date_start</th>\n",
       "      <th>date_end</th>\n",
       "      <th>category</th>\n",
       "      <th>keyword</th>\n",
       "      <th>importance</th>\n",
       "    </tr>\n",
       "  </thead>\n",
       "  <tbody>\n",
       "    <tr>\n",
       "      <th>0</th>\n",
       "      <td>2022.10.24</td>\n",
       "      <td>2022.10.30</td>\n",
       "      <td>국제</td>\n",
       "      <td>대륙간탄도미사일</td>\n",
       "      <td>0.8705</td>\n",
       "    </tr>\n",
       "    <tr>\n",
       "      <th>1</th>\n",
       "      <td>2022.10.24</td>\n",
       "      <td>2022.10.30</td>\n",
       "      <td>국제</td>\n",
       "      <td>원자력발전소</td>\n",
       "      <td>0.8624</td>\n",
       "    </tr>\n",
       "    <tr>\n",
       "      <th>2</th>\n",
       "      <td>2022.10.24</td>\n",
       "      <td>2022.10.30</td>\n",
       "      <td>국제</td>\n",
       "      <td>소셜네트워크서비스</td>\n",
       "      <td>0.8542</td>\n",
       "    </tr>\n",
       "    <tr>\n",
       "      <th>3</th>\n",
       "      <td>2022.10.24</td>\n",
       "      <td>2022.10.30</td>\n",
       "      <td>국제</td>\n",
       "      <td>독립국가연합</td>\n",
       "      <td>0.8463</td>\n",
       "    </tr>\n",
       "    <tr>\n",
       "      <th>4</th>\n",
       "      <td>2022.10.24</td>\n",
       "      <td>2022.10.30</td>\n",
       "      <td>국제</td>\n",
       "      <td>로스앤젤레스</td>\n",
       "      <td>0.8378</td>\n",
       "    </tr>\n",
       "    <tr>\n",
       "      <th>...</th>\n",
       "      <td>...</td>\n",
       "      <td>...</td>\n",
       "      <td>...</td>\n",
       "      <td>...</td>\n",
       "      <td>...</td>\n",
       "    </tr>\n",
       "    <tr>\n",
       "      <th>135</th>\n",
       "      <td>2022.10.24</td>\n",
       "      <td>2022.10.30</td>\n",
       "      <td>연예</td>\n",
       "      <td>쇼트프로그램</td>\n",
       "      <td>0.7943</td>\n",
       "    </tr>\n",
       "    <tr>\n",
       "      <th>136</th>\n",
       "      <td>2022.10.24</td>\n",
       "      <td>2022.10.30</td>\n",
       "      <td>연예</td>\n",
       "      <td>엠씨더맥스</td>\n",
       "      <td>0.7932</td>\n",
       "    </tr>\n",
       "    <tr>\n",
       "      <th>137</th>\n",
       "      <td>2022.10.24</td>\n",
       "      <td>2022.10.30</td>\n",
       "      <td>연예</td>\n",
       "      <td>스타크래프트</td>\n",
       "      <td>0.7892</td>\n",
       "    </tr>\n",
       "    <tr>\n",
       "      <th>138</th>\n",
       "      <td>2022.10.24</td>\n",
       "      <td>2022.10.30</td>\n",
       "      <td>연예</td>\n",
       "      <td>도로교통법</td>\n",
       "      <td>0.7780</td>\n",
       "    </tr>\n",
       "    <tr>\n",
       "      <th>139</th>\n",
       "      <td>2022.10.24</td>\n",
       "      <td>2022.10.30</td>\n",
       "      <td>연예</td>\n",
       "      <td>숙명여대</td>\n",
       "      <td>0.7768</td>\n",
       "    </tr>\n",
       "  </tbody>\n",
       "</table>\n",
       "<p>140 rows × 5 columns</p>\n",
       "</div>"
      ],
      "text/plain": [
       "     date_start    date_end category    keyword  importance\n",
       "0    2022.10.24  2022.10.30       국제   대륙간탄도미사일      0.8705\n",
       "1    2022.10.24  2022.10.30       국제     원자력발전소      0.8624\n",
       "2    2022.10.24  2022.10.30       국제  소셜네트워크서비스      0.8542\n",
       "3    2022.10.24  2022.10.30       국제     독립국가연합      0.8463\n",
       "4    2022.10.24  2022.10.30       국제     로스앤젤레스      0.8378\n",
       "..          ...         ...      ...        ...         ...\n",
       "135  2022.10.24  2022.10.30       연예     쇼트프로그램      0.7943\n",
       "136  2022.10.24  2022.10.30       연예      엠씨더맥스      0.7932\n",
       "137  2022.10.24  2022.10.30       연예     스타크래프트      0.7892\n",
       "138  2022.10.24  2022.10.30       연예      도로교통법      0.7780\n",
       "139  2022.10.24  2022.10.30       연예       숙명여대      0.7768\n",
       "\n",
       "[140 rows x 5 columns]"
      ]
     },
     "execution_count": 85,
     "metadata": {},
     "output_type": "execute_result"
    }
   ],
   "source": [
    "keywords = pd.read_csv('./Data/keywords(week).csv')\n",
    "\n",
    "keywords"
   ]
  },
  {
   "cell_type": "code",
   "execution_count": 88,
   "metadata": {},
   "outputs": [],
   "source": [
    "sql_insert = 'INSERT INTO keywords_week (date_start, date_end, category, keyword, importance) VALUES (%s, %s, %s, %s, %s)'"
   ]
  },
  {
   "cell_type": "code",
   "execution_count": 89,
   "metadata": {},
   "outputs": [],
   "source": [
    "conn = pymysql.connect(host='localhost', user='root', password='1234', db='dins', charset='utf8')\n",
    "cursor = conn.cursor()\n",
    "\n",
    "\n",
    "for index, row in keywords.iterrows():\n",
    "    cursor.execute(sql_insert, (row.date_start, row.date_end, row.category, row.keyword, row.importance))\n",
    "\n",
    "conn.commit()\n",
    "conn.close()"
   ]
  },
  {
   "cell_type": "code",
   "execution_count": 106,
   "metadata": {},
   "outputs": [],
   "source": [
    "# keywords = model.extract_keywords(contents_nouns, keyphrase_ngram_range=(1,1), top_n=15, use_mmr=True)\n",
    "\n",
    "# keywords"
   ]
  }
 ],
 "metadata": {
  "kernelspec": {
   "display_name": "Python 3.7.13 ('DINS')",
   "language": "python",
   "name": "python3"
  },
  "language_info": {
   "codemirror_mode": {
    "name": "ipython",
    "version": 3
   },
   "file_extension": ".py",
   "mimetype": "text/x-python",
   "name": "python",
   "nbconvert_exporter": "python",
   "pygments_lexer": "ipython3",
   "version": "3.7.13"
  },
  "orig_nbformat": 4,
  "vscode": {
   "interpreter": {
    "hash": "e590ccd7b691ab80e99d866104013fd94fd750e462d26c4ca346d9f79ec019e5"
   }
  }
 },
 "nbformat": 4,
 "nbformat_minor": 2
}
