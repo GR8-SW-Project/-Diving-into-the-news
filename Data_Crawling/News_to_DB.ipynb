{
 "cells": [
  {
   "cell_type": "code",
   "execution_count": 1,
   "metadata": {},
   "outputs": [],
   "source": [
    "import pymysql\n",
    "import pandas as pd"
   ]
  },
  {
   "cell_type": "code",
   "execution_count": 2,
   "metadata": {},
   "outputs": [],
   "source": [
    "news = pd.read_csv('./Data/kbs.csv')"
   ]
  },
  {
   "cell_type": "code",
   "execution_count": 3,
   "metadata": {},
   "outputs": [],
   "source": [
    "sql_insert = 'INSERT INTO news (title, headline, date_news, news_link, content, category, site) VALUES (%s, %s, %s, %s, %s, %s, %s)'"
   ]
  },
  {
   "cell_type": "code",
   "execution_count": 4,
   "metadata": {},
   "outputs": [],
   "source": [
    "conn = pymysql.connect(host='localhost', user='root', password='1234', db='dins', charset='utf8')\n",
    "cursor = conn.cursor()\n",
    "\n",
    "\n",
    "for index, row in news.iterrows():\n",
    "    cursor.execute(sql_insert, (row.title, row.headline, row.date, row.news_link, row.content, row.category, row.site))\n",
    "\n",
    "conn.commit()\n",
    "conn.close()"
   ]
  },
  {
   "cell_type": "code",
   "execution_count": 5,
   "metadata": {},
   "outputs": [
    {
     "name": "stdout",
     "output_type": "stream",
     "text": [
      "BTS \"웰컴 제네레이션…변화에 겁먹지 않고 새로운 길로\" 미국 뉴욕을 찾은 방탄소년단, BTS가 \"지금 청년들은 변화에 겁먹기보단 '웰컴'이라고 말하며 앞으로 걸어나가는 세대\"라며 코로나19로 어려운 상황에서도 긍정적인 에너지로 일상을 채워나가자는 메시지를 냈습니다. 2021.09.20 22:09 https://news.sbs.co.kr//news/endPage.do?news_id=N1006471883   미국 뉴욕을 찾은 방탄소년단, BTS가 \"지금 청년들은 변화에 겁먹기보단 '웰컴'이라고 말하며 앞으로 걸어나가는 세대\"라며 코로나19로 어려운 상황에서도 긍정적인 에너지로 일상을 채워나가자는 메시지를 냈습니다.   BTS는 뉴욕 유엔 총회장에서 열린 지속가능발전목표 고위급 회의, SDG 모멘트 행사에 '미래세대와 문화를 위한 대통령 특별사절'이자 세계 청년들 대표 자격으로 초청돼 7명의 멤버가 한 명씩 돌아가며 발언하는 방식으로 연설을 했습니다.   진은 \"지난 2년 저도 당혹스럽고 막막한 기분이 들었다\"면서도 \"그러나 '렛츠 리브 온! 지금을 잘 살아가자!'고 외치는 분들이 있었다\"고 말했습니다.   RM은 \"지금의 10대, 20대에 대해 길을 잃게 됐단 의미에서 '코로나 로스트 제너레이션'으로 부르기도 한다고 들었다\"면서도 \"그러나 어른들 눈에 보이지 않는다고 해서 길을 잃었다고 말할 수는 없을 것\"이라고 말했습니다.   뷔도 \"우리의 미래에 대해 너무 어둡게만 생각하진 않았으면 좋겠다\"고 했고, 지민도 공부를 하거나 운동을 하는 청년들의 사진을 보며 \"길을 잃었다기보다 새로 용기를 내고 도전 중인 모습으로 보인다\"고 전했습니다.   진은 \"그런 의미에서 '로스트 제너레이션'이 아니라 '웰컴 제너레이션'이라는 이름이 더 어울리는 것 같다. 변화에 겁먹기보단 '웰컴'이라고 말하면서 앞으로 걸어 나가는 세대\"라고 강조했습니다.   그러자 RM은 \"가능성과 희망을 믿으면 예상 밖의 상황에서도 길을 잃는 게 아니라 새로운 길을 발견할 것\"이라며 \"새로 시작되는 세상에서 서로에게 '웰컴'이라고 말해줬으면 좋겠다\"고 화답했습니다.   백신과 관련해서는 제이홉이 \"저희 7명 모두 백신을 맞았다\"고 했고, RM은 \"백신 접종은 저희를 기다리는 팬들을 만나기 위한 티켓\"이라며 \"우리는 우리가 지금 할 수 있는 것들을 하는 중\"이라고 말했습니다.   뷔는 \"다시 얼굴을 마주할 날도 멀지 않았다\"며 \"그때까지 모두 긍정적인 에너지로 일상을 채워가자\"고 격려했습니다.   국제 kbs\n"
     ]
    }
   ],
   "source": [
    "i = 0\n",
    "for index, row in news.iterrows():\n",
    "    if i == 1:\n",
    "        break\n",
    "    print(row.title, row.headline, row.date, row.news_link, row.content, row.category, row.site)\n",
    "    i += 1"
   ]
  },
  {
   "cell_type": "code",
   "execution_count": 116,
   "metadata": {},
   "outputs": [],
   "source": [
    "sql_zero = \"ALTER TABLE news AUTO_INCREMENT=0;\""
   ]
  },
  {
   "cell_type": "code",
   "execution_count": 117,
   "metadata": {},
   "outputs": [],
   "source": [
    "conn = pymysql.connect(host='localhost', user='root', password='1234', db='dins', charset='utf8')\n",
    "cursor = conn.cursor()\n",
    "\n",
    "cursor.execute(sql_zero)\n",
    "\n",
    "conn.commit()\n",
    "conn.close()"
   ]
  },
  {
   "cell_type": "code",
   "execution_count": 6,
   "metadata": {},
   "outputs": [
    {
     "ename": "InterfaceError",
     "evalue": "(0, '')",
     "output_type": "error",
     "traceback": [
      "\u001b[1;31m---------------------------------------------------------------------------\u001b[0m",
      "\u001b[1;31mInterfaceError\u001b[0m                            Traceback (most recent call last)",
      "\u001b[1;32m~\\AppData\\Local\\Temp\\ipykernel_3548\\2680552474.py\u001b[0m in \u001b[0;36m<module>\u001b[1;34m\u001b[0m\n\u001b[1;32m----> 1\u001b[1;33m \u001b[0mconn\u001b[0m\u001b[1;33m.\u001b[0m\u001b[0mcommit\u001b[0m\u001b[1;33m(\u001b[0m\u001b[1;33m)\u001b[0m\u001b[1;33m\u001b[0m\u001b[1;33m\u001b[0m\u001b[0m\n\u001b[0m\u001b[0;32m      2\u001b[0m \u001b[0mconn\u001b[0m\u001b[1;33m.\u001b[0m\u001b[0mclose\u001b[0m\u001b[1;33m(\u001b[0m\u001b[1;33m)\u001b[0m\u001b[1;33m\u001b[0m\u001b[1;33m\u001b[0m\u001b[0m\n",
      "\u001b[1;32mc:\\ProgramData\\Anaconda3\\envs\\DINS\\lib\\site-packages\\pymysql\\connections.py\u001b[0m in \u001b[0;36mcommit\u001b[1;34m(self)\u001b[0m\n\u001b[0;32m    467\u001b[0m         \u001b[1;32min\u001b[0m \u001b[0mthe\u001b[0m \u001b[0mspecification\u001b[0m\u001b[1;33m.\u001b[0m\u001b[1;33m\u001b[0m\u001b[1;33m\u001b[0m\u001b[0m\n\u001b[0;32m    468\u001b[0m         \"\"\"\n\u001b[1;32m--> 469\u001b[1;33m         \u001b[0mself\u001b[0m\u001b[1;33m.\u001b[0m\u001b[0m_execute_command\u001b[0m\u001b[1;33m(\u001b[0m\u001b[0mCOMMAND\u001b[0m\u001b[1;33m.\u001b[0m\u001b[0mCOM_QUERY\u001b[0m\u001b[1;33m,\u001b[0m \u001b[1;34m\"COMMIT\"\u001b[0m\u001b[1;33m)\u001b[0m\u001b[1;33m\u001b[0m\u001b[1;33m\u001b[0m\u001b[0m\n\u001b[0m\u001b[0;32m    470\u001b[0m         \u001b[0mself\u001b[0m\u001b[1;33m.\u001b[0m\u001b[0m_read_ok_packet\u001b[0m\u001b[1;33m(\u001b[0m\u001b[1;33m)\u001b[0m\u001b[1;33m\u001b[0m\u001b[1;33m\u001b[0m\u001b[0m\n\u001b[0;32m    471\u001b[0m \u001b[1;33m\u001b[0m\u001b[0m\n",
      "\u001b[1;32mc:\\ProgramData\\Anaconda3\\envs\\DINS\\lib\\site-packages\\pymysql\\connections.py\u001b[0m in \u001b[0;36m_execute_command\u001b[1;34m(self, command, sql)\u001b[0m\n\u001b[0;32m    791\u001b[0m         \"\"\"\n\u001b[0;32m    792\u001b[0m         \u001b[1;32mif\u001b[0m \u001b[1;32mnot\u001b[0m \u001b[0mself\u001b[0m\u001b[1;33m.\u001b[0m\u001b[0m_sock\u001b[0m\u001b[1;33m:\u001b[0m\u001b[1;33m\u001b[0m\u001b[1;33m\u001b[0m\u001b[0m\n\u001b[1;32m--> 793\u001b[1;33m             \u001b[1;32mraise\u001b[0m \u001b[0merr\u001b[0m\u001b[1;33m.\u001b[0m\u001b[0mInterfaceError\u001b[0m\u001b[1;33m(\u001b[0m\u001b[1;36m0\u001b[0m\u001b[1;33m,\u001b[0m \u001b[1;34m\"\"\u001b[0m\u001b[1;33m)\u001b[0m\u001b[1;33m\u001b[0m\u001b[1;33m\u001b[0m\u001b[0m\n\u001b[0m\u001b[0;32m    794\u001b[0m \u001b[1;33m\u001b[0m\u001b[0m\n\u001b[0;32m    795\u001b[0m         \u001b[1;31m# If the last query was unbuffered, make sure it finishes before\u001b[0m\u001b[1;33m\u001b[0m\u001b[1;33m\u001b[0m\u001b[1;33m\u001b[0m\u001b[0m\n",
      "\u001b[1;31mInterfaceError\u001b[0m: (0, '')"
     ]
    }
   ],
   "source": [
    "conn.commit()\n",
    "conn.close()"
   ]
  },
  {
   "cell_type": "code",
   "execution_count": null,
   "metadata": {},
   "outputs": [],
   "source": []
  }
 ],
 "metadata": {
  "kernelspec": {
   "display_name": "Python 3.7.13 ('DINS')",
   "language": "python",
   "name": "python3"
  },
  "language_info": {
   "codemirror_mode": {
    "name": "ipython",
    "version": 3
   },
   "file_extension": ".py",
   "mimetype": "text/x-python",
   "name": "python",
   "nbconvert_exporter": "python",
   "pygments_lexer": "ipython3",
   "version": "3.7.13"
  },
  "orig_nbformat": 4,
  "vscode": {
   "interpreter": {
    "hash": "e590ccd7b691ab80e99d866104013fd94fd750e462d26c4ca346d9f79ec019e5"
   }
  }
 },
 "nbformat": 4,
 "nbformat_minor": 2
}
