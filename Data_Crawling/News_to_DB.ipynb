{
 "cells": [
  {
   "cell_type": "code",
   "execution_count": 2,
   "metadata": {},
   "outputs": [],
   "source": [
    "import pymysql\n",
    "import pandas as pd"
   ]
  },
  {
   "cell_type": "code",
   "execution_count": 3,
   "metadata": {},
   "outputs": [],
   "source": [
    "news = pd.read_csv('../Data/SBS.csv')"
   ]
  },
  {
   "cell_type": "code",
   "execution_count": 6,
   "metadata": {},
   "outputs": [
    {
     "data": {
      "text/html": [
       "<div>\n",
       "<style scoped>\n",
       "    .dataframe tbody tr th:only-of-type {\n",
       "        vertical-align: middle;\n",
       "    }\n",
       "\n",
       "    .dataframe tbody tr th {\n",
       "        vertical-align: top;\n",
       "    }\n",
       "\n",
       "    .dataframe thead th {\n",
       "        text-align: right;\n",
       "    }\n",
       "</style>\n",
       "<table border=\"1\" class=\"dataframe\">\n",
       "  <thead>\n",
       "    <tr style=\"text-align: right;\">\n",
       "      <th></th>\n",
       "      <th>title</th>\n",
       "      <th>headline</th>\n",
       "      <th>date</th>\n",
       "      <th>news_link</th>\n",
       "      <th>content</th>\n",
       "      <th>category</th>\n",
       "      <th>site</th>\n",
       "    </tr>\n",
       "  </thead>\n",
       "  <tbody>\n",
       "    <tr>\n",
       "      <th>78237</th>\n",
       "      <td>수원서 달리던 화물차에서 화재…인명 피해 없어</td>\n",
       "      <td>오늘 오후 5시 10분쯤 서울 영통구 매탄동의 한 사거리를 달리던 1톤 화물차에서 ...</td>\n",
       "      <td>2022.09.13 23:50</td>\n",
       "      <td>https://news.sbs.co.kr//news/endPage.do?news_i...</td>\n",
       "      <td>오늘(13일) 오후 5시 10분쯤 서울 영통구 매탄동의 한 사거리를 달리던 1톤...</td>\n",
       "      <td>사회</td>\n",
       "      <td>sbs</td>\n",
       "    </tr>\n",
       "    <tr>\n",
       "      <th>78238</th>\n",
       "      <td>이란 남부 원유시설서 화재…업체 대표 \"정체불명 세력이 방화\"</td>\n",
       "      <td>이란 남부 원유시설에서 불이 나 한때 생산이 중단됐다고 현지 언론이 13일 보도했습...</td>\n",
       "      <td>2022.09.13 23:48</td>\n",
       "      <td>https://news.sbs.co.kr//news/endPage.do?news_i...</td>\n",
       "      <td>이란 남부 원유시설에서 불이 나 한때 생산이 중단됐다고 현지 언론이 13일(현지...</td>\n",
       "      <td>국제</td>\n",
       "      <td>sbs</td>\n",
       "    </tr>\n",
       "    <tr>\n",
       "      <th>78239</th>\n",
       "      <td>'누벨바그 거장' 고다르 91세로 별세</td>\n",
       "      <td>고다르는 이날 스위스 로잔 인근의 소도시 롤레의 자택에서 영화감독인 배우자 안느 마...</td>\n",
       "      <td>2022.09.13 23:47</td>\n",
       "      <td>https://news.sbs.co.kr//news/endPage.do?news_i...</td>\n",
       "      <td>▲ 1966년 베를린 국제 영화제에서 프랑스 영화 감독 장뤼크 고다르 누벨바그 사조...</td>\n",
       "      <td>국제</td>\n",
       "      <td>sbs</td>\n",
       "    </tr>\n",
       "    <tr>\n",
       "      <th>78240</th>\n",
       "      <td>하르키우 대패한 러 \"동원령 고려 안 해\" 재확인…내부 여론은 분열</td>\n",
       "      <td>러시아가 최근 우크라이나 동북부 하르키우주에서의 대패에도 불구하고 동원령은 없을 것...</td>\n",
       "      <td>2022.09.13 23:39</td>\n",
       "      <td>https://news.sbs.co.kr//news/endPage.do?news_i...</td>\n",
       "      <td>러시아가 최근 우크라이나 동북부 하르키우주에서의 대패에도 불구하고 동원령은 없을...</td>\n",
       "      <td>국제</td>\n",
       "      <td>sbs</td>\n",
       "    </tr>\n",
       "    <tr>\n",
       "      <th>78241</th>\n",
       "      <td>중국, 또 타이완 주변 무력시위…\"군용기 2대 타이완해협 중간선 진입\"</td>\n",
       "      <td>타이완 국방부는 홈페이지를 통해 이날 오후 5시까지 타이완 주변에서 중국군 소속 군...</td>\n",
       "      <td>2022.09.13 23:37</td>\n",
       "      <td>https://news.sbs.co.kr//news/endPage.do?news_i...</td>\n",
       "      <td>▲ 중국 전투기 J-10 중국이 오늘(13일)에도 군용기와 군함을 동원해 타이완 주...</td>\n",
       "      <td>국제</td>\n",
       "      <td>sbs</td>\n",
       "    </tr>\n",
       "    <tr>\n",
       "      <th>...</th>\n",
       "      <td>...</td>\n",
       "      <td>...</td>\n",
       "      <td>...</td>\n",
       "      <td>...</td>\n",
       "      <td>...</td>\n",
       "      <td>...</td>\n",
       "      <td>...</td>\n",
       "    </tr>\n",
       "    <tr>\n",
       "      <th>78478</th>\n",
       "      <td>[포토] 한가위 지나 찾아온 가을의 향기…'주홍빛'으로 물들다</td>\n",
       "      <td>대한민국 뉴스의 기준, 중심을 지키는 저널리즘 SBS뉴스 - 시청자의 눈높이에 맞는...</td>\n",
       "      <td>2022.09.13 04:17</td>\n",
       "      <td>https://news.sbs.co.kr//news/endPage.do?news_i...</td>\n",
       "      <td>이미지 확대하기이미지 확대하기이미지 확대하기이미지 확대하기추석 연휴 마지막 날인 1...</td>\n",
       "      <td>사회</td>\n",
       "      <td>sbs</td>\n",
       "    </tr>\n",
       "    <tr>\n",
       "      <th>78479</th>\n",
       "      <td>[포토] 추석 연휴 끝, 이젠 일상으로…귀경길 '북적북적'</td>\n",
       "      <td>대한민국 뉴스의 기준, 중심을 지키는 저널리즘 SBS뉴스 - 시청자의 눈높이에 맞는...</td>\n",
       "      <td>2022.09.13 03:20</td>\n",
       "      <td>https://news.sbs.co.kr//news/endPage.do?news_i...</td>\n",
       "      <td>이미지 확대하기이미지 확대하기추석 연휴 마지막 날인 12일, 귀경길에 오른 사람들과...</td>\n",
       "      <td>사회</td>\n",
       "      <td>sbs</td>\n",
       "    </tr>\n",
       "    <tr>\n",
       "      <th>78480</th>\n",
       "      <td>서울 견지동 식당에서 화재…인명피해 없어</td>\n",
       "      <td>어젯밤 9시 반쯤 서울 종로구 견지동의 한 식당 주방에서 불이 났습니다. 인명피해 ...</td>\n",
       "      <td>2022.09.13 02:35</td>\n",
       "      <td>https://news.sbs.co.kr//news/endPage.do?news_i...</td>\n",
       "      <td>어젯(12일)밤 9시 반쯤 서울 종로구 견지동의 한 식당 주방에서 불이 났습니다...</td>\n",
       "      <td>사회</td>\n",
       "      <td>sbs</td>\n",
       "    </tr>\n",
       "    <tr>\n",
       "      <th>78481</th>\n",
       "      <td>엘리자베스 여왕 에든버러서 추도 예배…여왕의 관 일반에 처음 공개</td>\n",
       "      <td>스코틀랜드 밸모럴 성을 떠나 에든버러에 도착한 고 엘리자베스 2세 영국 여왕의 관이...</td>\n",
       "      <td>2022.09.13 01:19</td>\n",
       "      <td>https://news.sbs.co.kr//news/endPage.do?news_i...</td>\n",
       "      <td>스코틀랜드 밸모럴 성을 떠나 에든버러에 도착한 고 엘리자베스 2세 영국 여왕의 ...</td>\n",
       "      <td>국제</td>\n",
       "      <td>sbs</td>\n",
       "    </tr>\n",
       "    <tr>\n",
       "      <th>78482</th>\n",
       "      <td>미국, 바이오 분야도 '국내 생산' 강조…\"지나친 해외 의존\" 중국 견제</td>\n",
       "      <td>미국 정부가 바이오 의약품 등 생명공학 분야에서도 미국 내 연구와 제조를 강조하고 ...</td>\n",
       "      <td>2022.09.13 00:38</td>\n",
       "      <td>https://news.sbs.co.kr//news/endPage.do?news_i...</td>\n",
       "      <td>미국 정부가 바이오 의약품 등 생명공학 분야에서도 미국 내 연구와 제조를 강조하...</td>\n",
       "      <td>국제</td>\n",
       "      <td>sbs</td>\n",
       "    </tr>\n",
       "  </tbody>\n",
       "</table>\n",
       "<p>246 rows × 7 columns</p>\n",
       "</div>"
      ],
      "text/plain": [
       "                                          title  \\\n",
       "78237                 수원서 달리던 화물차에서 화재…인명 피해 없어   \n",
       "78238        이란 남부 원유시설서 화재…업체 대표 \"정체불명 세력이 방화\"   \n",
       "78239                     '누벨바그 거장' 고다르 91세로 별세   \n",
       "78240     하르키우 대패한 러 \"동원령 고려 안 해\" 재확인…내부 여론은 분열   \n",
       "78241   중국, 또 타이완 주변 무력시위…\"군용기 2대 타이완해협 중간선 진입\"   \n",
       "...                                         ...   \n",
       "78478        [포토] 한가위 지나 찾아온 가을의 향기…'주홍빛'으로 물들다   \n",
       "78479          [포토] 추석 연휴 끝, 이젠 일상으로…귀경길 '북적북적'   \n",
       "78480                    서울 견지동 식당에서 화재…인명피해 없어   \n",
       "78481      엘리자베스 여왕 에든버러서 추도 예배…여왕의 관 일반에 처음 공개   \n",
       "78482  미국, 바이오 분야도 '국내 생산' 강조…\"지나친 해외 의존\" 중국 견제   \n",
       "\n",
       "                                                headline              date  \\\n",
       "78237  오늘 오후 5시 10분쯤 서울 영통구 매탄동의 한 사거리를 달리던 1톤 화물차에서 ...  2022.09.13 23:50   \n",
       "78238  이란 남부 원유시설에서 불이 나 한때 생산이 중단됐다고 현지 언론이 13일 보도했습...  2022.09.13 23:48   \n",
       "78239  고다르는 이날 스위스 로잔 인근의 소도시 롤레의 자택에서 영화감독인 배우자 안느 마...  2022.09.13 23:47   \n",
       "78240  러시아가 최근 우크라이나 동북부 하르키우주에서의 대패에도 불구하고 동원령은 없을 것...  2022.09.13 23:39   \n",
       "78241  타이완 국방부는 홈페이지를 통해 이날 오후 5시까지 타이완 주변에서 중국군 소속 군...  2022.09.13 23:37   \n",
       "...                                                  ...               ...   \n",
       "78478  대한민국 뉴스의 기준, 중심을 지키는 저널리즘 SBS뉴스 - 시청자의 눈높이에 맞는...  2022.09.13 04:17   \n",
       "78479  대한민국 뉴스의 기준, 중심을 지키는 저널리즘 SBS뉴스 - 시청자의 눈높이에 맞는...  2022.09.13 03:20   \n",
       "78480  어젯밤 9시 반쯤 서울 종로구 견지동의 한 식당 주방에서 불이 났습니다. 인명피해 ...  2022.09.13 02:35   \n",
       "78481  스코틀랜드 밸모럴 성을 떠나 에든버러에 도착한 고 엘리자베스 2세 영국 여왕의 관이...  2022.09.13 01:19   \n",
       "78482  미국 정부가 바이오 의약품 등 생명공학 분야에서도 미국 내 연구와 제조를 강조하고 ...  2022.09.13 00:38   \n",
       "\n",
       "                                               news_link  \\\n",
       "78237  https://news.sbs.co.kr//news/endPage.do?news_i...   \n",
       "78238  https://news.sbs.co.kr//news/endPage.do?news_i...   \n",
       "78239  https://news.sbs.co.kr//news/endPage.do?news_i...   \n",
       "78240  https://news.sbs.co.kr//news/endPage.do?news_i...   \n",
       "78241  https://news.sbs.co.kr//news/endPage.do?news_i...   \n",
       "...                                                  ...   \n",
       "78478  https://news.sbs.co.kr//news/endPage.do?news_i...   \n",
       "78479  https://news.sbs.co.kr//news/endPage.do?news_i...   \n",
       "78480  https://news.sbs.co.kr//news/endPage.do?news_i...   \n",
       "78481  https://news.sbs.co.kr//news/endPage.do?news_i...   \n",
       "78482  https://news.sbs.co.kr//news/endPage.do?news_i...   \n",
       "\n",
       "                                                 content category site  \n",
       "78237    오늘(13일) 오후 5시 10분쯤 서울 영통구 매탄동의 한 사거리를 달리던 1톤...       사회  sbs  \n",
       "78238    이란 남부 원유시설에서 불이 나 한때 생산이 중단됐다고 현지 언론이 13일(현지...       국제  sbs  \n",
       "78239  ▲ 1966년 베를린 국제 영화제에서 프랑스 영화 감독 장뤼크 고다르 누벨바그 사조...       국제  sbs  \n",
       "78240    러시아가 최근 우크라이나 동북부 하르키우주에서의 대패에도 불구하고 동원령은 없을...       국제  sbs  \n",
       "78241  ▲ 중국 전투기 J-10 중국이 오늘(13일)에도 군용기와 군함을 동원해 타이완 주...       국제  sbs  \n",
       "...                                                  ...      ...  ...  \n",
       "78478  이미지 확대하기이미지 확대하기이미지 확대하기이미지 확대하기추석 연휴 마지막 날인 1...       사회  sbs  \n",
       "78479  이미지 확대하기이미지 확대하기추석 연휴 마지막 날인 12일, 귀경길에 오른 사람들과...       사회  sbs  \n",
       "78480    어젯(12일)밤 9시 반쯤 서울 종로구 견지동의 한 식당 주방에서 불이 났습니다...       사회  sbs  \n",
       "78481    스코틀랜드 밸모럴 성을 떠나 에든버러에 도착한 고 엘리자베스 2세 영국 여왕의 ...       국제  sbs  \n",
       "78482    미국 정부가 바이오 의약품 등 생명공학 분야에서도 미국 내 연구와 제조를 강조하...       국제  sbs  \n",
       "\n",
       "[246 rows x 7 columns]"
      ]
     },
     "execution_count": 6,
     "metadata": {},
     "output_type": "execute_result"
    }
   ],
   "source": [
    "news.loc[news.date.str.contains('2022.09.13')] # 78237"
   ]
  },
  {
   "cell_type": "code",
   "execution_count": 7,
   "metadata": {},
   "outputs": [],
   "source": [
    "# news.loc[news.date.str.contains('2022.09.19')]"
   ]
  },
  {
   "cell_type": "code",
   "execution_count": null,
   "metadata": {},
   "outputs": [
    {
     "data": {
      "text/plain": [
       "252"
      ]
     },
     "metadata": {},
     "output_type": "display_data"
    }
   ],
   "source": [
    "# news_sep = news.iloc[79573:]\n",
    "# len(news_sep)"
   ]
  },
  {
   "cell_type": "code",
   "execution_count": 12,
   "metadata": {},
   "outputs": [
    {
     "data": {
      "text/plain": [
       "1588"
      ]
     },
     "execution_count": 12,
     "metadata": {},
     "output_type": "execute_result"
    }
   ],
   "source": [
    "news_sep = news.iloc[78237:]\n",
    "len(news_sep)"
   ]
  },
  {
   "cell_type": "code",
   "execution_count": 10,
   "metadata": {},
   "outputs": [],
   "source": [
    "sql_insert = 'INSERT INTO news (title, headline, date, link, content, category, site) VALUES (%s, %s, %s, %s, %s, %s, %s)'"
   ]
  },
  {
   "cell_type": "code",
   "execution_count": 13,
   "metadata": {},
   "outputs": [],
   "source": [
    "conn = pymysql.connect(host='localhost', user='root', password='1234', db='dins', charset='utf8')\n",
    "cursor = conn.cursor()\n",
    "\n",
    "\n",
    "for index, row in news_sep.iterrows():\n",
    "    cursor.execute(sql_insert, (row.title, row.headline, row.date, row.link, row.content, row.category, row.site))\n",
    "\n",
    "conn.commit()\n",
    "conn.close()"
   ]
  },
  {
   "cell_type": "code",
   "execution_count": null,
   "metadata": {},
   "outputs": [
    {
     "name": "stdout",
     "output_type": "stream",
     "text": [
      "BTS \"웰컴 제네레이션…변화에 겁먹지 않고 새로운 길로\" 미국 뉴욕을 찾은 방탄소년단, BTS가 \"지금 청년들은 변화에 겁먹기보단 '웰컴'이라고 말하며 앞으로 걸어나가는 세대\"라며 코로나19로 어려운 상황에서도 긍정적인 에너지로 일상을 채워나가자는 메시지를 냈습니다. 2021.09.20 22:09 https://news.sbs.co.kr//news/endPage.do?news_id=N1006471883   미국 뉴욕을 찾은 방탄소년단, BTS가 \"지금 청년들은 변화에 겁먹기보단 '웰컴'이라고 말하며 앞으로 걸어나가는 세대\"라며 코로나19로 어려운 상황에서도 긍정적인 에너지로 일상을 채워나가자는 메시지를 냈습니다.   BTS는 뉴욕 유엔 총회장에서 열린 지속가능발전목표 고위급 회의, SDG 모멘트 행사에 '미래세대와 문화를 위한 대통령 특별사절'이자 세계 청년들 대표 자격으로 초청돼 7명의 멤버가 한 명씩 돌아가며 발언하는 방식으로 연설을 했습니다.   진은 \"지난 2년 저도 당혹스럽고 막막한 기분이 들었다\"면서도 \"그러나 '렛츠 리브 온! 지금을 잘 살아가자!'고 외치는 분들이 있었다\"고 말했습니다.   RM은 \"지금의 10대, 20대에 대해 길을 잃게 됐단 의미에서 '코로나 로스트 제너레이션'으로 부르기도 한다고 들었다\"면서도 \"그러나 어른들 눈에 보이지 않는다고 해서 길을 잃었다고 말할 수는 없을 것\"이라고 말했습니다.   뷔도 \"우리의 미래에 대해 너무 어둡게만 생각하진 않았으면 좋겠다\"고 했고, 지민도 공부를 하거나 운동을 하는 청년들의 사진을 보며 \"길을 잃었다기보다 새로 용기를 내고 도전 중인 모습으로 보인다\"고 전했습니다.   진은 \"그런 의미에서 '로스트 제너레이션'이 아니라 '웰컴 제너레이션'이라는 이름이 더 어울리는 것 같다. 변화에 겁먹기보단 '웰컴'이라고 말하면서 앞으로 걸어 나가는 세대\"라고 강조했습니다.   그러자 RM은 \"가능성과 희망을 믿으면 예상 밖의 상황에서도 길을 잃는 게 아니라 새로운 길을 발견할 것\"이라며 \"새로 시작되는 세상에서 서로에게 '웰컴'이라고 말해줬으면 좋겠다\"고 화답했습니다.   백신과 관련해서는 제이홉이 \"저희 7명 모두 백신을 맞았다\"고 했고, RM은 \"백신 접종은 저희를 기다리는 팬들을 만나기 위한 티켓\"이라며 \"우리는 우리가 지금 할 수 있는 것들을 하는 중\"이라고 말했습니다.   뷔는 \"다시 얼굴을 마주할 날도 멀지 않았다\"며 \"그때까지 모두 긍정적인 에너지로 일상을 채워가자\"고 격려했습니다.   국제 kbs\n"
     ]
    }
   ],
   "source": [
    "# i = 0\n",
    "# for index, row in news.iterrows():\n",
    "#     if i == 1:\n",
    "#         break\n",
    "#     print(row.title, row.headline, row.date, row.news_link, row.content, row.category, row.site)\n",
    "#     i += 1"
   ]
  },
  {
   "cell_type": "code",
   "execution_count": null,
   "metadata": {},
   "outputs": [],
   "source": [
    "sql_zero = \"ALTER TABLE news AUTO_INCREMENT=0;\""
   ]
  },
  {
   "cell_type": "code",
   "execution_count": null,
   "metadata": {},
   "outputs": [],
   "source": [
    "conn = pymysql.connect(host='localhost', user='root', password='1234', db='dins', charset='utf8')\n",
    "cursor = conn.cursor()\n",
    "\n",
    "cursor.execute(sql_zero)\n",
    "\n",
    "conn.commit()\n",
    "conn.close()"
   ]
  },
  {
   "cell_type": "code",
   "execution_count": null,
   "metadata": {},
   "outputs": [
    {
     "ename": "InterfaceError",
     "evalue": "(0, '')",
     "output_type": "error",
     "traceback": [
      "\u001b[1;31m---------------------------------------------------------------------------\u001b[0m\n",
      "\u001b[1;31mInterfaceError\u001b[0m                            Traceback (most recent call last)\n",
      "\u001b[1;32m~\\AppData\\Local\\Temp\\ipykernel_3548\\2680552474.py\u001b[0m in \u001b[0;36m<module>\u001b[1;34m\u001b[0m\n",
      "\u001b[1;32m----> 1\u001b[1;33m \u001b[0mconn\u001b[0m\u001b[1;33m.\u001b[0m\u001b[0mcommit\u001b[0m\u001b[1;33m(\u001b[0m\u001b[1;33m)\u001b[0m\u001b[1;33m\u001b[0m\u001b[1;33m\u001b[0m\u001b[0m\n",
      "\u001b[0m\u001b[0;32m      2\u001b[0m \u001b[0mconn\u001b[0m\u001b[1;33m.\u001b[0m\u001b[0mclose\u001b[0m\u001b[1;33m(\u001b[0m\u001b[1;33m)\u001b[0m\u001b[1;33m\u001b[0m\u001b[1;33m\u001b[0m\u001b[0m\n",
      "\n",
      "\u001b[1;32mc:\\ProgramData\\Anaconda3\\envs\\DINS\\lib\\site-packages\\pymysql\\connections.py\u001b[0m in \u001b[0;36mcommit\u001b[1;34m(self)\u001b[0m\n",
      "\u001b[0;32m    467\u001b[0m         \u001b[1;32min\u001b[0m \u001b[0mthe\u001b[0m \u001b[0mspecification\u001b[0m\u001b[1;33m.\u001b[0m\u001b[1;33m\u001b[0m\u001b[1;33m\u001b[0m\u001b[0m\n",
      "\u001b[0;32m    468\u001b[0m         \"\"\"\n",
      "\u001b[1;32m--> 469\u001b[1;33m         \u001b[0mself\u001b[0m\u001b[1;33m.\u001b[0m\u001b[0m_execute_command\u001b[0m\u001b[1;33m(\u001b[0m\u001b[0mCOMMAND\u001b[0m\u001b[1;33m.\u001b[0m\u001b[0mCOM_QUERY\u001b[0m\u001b[1;33m,\u001b[0m \u001b[1;34m\"COMMIT\"\u001b[0m\u001b[1;33m)\u001b[0m\u001b[1;33m\u001b[0m\u001b[1;33m\u001b[0m\u001b[0m\n",
      "\u001b[0m\u001b[0;32m    470\u001b[0m         \u001b[0mself\u001b[0m\u001b[1;33m.\u001b[0m\u001b[0m_read_ok_packet\u001b[0m\u001b[1;33m(\u001b[0m\u001b[1;33m)\u001b[0m\u001b[1;33m\u001b[0m\u001b[1;33m\u001b[0m\u001b[0m\n",
      "\u001b[0;32m    471\u001b[0m \u001b[1;33m\u001b[0m\u001b[0m\n",
      "\n",
      "\u001b[1;32mc:\\ProgramData\\Anaconda3\\envs\\DINS\\lib\\site-packages\\pymysql\\connections.py\u001b[0m in \u001b[0;36m_execute_command\u001b[1;34m(self, command, sql)\u001b[0m\n",
      "\u001b[0;32m    791\u001b[0m         \"\"\"\n",
      "\u001b[0;32m    792\u001b[0m         \u001b[1;32mif\u001b[0m \u001b[1;32mnot\u001b[0m \u001b[0mself\u001b[0m\u001b[1;33m.\u001b[0m\u001b[0m_sock\u001b[0m\u001b[1;33m:\u001b[0m\u001b[1;33m\u001b[0m\u001b[1;33m\u001b[0m\u001b[0m\n",
      "\u001b[1;32m--> 793\u001b[1;33m             \u001b[1;32mraise\u001b[0m \u001b[0merr\u001b[0m\u001b[1;33m.\u001b[0m\u001b[0mInterfaceError\u001b[0m\u001b[1;33m(\u001b[0m\u001b[1;36m0\u001b[0m\u001b[1;33m,\u001b[0m \u001b[1;34m\"\"\u001b[0m\u001b[1;33m)\u001b[0m\u001b[1;33m\u001b[0m\u001b[1;33m\u001b[0m\u001b[0m\n",
      "\u001b[0m\u001b[0;32m    794\u001b[0m \u001b[1;33m\u001b[0m\u001b[0m\n",
      "\u001b[0;32m    795\u001b[0m         \u001b[1;31m# If the last query was unbuffered, make sure it finishes before\u001b[0m\u001b[1;33m\u001b[0m\u001b[1;33m\u001b[0m\u001b[1;33m\u001b[0m\u001b[0m\n",
      "\n",
      "\u001b[1;31mInterfaceError\u001b[0m: (0, '')"
     ]
    }
   ],
   "source": [
    "conn.commit()\n",
    "conn.close()"
   ]
  },
  {
   "cell_type": "code",
   "execution_count": null,
   "metadata": {},
   "outputs": [],
   "source": []
  }
 ],
 "metadata": {
  "kernelspec": {
   "display_name": "Python 3.7.13 ('DINS')",
   "language": "python",
   "name": "python3"
  },
  "language_info": {
   "codemirror_mode": {
    "name": "ipython",
    "version": 3
   },
   "file_extension": ".py",
   "mimetype": "text/x-python",
   "name": "python",
   "nbconvert_exporter": "python",
   "pygments_lexer": "ipython3",
   "version": "3.7.13"
  },
  "orig_nbformat": 4,
  "vscode": {
   "interpreter": {
    "hash": "e590ccd7b691ab80e99d866104013fd94fd750e462d26c4ca346d9f79ec019e5"
   }
  }
 },
 "nbformat": 4,
 "nbformat_minor": 2
}
