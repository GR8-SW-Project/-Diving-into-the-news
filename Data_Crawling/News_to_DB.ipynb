{
 "cells": [
  {
   "cell_type": "code",
   "execution_count": null,
   "metadata": {},
   "outputs": [],
   "source": [
    "import pymysql\n",
    "import pandas as pd"
   ]
  },
  {
   "cell_type": "code",
   "execution_count": null,
   "metadata": {},
   "outputs": [],
   "source": [
    "news = pd.read_csv('../Data/SBS.csv')"
   ]
  },
  {
   "cell_type": "code",
   "execution_count": null,
   "metadata": {},
   "outputs": [],
   "source": [
    "# news.loc[news.date.str.contains('2022.08.19')]"
   ]
  },
  {
   "cell_type": "code",
   "execution_count": null,
   "metadata": {},
   "outputs": [
    {
     "data": {
      "text/html": [
       "<div>\n",
       "<style scoped>\n",
       "    .dataframe tbody tr th:only-of-type {\n",
       "        vertical-align: middle;\n",
       "    }\n",
       "\n",
       "    .dataframe tbody tr th {\n",
       "        vertical-align: top;\n",
       "    }\n",
       "\n",
       "    .dataframe thead th {\n",
       "        text-align: right;\n",
       "    }\n",
       "</style>\n",
       "<table border=\"1\" class=\"dataframe\">\n",
       "  <thead>\n",
       "    <tr style=\"text-align: right;\">\n",
       "      <th></th>\n",
       "      <th>title</th>\n",
       "      <th>headline</th>\n",
       "      <th>date</th>\n",
       "      <th>news_link</th>\n",
       "      <th>content</th>\n",
       "      <th>category</th>\n",
       "      <th>site</th>\n",
       "    </tr>\n",
       "  </thead>\n",
       "  <tbody>\n",
       "    <tr>\n",
       "      <th>79573</th>\n",
       "      <td>마을버스 언덕길서 뒤로 밀려 차량·빌라 충돌…6명 부상</td>\n",
       "      <td>오늘 저녁 7시쯤 서울 응봉동에 있는 오르막길에서 마을버스가 뒤로 밀려 차량과 빌라...</td>\n",
       "      <td>2022.09.19 23:52</td>\n",
       "      <td>https://news.sbs.co.kr//news/endPage.do?news_i...</td>\n",
       "      <td>오늘(19일) 저녁 7시쯤 서울 응봉동에 있는 오르막길에서 마을버스가 뒤로 밀려...</td>\n",
       "      <td>사회</td>\n",
       "      <td>sbs</td>\n",
       "    </tr>\n",
       "    <tr>\n",
       "      <th>79574</th>\n",
       "      <td>\"울산 동쪽 해역 규모 4.6 지진, 쓰나미 위험은 없어\"</td>\n",
       "      <td>기상팀 정구희 기자를 연결해 지진 상황을 짚어보겠습니다. 정구희 기자, 일단 이번 ...</td>\n",
       "      <td>2022.09.19 22:27</td>\n",
       "      <td>https://news.sbs.co.kr//news/endPage.do?news_i...</td>\n",
       "      <td>&lt;앵커&gt;   기상팀 정구희 기자를 연결해 지진 상황을 짚어보겠습니다. 정구희 기...</td>\n",
       "      <td>사회</td>\n",
       "      <td>sbs</td>\n",
       "    </tr>\n",
       "    <tr>\n",
       "      <th>79575</th>\n",
       "      <td>울산 동쪽 144km 해역에서 규모 4.6 지진</td>\n",
       "      <td>오늘 밤 8시 40분쯤, 울산에서 동쪽으로 144km 떨어진 바다에서 규모 4.6의...</td>\n",
       "      <td>2022.09.19 22:15</td>\n",
       "      <td>https://news.sbs.co.kr//news/endPage.do?news_i...</td>\n",
       "      <td>&lt;앵커&gt;   오늘(19일) 밤 8시 40분쯤, 울산에서 동쪽으로 144km 떨어...</td>\n",
       "      <td>사회</td>\n",
       "      <td>sbs</td>\n",
       "    </tr>\n",
       "    <tr>\n",
       "      <th>79576</th>\n",
       "      <td>[속보] 울산 동쪽 144km 해역서 규모 4.6 지진</td>\n",
       "      <td>울산 동쪽 144km 해역서 규모 4.6 지진</td>\n",
       "      <td>2022.09.19 21:27</td>\n",
       "      <td>https://news.sbs.co.kr//news/endPage.do?news_i...</td>\n",
       "      <td>울산 동쪽 144km 해역서 규모 4.6 지진   (SBS 뉴스플랫폼부)</td>\n",
       "      <td>사회</td>\n",
       "      <td>sbs</td>\n",
       "    </tr>\n",
       "    <tr>\n",
       "      <th>79577</th>\n",
       "      <td>클로징</td>\n",
       "      <td>8시 뉴스 마칩니다. 시청해주신 여러분 고맙습니다.</td>\n",
       "      <td>2022.09.19 21:14</td>\n",
       "      <td>https://news.sbs.co.kr//news/endPage.do?news_i...</td>\n",
       "      <td>8시 뉴스 마칩니다. 시청해주신 여러분 고맙습니다.</td>\n",
       "      <td>사회</td>\n",
       "      <td>sbs</td>\n",
       "    </tr>\n",
       "    <tr>\n",
       "      <th>...</th>\n",
       "      <td>...</td>\n",
       "      <td>...</td>\n",
       "      <td>...</td>\n",
       "      <td>...</td>\n",
       "      <td>...</td>\n",
       "      <td>...</td>\n",
       "      <td>...</td>\n",
       "    </tr>\n",
       "    <tr>\n",
       "      <th>79820</th>\n",
       "      <td>여왕 참배 마지막 날 바이든, 여왕 관 찾아 조의</td>\n",
       "      <td>고 엘리자베스 2세 영국 여왕의 장례식을 하루 앞둔 현지시간으로 18일 조 바이든 ...</td>\n",
       "      <td>2022.09.19 03:52</td>\n",
       "      <td>https://news.sbs.co.kr//news/endPage.do?news_i...</td>\n",
       "      <td>고(故) 엘리자베스 2세 영국 여왕의 장례식을 하루 앞둔 현지시간으로 18일 조...</td>\n",
       "      <td>국제</td>\n",
       "      <td>sbs</td>\n",
       "    </tr>\n",
       "    <tr>\n",
       "      <th>79821</th>\n",
       "      <td>멕시코서 괴한 총기 난사, 미성년자 등 10명 숨져</td>\n",
       "      <td>멕시코 과나후아토주에서 무장 괴한의 연쇄 총격에 미성년자를 포함한 10명이 숨졌습니...</td>\n",
       "      <td>2022.09.19 03:07</td>\n",
       "      <td>https://news.sbs.co.kr//news/endPage.do?news_i...</td>\n",
       "      <td>멕시코 과나후아토주에서 무장 괴한의 연쇄 총격에 미성년자를 포함한 10명이 숨졌...</td>\n",
       "      <td>국제</td>\n",
       "      <td>sbs</td>\n",
       "    </tr>\n",
       "    <tr>\n",
       "      <th>79822</th>\n",
       "      <td>제주 용담 해안가 실종 낚시객 숨진 채 발견</td>\n",
       "      <td>제14호 태풍 '난마돌'이 북상 중인 가운데 제주시의 한 해안가에서 낚시를 하다 실...</td>\n",
       "      <td>2022.09.19 00:42</td>\n",
       "      <td>https://news.sbs.co.kr//news/endPage.do?news_i...</td>\n",
       "      <td>제14호 태풍 '난마돌'이 북상 중인 가운데 제주시의 한 해안가에서 낚시를 하다...</td>\n",
       "      <td>사회</td>\n",
       "      <td>sbs</td>\n",
       "    </tr>\n",
       "    <tr>\n",
       "      <th>79823</th>\n",
       "      <td>울산시 남구 일대 967호 정전…1시간 만에 복구</td>\n",
       "      <td>한국전력에 따르면 울산시 남구 여천동 일대 아파트 등 967호가 정전 피해를 겪었습...</td>\n",
       "      <td>2022.09.19 00:41</td>\n",
       "      <td>https://news.sbs.co.kr//news/endPage.do?news_i...</td>\n",
       "      <td>▲ 난마돌 북상에 아파트 난간 안전조치하는 소방관들 어젯밤(18일) 10시 12분쯤...</td>\n",
       "      <td>사회</td>\n",
       "      <td>sbs</td>\n",
       "    </tr>\n",
       "    <tr>\n",
       "      <th>79824</th>\n",
       "      <td>윤 대통령, 런던 도착…내일 영국 여왕 장례 조문외교</td>\n",
       "      <td>윤석열 대통령은 18일 오후 첫 순방지인 영국 런던에 도착해 5박 7일 간의 순방 ...</td>\n",
       "      <td>2022.09.19 00:38</td>\n",
       "      <td>https://news.sbs.co.kr//news/endPage.do?news_i...</td>\n",
       "      <td>윤석열 대통령은 18일 오후(현지시간) 첫 순방지인 영국 런던에 도착해 5박 7...</td>\n",
       "      <td>정치</td>\n",
       "      <td>sbs</td>\n",
       "    </tr>\n",
       "  </tbody>\n",
       "</table>\n",
       "<p>252 rows × 7 columns</p>\n",
       "</div>"
      ],
      "text/plain": [
       "                                  title  \\\n",
       "79573    마을버스 언덕길서 뒤로 밀려 차량·빌라 충돌…6명 부상   \n",
       "79574  \"울산 동쪽 해역 규모 4.6 지진, 쓰나미 위험은 없어\"   \n",
       "79575        울산 동쪽 144km 해역에서 규모 4.6 지진   \n",
       "79576    [속보] 울산 동쪽 144km 해역서 규모 4.6 지진   \n",
       "79577                               클로징   \n",
       "...                                 ...   \n",
       "79820       여왕 참배 마지막 날 바이든, 여왕 관 찾아 조의   \n",
       "79821      멕시코서 괴한 총기 난사, 미성년자 등 10명 숨져   \n",
       "79822          제주 용담 해안가 실종 낚시객 숨진 채 발견   \n",
       "79823       울산시 남구 일대 967호 정전…1시간 만에 복구   \n",
       "79824     윤 대통령, 런던 도착…내일 영국 여왕 장례 조문외교   \n",
       "\n",
       "                                                headline              date  \\\n",
       "79573  오늘 저녁 7시쯤 서울 응봉동에 있는 오르막길에서 마을버스가 뒤로 밀려 차량과 빌라...  2022.09.19 23:52   \n",
       "79574  기상팀 정구희 기자를 연결해 지진 상황을 짚어보겠습니다. 정구희 기자, 일단 이번 ...  2022.09.19 22:27   \n",
       "79575  오늘 밤 8시 40분쯤, 울산에서 동쪽으로 144km 떨어진 바다에서 규모 4.6의...  2022.09.19 22:15   \n",
       "79576                          울산 동쪽 144km 해역서 규모 4.6 지진  2022.09.19 21:27   \n",
       "79577                       8시 뉴스 마칩니다. 시청해주신 여러분 고맙습니다.  2022.09.19 21:14   \n",
       "...                                                  ...               ...   \n",
       "79820  고 엘리자베스 2세 영국 여왕의 장례식을 하루 앞둔 현지시간으로 18일 조 바이든 ...  2022.09.19 03:52   \n",
       "79821  멕시코 과나후아토주에서 무장 괴한의 연쇄 총격에 미성년자를 포함한 10명이 숨졌습니...  2022.09.19 03:07   \n",
       "79822  제14호 태풍 '난마돌'이 북상 중인 가운데 제주시의 한 해안가에서 낚시를 하다 실...  2022.09.19 00:42   \n",
       "79823  한국전력에 따르면 울산시 남구 여천동 일대 아파트 등 967호가 정전 피해를 겪었습...  2022.09.19 00:41   \n",
       "79824  윤석열 대통령은 18일 오후 첫 순방지인 영국 런던에 도착해 5박 7일 간의 순방 ...  2022.09.19 00:38   \n",
       "\n",
       "                                               news_link  \\\n",
       "79573  https://news.sbs.co.kr//news/endPage.do?news_i...   \n",
       "79574  https://news.sbs.co.kr//news/endPage.do?news_i...   \n",
       "79575  https://news.sbs.co.kr//news/endPage.do?news_i...   \n",
       "79576  https://news.sbs.co.kr//news/endPage.do?news_i...   \n",
       "79577  https://news.sbs.co.kr//news/endPage.do?news_i...   \n",
       "...                                                  ...   \n",
       "79820  https://news.sbs.co.kr//news/endPage.do?news_i...   \n",
       "79821  https://news.sbs.co.kr//news/endPage.do?news_i...   \n",
       "79822  https://news.sbs.co.kr//news/endPage.do?news_i...   \n",
       "79823  https://news.sbs.co.kr//news/endPage.do?news_i...   \n",
       "79824  https://news.sbs.co.kr//news/endPage.do?news_i...   \n",
       "\n",
       "                                                 content category site  \n",
       "79573    오늘(19일) 저녁 7시쯤 서울 응봉동에 있는 오르막길에서 마을버스가 뒤로 밀려...       사회  sbs  \n",
       "79574    <앵커>   기상팀 정구희 기자를 연결해 지진 상황을 짚어보겠습니다. 정구희 기...       사회  sbs  \n",
       "79575    <앵커>   오늘(19일) 밤 8시 40분쯤, 울산에서 동쪽으로 144km 떨어...       사회  sbs  \n",
       "79576          울산 동쪽 144km 해역서 규모 4.6 지진   (SBS 뉴스플랫폼부)        사회  sbs  \n",
       "79577                      8시 뉴스 마칩니다. 시청해주신 여러분 고맙습니다.        사회  sbs  \n",
       "...                                                  ...      ...  ...  \n",
       "79820    고(故) 엘리자베스 2세 영국 여왕의 장례식을 하루 앞둔 현지시간으로 18일 조...       국제  sbs  \n",
       "79821    멕시코 과나후아토주에서 무장 괴한의 연쇄 총격에 미성년자를 포함한 10명이 숨졌...       국제  sbs  \n",
       "79822    제14호 태풍 '난마돌'이 북상 중인 가운데 제주시의 한 해안가에서 낚시를 하다...       사회  sbs  \n",
       "79823  ▲ 난마돌 북상에 아파트 난간 안전조치하는 소방관들 어젯밤(18일) 10시 12분쯤...       사회  sbs  \n",
       "79824    윤석열 대통령은 18일 오후(현지시간) 첫 순방지인 영국 런던에 도착해 5박 7...       정치  sbs  \n",
       "\n",
       "[252 rows x 7 columns]"
      ]
     },
     "metadata": {},
     "output_type": "display_data"
    }
   ],
   "source": [
    "# news.loc[news.date.str.contains('2022.09.19')]"
   ]
  },
  {
   "cell_type": "code",
   "execution_count": null,
   "metadata": {},
   "outputs": [
    {
     "data": {
      "text/plain": [
       "252"
      ]
     },
     "metadata": {},
     "output_type": "display_data"
    }
   ],
   "source": [
    "news_sep = news.iloc[79573:]\n",
    "len(news_sep)"
   ]
  },
  {
   "cell_type": "code",
   "execution_count": null,
   "metadata": {},
   "outputs": [
    {
     "data": {
      "text/plain": [
       "6909"
      ]
     },
     "metadata": {},
     "output_type": "display_data"
    }
   ],
   "source": [
    "news = news.iloc[72916:]\n",
    "len(news)"
   ]
  },
  {
   "cell_type": "code",
   "execution_count": null,
   "metadata": {},
   "outputs": [],
   "source": [
    "sql_insert = 'INSERT INTO news (title, headline, date_news, news_link, content, category, site) VALUES (%s, %s, %s, %s, %s, %s, %s)'"
   ]
  },
  {
   "cell_type": "code",
   "execution_count": null,
   "metadata": {},
   "outputs": [],
   "source": [
    "conn = pymysql.connect(host='localhost', user='root', password='1234', db='dins', charset='utf8')\n",
    "cursor = conn.cursor()\n",
    "\n",
    "\n",
    "for index, row in news_sep.iterrows():\n",
    "    cursor.execute(sql_insert, (row.title, row.headline, row.date, row.news_link, row.content, row.category, row.site))\n",
    "\n",
    "conn.commit()\n",
    "conn.close()"
   ]
  },
  {
   "cell_type": "code",
   "execution_count": null,
   "metadata": {},
   "outputs": [
    {
     "name": "stdout",
     "output_type": "stream",
     "text": [
      "BTS \"웰컴 제네레이션…변화에 겁먹지 않고 새로운 길로\" 미국 뉴욕을 찾은 방탄소년단, BTS가 \"지금 청년들은 변화에 겁먹기보단 '웰컴'이라고 말하며 앞으로 걸어나가는 세대\"라며 코로나19로 어려운 상황에서도 긍정적인 에너지로 일상을 채워나가자는 메시지를 냈습니다. 2021.09.20 22:09 https://news.sbs.co.kr//news/endPage.do?news_id=N1006471883   미국 뉴욕을 찾은 방탄소년단, BTS가 \"지금 청년들은 변화에 겁먹기보단 '웰컴'이라고 말하며 앞으로 걸어나가는 세대\"라며 코로나19로 어려운 상황에서도 긍정적인 에너지로 일상을 채워나가자는 메시지를 냈습니다.   BTS는 뉴욕 유엔 총회장에서 열린 지속가능발전목표 고위급 회의, SDG 모멘트 행사에 '미래세대와 문화를 위한 대통령 특별사절'이자 세계 청년들 대표 자격으로 초청돼 7명의 멤버가 한 명씩 돌아가며 발언하는 방식으로 연설을 했습니다.   진은 \"지난 2년 저도 당혹스럽고 막막한 기분이 들었다\"면서도 \"그러나 '렛츠 리브 온! 지금을 잘 살아가자!'고 외치는 분들이 있었다\"고 말했습니다.   RM은 \"지금의 10대, 20대에 대해 길을 잃게 됐단 의미에서 '코로나 로스트 제너레이션'으로 부르기도 한다고 들었다\"면서도 \"그러나 어른들 눈에 보이지 않는다고 해서 길을 잃었다고 말할 수는 없을 것\"이라고 말했습니다.   뷔도 \"우리의 미래에 대해 너무 어둡게만 생각하진 않았으면 좋겠다\"고 했고, 지민도 공부를 하거나 운동을 하는 청년들의 사진을 보며 \"길을 잃었다기보다 새로 용기를 내고 도전 중인 모습으로 보인다\"고 전했습니다.   진은 \"그런 의미에서 '로스트 제너레이션'이 아니라 '웰컴 제너레이션'이라는 이름이 더 어울리는 것 같다. 변화에 겁먹기보단 '웰컴'이라고 말하면서 앞으로 걸어 나가는 세대\"라고 강조했습니다.   그러자 RM은 \"가능성과 희망을 믿으면 예상 밖의 상황에서도 길을 잃는 게 아니라 새로운 길을 발견할 것\"이라며 \"새로 시작되는 세상에서 서로에게 '웰컴'이라고 말해줬으면 좋겠다\"고 화답했습니다.   백신과 관련해서는 제이홉이 \"저희 7명 모두 백신을 맞았다\"고 했고, RM은 \"백신 접종은 저희를 기다리는 팬들을 만나기 위한 티켓\"이라며 \"우리는 우리가 지금 할 수 있는 것들을 하는 중\"이라고 말했습니다.   뷔는 \"다시 얼굴을 마주할 날도 멀지 않았다\"며 \"그때까지 모두 긍정적인 에너지로 일상을 채워가자\"고 격려했습니다.   국제 kbs\n"
     ]
    }
   ],
   "source": [
    "# i = 0\n",
    "# for index, row in news.iterrows():\n",
    "#     if i == 1:\n",
    "#         break\n",
    "#     print(row.title, row.headline, row.date, row.news_link, row.content, row.category, row.site)\n",
    "#     i += 1"
   ]
  },
  {
   "cell_type": "code",
   "execution_count": null,
   "metadata": {},
   "outputs": [],
   "source": [
    "sql_zero = \"ALTER TABLE news AUTO_INCREMENT=0;\""
   ]
  },
  {
   "cell_type": "code",
   "execution_count": null,
   "metadata": {},
   "outputs": [],
   "source": [
    "conn = pymysql.connect(host='localhost', user='root', password='1234', db='dins', charset='utf8')\n",
    "cursor = conn.cursor()\n",
    "\n",
    "cursor.execute(sql_zero)\n",
    "\n",
    "conn.commit()\n",
    "conn.close()"
   ]
  },
  {
   "cell_type": "code",
   "execution_count": null,
   "metadata": {},
   "outputs": [
    {
     "ename": "InterfaceError",
     "evalue": "(0, '')",
     "output_type": "error",
     "traceback": [
      "\u001b[1;31m---------------------------------------------------------------------------\u001b[0m\n",
      "\u001b[1;31mInterfaceError\u001b[0m                            Traceback (most recent call last)\n",
      "\u001b[1;32m~\\AppData\\Local\\Temp\\ipykernel_3548\\2680552474.py\u001b[0m in \u001b[0;36m<module>\u001b[1;34m\u001b[0m\n",
      "\u001b[1;32m----> 1\u001b[1;33m \u001b[0mconn\u001b[0m\u001b[1;33m.\u001b[0m\u001b[0mcommit\u001b[0m\u001b[1;33m(\u001b[0m\u001b[1;33m)\u001b[0m\u001b[1;33m\u001b[0m\u001b[1;33m\u001b[0m\u001b[0m\n",
      "\u001b[0m\u001b[0;32m      2\u001b[0m \u001b[0mconn\u001b[0m\u001b[1;33m.\u001b[0m\u001b[0mclose\u001b[0m\u001b[1;33m(\u001b[0m\u001b[1;33m)\u001b[0m\u001b[1;33m\u001b[0m\u001b[1;33m\u001b[0m\u001b[0m\n",
      "\n",
      "\u001b[1;32mc:\\ProgramData\\Anaconda3\\envs\\DINS\\lib\\site-packages\\pymysql\\connections.py\u001b[0m in \u001b[0;36mcommit\u001b[1;34m(self)\u001b[0m\n",
      "\u001b[0;32m    467\u001b[0m         \u001b[1;32min\u001b[0m \u001b[0mthe\u001b[0m \u001b[0mspecification\u001b[0m\u001b[1;33m.\u001b[0m\u001b[1;33m\u001b[0m\u001b[1;33m\u001b[0m\u001b[0m\n",
      "\u001b[0;32m    468\u001b[0m         \"\"\"\n",
      "\u001b[1;32m--> 469\u001b[1;33m         \u001b[0mself\u001b[0m\u001b[1;33m.\u001b[0m\u001b[0m_execute_command\u001b[0m\u001b[1;33m(\u001b[0m\u001b[0mCOMMAND\u001b[0m\u001b[1;33m.\u001b[0m\u001b[0mCOM_QUERY\u001b[0m\u001b[1;33m,\u001b[0m \u001b[1;34m\"COMMIT\"\u001b[0m\u001b[1;33m)\u001b[0m\u001b[1;33m\u001b[0m\u001b[1;33m\u001b[0m\u001b[0m\n",
      "\u001b[0m\u001b[0;32m    470\u001b[0m         \u001b[0mself\u001b[0m\u001b[1;33m.\u001b[0m\u001b[0m_read_ok_packet\u001b[0m\u001b[1;33m(\u001b[0m\u001b[1;33m)\u001b[0m\u001b[1;33m\u001b[0m\u001b[1;33m\u001b[0m\u001b[0m\n",
      "\u001b[0;32m    471\u001b[0m \u001b[1;33m\u001b[0m\u001b[0m\n",
      "\n",
      "\u001b[1;32mc:\\ProgramData\\Anaconda3\\envs\\DINS\\lib\\site-packages\\pymysql\\connections.py\u001b[0m in \u001b[0;36m_execute_command\u001b[1;34m(self, command, sql)\u001b[0m\n",
      "\u001b[0;32m    791\u001b[0m         \"\"\"\n",
      "\u001b[0;32m    792\u001b[0m         \u001b[1;32mif\u001b[0m \u001b[1;32mnot\u001b[0m \u001b[0mself\u001b[0m\u001b[1;33m.\u001b[0m\u001b[0m_sock\u001b[0m\u001b[1;33m:\u001b[0m\u001b[1;33m\u001b[0m\u001b[1;33m\u001b[0m\u001b[0m\n",
      "\u001b[1;32m--> 793\u001b[1;33m             \u001b[1;32mraise\u001b[0m \u001b[0merr\u001b[0m\u001b[1;33m.\u001b[0m\u001b[0mInterfaceError\u001b[0m\u001b[1;33m(\u001b[0m\u001b[1;36m0\u001b[0m\u001b[1;33m,\u001b[0m \u001b[1;34m\"\"\u001b[0m\u001b[1;33m)\u001b[0m\u001b[1;33m\u001b[0m\u001b[1;33m\u001b[0m\u001b[0m\n",
      "\u001b[0m\u001b[0;32m    794\u001b[0m \u001b[1;33m\u001b[0m\u001b[0m\n",
      "\u001b[0;32m    795\u001b[0m         \u001b[1;31m# If the last query was unbuffered, make sure it finishes before\u001b[0m\u001b[1;33m\u001b[0m\u001b[1;33m\u001b[0m\u001b[1;33m\u001b[0m\u001b[0m\n",
      "\n",
      "\u001b[1;31mInterfaceError\u001b[0m: (0, '')"
     ]
    }
   ],
   "source": [
    "conn.commit()\n",
    "conn.close()"
   ]
  },
  {
   "cell_type": "code",
   "execution_count": null,
   "metadata": {},
   "outputs": [],
   "source": []
  }
 ],
 "metadata": {
  "kernelspec": {
   "display_name": "Python 3.7.13 ('DINS')",
   "language": "python",
   "name": "python3"
  },
  "language_info": {
   "codemirror_mode": {
    "name": "ipython",
    "version": 3
   },
   "file_extension": ".py",
   "mimetype": "text/x-python",
   "name": "python",
   "nbconvert_exporter": "python",
   "pygments_lexer": "ipython3",
   "version": "3.7.13"
  },
  "orig_nbformat": 4,
  "vscode": {
   "interpreter": {
    "hash": "704fc3f40e1ce32dfc14e965a1b3dc02f74415169812354619ea168951783a64"
   }
  }
 },
 "nbformat": 4,
 "nbformat_minor": 2
}
