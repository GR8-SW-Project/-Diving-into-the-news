{
 "cells": [
  {
   "cell_type": "code",
   "execution_count": 1,
   "metadata": {},
   "outputs": [
    {
     "name": "stderr",
     "output_type": "stream",
     "text": [
      "c:\\ProgramData\\Anaconda3\\envs\\DINS\\lib\\site-packages\\tqdm\\auto.py:22: TqdmWarning: IProgress not found. Please update jupyter and ipywidgets. See https://ipywidgets.readthedocs.io/en/stable/user_install.html\n",
      "  from .autonotebook import tqdm as notebook_tqdm\n"
     ]
    }
   ],
   "source": [
    "import numpy as np\n",
    "import pandas as pd\n",
    "import matplotlib.pyplot as plt\n",
    "\n",
    "from konlpy.tag import Komoran\n",
    "\n",
    "import os\n",
    "\n",
    "from keybert import KeyBERT\n",
    "import tqdm"
   ]
  },
  {
   "cell_type": "code",
   "execution_count": 2,
   "metadata": {},
   "outputs": [],
   "source": [
    "# os.environ[\"CUDA_DEVICE_ORDER\"] = \"PCI_BUS_ID\"\n",
    "# os.environ[\"CUDA_VISIBLE_DEVICES\"] = \"0\""
   ]
  },
  {
   "cell_type": "code",
   "execution_count": 3,
   "metadata": {},
   "outputs": [
    {
     "data": {
      "text/html": [
       "<div>\n",
       "<style scoped>\n",
       "    .dataframe tbody tr th:only-of-type {\n",
       "        vertical-align: middle;\n",
       "    }\n",
       "\n",
       "    .dataframe tbody tr th {\n",
       "        vertical-align: top;\n",
       "    }\n",
       "\n",
       "    .dataframe thead th {\n",
       "        text-align: right;\n",
       "    }\n",
       "</style>\n",
       "<table border=\"1\" class=\"dataframe\">\n",
       "  <thead>\n",
       "    <tr style=\"text-align: right;\">\n",
       "      <th></th>\n",
       "      <th>title</th>\n",
       "      <th>headline</th>\n",
       "      <th>date</th>\n",
       "      <th>link</th>\n",
       "      <th>content</th>\n",
       "      <th>category</th>\n",
       "      <th>site</th>\n",
       "    </tr>\n",
       "  </thead>\n",
       "  <tbody>\n",
       "    <tr>\n",
       "      <th>4282</th>\n",
       "      <td>슈팅 0개로 침묵한 손흥민, '북런던 더비' 5∼6점대 평점</td>\n",
       "      <td>잉글랜드 프리미어리그 '북런던 더비'에서 골 침묵을 지킨 손흥민이 현지 매체로부터 ...</td>\n",
       "      <td>2022.10.01</td>\n",
       "      <td>https://news.sbs.co.kr//news/endPage.do?news_i...</td>\n",
       "      <td>잉글랜드 프리미어리그 '북런던 더비'에서 골 침묵을 지킨 손흥민(30·토트넘)이...</td>\n",
       "      <td>스포츠</td>\n",
       "      <td>sbs</td>\n",
       "    </tr>\n",
       "  </tbody>\n",
       "</table>\n",
       "</div>"
      ],
      "text/plain": [
       "                                  title  \\\n",
       "4282  슈팅 0개로 침묵한 손흥민, '북런던 더비' 5∼6점대 평점   \n",
       "\n",
       "                                               headline        date  \\\n",
       "4282  잉글랜드 프리미어리그 '북런던 더비'에서 골 침묵을 지킨 손흥민이 현지 매체로부터 ...  2022.10.01   \n",
       "\n",
       "                                                   link  \\\n",
       "4282  https://news.sbs.co.kr//news/endPage.do?news_i...   \n",
       "\n",
       "                                                content category site  \n",
       "4282    잉글랜드 프리미어리그 '북런던 더비'에서 골 침묵을 지킨 손흥민(30·토트넘)이...      스포츠  sbs  "
      ]
     },
     "execution_count": 3,
     "metadata": {},
     "output_type": "execute_result"
    }
   ],
   "source": [
    "data = pd.read_csv('./Data/SBS.csv')\n",
    "data = data.iloc[4282:, :]\n",
    "\n",
    "data.head(1)"
   ]
  },
  {
   "cell_type": "code",
   "execution_count": 4,
   "metadata": {},
   "outputs": [
    {
     "data": {
      "text/plain": [
       "9588"
      ]
     },
     "execution_count": 4,
     "metadata": {},
     "output_type": "execute_result"
    }
   ],
   "source": [
    "stopwords = pd.read_csv('./Data/stopwords.csv').noun.tolist()\n",
    "\n",
    "len(stopwords)"
   ]
  },
  {
   "cell_type": "code",
   "execution_count": 45,
   "metadata": {},
   "outputs": [],
   "source": [
    "# date 변경, link col_name 변경 및 저장\n",
    "\n",
    "# data.rename(columns={'news_link' : 'link'}, inplace=True)\n",
    "\n",
    "# data.date = data.date.str.split(' ').str[0]\n",
    "\n",
    "# data.head(1)\n",
    "\n",
    "# data.to_csv('./Data/SBS.csv', index=False)"
   ]
  },
  {
   "cell_type": "code",
   "execution_count": 26,
   "metadata": {},
   "outputs": [],
   "source": [
    "# okt = Okt()\n",
    "\n",
    "# contents_nouns = []"
   ]
  },
  {
   "cell_type": "code",
   "execution_count": 6,
   "metadata": {},
   "outputs": [],
   "source": [
    "# contents_nouns.append(p.map(get_nouns, contents))"
   ]
  },
  {
   "cell_type": "code",
   "execution_count": 4,
   "metadata": {},
   "outputs": [],
   "source": [
    "# for text in contents:\n",
    "#     nouns = okt.nouns(text)\n",
    "    \n",
    "#     text_nouns = ''\n",
    "#     for noun in nouns:\n",
    "#         text_nouns += noun + ' '\n",
    "    \n",
    "#     contents_nouns.append(text_nouns)\n",
    "#     print(text_nouns)"
   ]
  },
  {
   "cell_type": "code",
   "execution_count": 22,
   "metadata": {},
   "outputs": [
    {
     "data": {
      "text/plain": [
       "252"
      ]
     },
     "execution_count": 22,
     "metadata": {},
     "output_type": "execute_result"
    }
   ],
   "source": [
    "# contents = data.iloc[79573:].content\n",
    "\n",
    "# len(contents)"
   ]
  },
  {
   "cell_type": "code",
   "execution_count": 4,
   "metadata": {},
   "outputs": [
    {
     "data": {
      "text/plain": [
       "1588"
      ]
     },
     "execution_count": 4,
     "metadata": {},
     "output_type": "execute_result"
    }
   ],
   "source": [
    "# data_sep = data.iloc[78237:]\n",
    "\n",
    "# len(data_sep)"
   ]
  },
  {
   "cell_type": "code",
   "execution_count": 5,
   "metadata": {},
   "outputs": [
    {
     "data": {
      "text/plain": [
       "30"
      ]
     },
     "execution_count": 5,
     "metadata": {},
     "output_type": "execute_result"
    }
   ],
   "source": [
    "dates = data.date.unique()\n",
    "\n",
    "len(dates)\n",
    "# 2022.10.01 ~ 2022.10.30"
   ]
  },
  {
   "cell_type": "code",
   "execution_count": 6,
   "metadata": {},
   "outputs": [
    {
     "data": {
      "text/plain": [
       "7"
      ]
     },
     "execution_count": 6,
     "metadata": {},
     "output_type": "execute_result"
    }
   ],
   "source": [
    "categories = data.category.unique()\n",
    "\n",
    "len(categories)\n",
    "# '사회', '국제', '스포츠', '생활·문화', '경제', '정치', '연예'"
   ]
  },
  {
   "cell_type": "code",
   "execution_count": 7,
   "metadata": {},
   "outputs": [],
   "source": [
    "data_date = []\n",
    "\n",
    "for date in dates:\n",
    "    data_date.append(data.groupby('date').get_group(date))"
   ]
  },
  {
   "cell_type": "code",
   "execution_count": 8,
   "metadata": {},
   "outputs": [],
   "source": [
    "datas = []\n",
    "\n",
    "\n",
    "for data in data_date:\n",
    "    data_category = []\n",
    "    for category in categories:\n",
    "        try:\n",
    "            data_category.append(data.groupby('category').get_group(category).content)\n",
    "        except (KeyError):\n",
    "            pass\n",
    "    \n",
    "    datas.append(data_category)"
   ]
  },
  {
   "cell_type": "code",
   "execution_count": 9,
   "metadata": {},
   "outputs": [],
   "source": [
    "komoran = Komoran()\n",
    "\n",
    "contents_nouns = []"
   ]
  },
  {
   "cell_type": "code",
   "execution_count": 10,
   "metadata": {},
   "outputs": [],
   "source": [
    "datas_nouns = []\n",
    "\n",
    "for data_date in datas:\n",
    "    contents_nouns = []\n",
    "    \n",
    "    for contents in data_date:\n",
    "        content_nouns = ''\n",
    "        \n",
    "        for text in contents:\n",
    "            poses = komoran.pos(text)\n",
    "        \n",
    "            for pos in poses:\n",
    "                if len(pos[0]) < 3:\n",
    "                    continue\n",
    "                \n",
    "                if pos[-1] == 'NNP':\n",
    "                    if pos[0] not in stopwords:\n",
    "                        content_nouns += pos[0] + ' '\n",
    "            \n",
    "        contents_nouns.append(content_nouns)\n",
    "        \n",
    "    datas_nouns.append(contents_nouns)"
   ]
  },
  {
   "cell_type": "code",
   "execution_count": 25,
   "metadata": {},
   "outputs": [],
   "source": [
    "# content_nouns = ''\n",
    "\n",
    "# for text in contents:\n",
    "#     text_nouns = okt.nouns(text)\n",
    "    \n",
    "#     for noun in text_nouns:\n",
    "#         content_nouns += noun + ' '\n",
    "    \n",
    "\n",
    "# contents_nouns.append(content_nouns)"
   ]
  },
  {
   "cell_type": "code",
   "execution_count": 11,
   "metadata": {},
   "outputs": [],
   "source": [
    "# model = KeyBERT('distilbert-base-nli-mean-tokens')\n",
    "\n",
    "model = KeyBERT('bert-base-nli-mean-tokens')"
   ]
  },
  {
   "cell_type": "code",
   "execution_count": 12,
   "metadata": {},
   "outputs": [],
   "source": [
    "datas_keywords = []\n",
    "\n",
    "for data_date in datas_nouns:\n",
    "    contents_keywords = []\n",
    "    \n",
    "    for content_nouns in data_date:\n",
    "        contents_keywords.append(model.extract_keywords(content_nouns, keyphrase_ngram_range=(1,1), top_n=20, use_mmr=True))\n",
    "    \n",
    "    datas_keywords.append(contents_keywords)"
   ]
  },
  {
   "cell_type": "code",
   "execution_count": 13,
   "metadata": {},
   "outputs": [],
   "source": [
    "result_keywords = []\n",
    "\n",
    "date_idx = 0\n",
    "category_idx = 0\n",
    "\n",
    "for data_keywords in datas_keywords:\n",
    "    for keywords in data_keywords:\n",
    "        for keyword in keywords:\n",
    "            result_keywords.append((dates[date_idx], categories[category_idx], ) + keyword) # (date, category, keyword, importance)\n",
    "    \n",
    "        category_idx += 1\n",
    "            \n",
    "    date_idx += 1\n",
    "    category_idx = 0"
   ]
  },
  {
   "cell_type": "code",
   "execution_count": 14,
   "metadata": {},
   "outputs": [
    {
     "data": {
      "text/html": [
       "<div>\n",
       "<style scoped>\n",
       "    .dataframe tbody tr th:only-of-type {\n",
       "        vertical-align: middle;\n",
       "    }\n",
       "\n",
       "    .dataframe tbody tr th {\n",
       "        vertical-align: top;\n",
       "    }\n",
       "\n",
       "    .dataframe thead th {\n",
       "        text-align: right;\n",
       "    }\n",
       "</style>\n",
       "<table border=\"1\" class=\"dataframe\">\n",
       "  <thead>\n",
       "    <tr style=\"text-align: right;\">\n",
       "      <th></th>\n",
       "      <th>date</th>\n",
       "      <th>category</th>\n",
       "      <th>keyword</th>\n",
       "      <th>importance</th>\n",
       "    </tr>\n",
       "  </thead>\n",
       "  <tbody>\n",
       "    <tr>\n",
       "      <th>0</th>\n",
       "      <td>2022.10.01</td>\n",
       "      <td>스포츠</td>\n",
       "      <td>한국프로축구연맹</td>\n",
       "      <td>0.8569</td>\n",
       "    </tr>\n",
       "    <tr>\n",
       "      <th>1</th>\n",
       "      <td>2022.10.01</td>\n",
       "      <td>스포츠</td>\n",
       "      <td>캘리포니아주</td>\n",
       "      <td>0.8492</td>\n",
       "    </tr>\n",
       "    <tr>\n",
       "      <th>2</th>\n",
       "      <td>2022.10.01</td>\n",
       "      <td>스포츠</td>\n",
       "      <td>올림픽공원</td>\n",
       "      <td>0.8453</td>\n",
       "    </tr>\n",
       "    <tr>\n",
       "      <th>3</th>\n",
       "      <td>2022.10.01</td>\n",
       "      <td>스포츠</td>\n",
       "      <td>한국시리즈</td>\n",
       "      <td>0.8377</td>\n",
       "    </tr>\n",
       "    <tr>\n",
       "      <th>4</th>\n",
       "      <td>2022.10.01</td>\n",
       "      <td>스포츠</td>\n",
       "      <td>샌디에이고</td>\n",
       "      <td>0.8336</td>\n",
       "    </tr>\n",
       "    <tr>\n",
       "      <th>...</th>\n",
       "      <td>...</td>\n",
       "      <td>...</td>\n",
       "      <td>...</td>\n",
       "      <td>...</td>\n",
       "    </tr>\n",
       "    <tr>\n",
       "      <th>3998</th>\n",
       "      <td>2022.10.30</td>\n",
       "      <td>연예</td>\n",
       "      <td>아시아</td>\n",
       "      <td>0.7698</td>\n",
       "    </tr>\n",
       "    <tr>\n",
       "      <th>3999</th>\n",
       "      <td>2022.10.30</td>\n",
       "      <td>연예</td>\n",
       "      <td>서비스</td>\n",
       "      <td>0.7658</td>\n",
       "    </tr>\n",
       "    <tr>\n",
       "      <th>4000</th>\n",
       "      <td>2022.10.30</td>\n",
       "      <td>연예</td>\n",
       "      <td>페스티벌</td>\n",
       "      <td>0.7560</td>\n",
       "    </tr>\n",
       "    <tr>\n",
       "      <th>4001</th>\n",
       "      <td>2022.10.30</td>\n",
       "      <td>연예</td>\n",
       "      <td>콘서트</td>\n",
       "      <td>0.7455</td>\n",
       "    </tr>\n",
       "    <tr>\n",
       "      <th>4002</th>\n",
       "      <td>2022.10.30</td>\n",
       "      <td>연예</td>\n",
       "      <td>코로나</td>\n",
       "      <td>0.7426</td>\n",
       "    </tr>\n",
       "  </tbody>\n",
       "</table>\n",
       "<p>4003 rows × 4 columns</p>\n",
       "</div>"
      ],
      "text/plain": [
       "            date category   keyword  importance\n",
       "0     2022.10.01      스포츠  한국프로축구연맹      0.8569\n",
       "1     2022.10.01      스포츠    캘리포니아주      0.8492\n",
       "2     2022.10.01      스포츠     올림픽공원      0.8453\n",
       "3     2022.10.01      스포츠     한국시리즈      0.8377\n",
       "4     2022.10.01      스포츠     샌디에이고      0.8336\n",
       "...          ...      ...       ...         ...\n",
       "3998  2022.10.30       연예       아시아      0.7698\n",
       "3999  2022.10.30       연예       서비스      0.7658\n",
       "4000  2022.10.30       연예      페스티벌      0.7560\n",
       "4001  2022.10.30       연예       콘서트      0.7455\n",
       "4002  2022.10.30       연예       코로나      0.7426\n",
       "\n",
       "[4003 rows x 4 columns]"
      ]
     },
     "execution_count": 14,
     "metadata": {},
     "output_type": "execute_result"
    }
   ],
   "source": [
    "result = pd.DataFrame(result_keywords, columns=['date', 'category', 'keyword', 'importance'])\n",
    "\n",
    "result"
   ]
  },
  {
   "cell_type": "code",
   "execution_count": 15,
   "metadata": {},
   "outputs": [],
   "source": [
    "result.to_csv('./Data/keywords.csv', index=False)"
   ]
  },
  {
   "cell_type": "code",
   "execution_count": 16,
   "metadata": {},
   "outputs": [],
   "source": [
    "import pymysql"
   ]
  },
  {
   "cell_type": "code",
   "execution_count": 17,
   "metadata": {},
   "outputs": [
    {
     "data": {
      "text/html": [
       "<div>\n",
       "<style scoped>\n",
       "    .dataframe tbody tr th:only-of-type {\n",
       "        vertical-align: middle;\n",
       "    }\n",
       "\n",
       "    .dataframe tbody tr th {\n",
       "        vertical-align: top;\n",
       "    }\n",
       "\n",
       "    .dataframe thead th {\n",
       "        text-align: right;\n",
       "    }\n",
       "</style>\n",
       "<table border=\"1\" class=\"dataframe\">\n",
       "  <thead>\n",
       "    <tr style=\"text-align: right;\">\n",
       "      <th></th>\n",
       "      <th>date</th>\n",
       "      <th>category</th>\n",
       "      <th>keyword</th>\n",
       "      <th>importance</th>\n",
       "    </tr>\n",
       "  </thead>\n",
       "  <tbody>\n",
       "    <tr>\n",
       "      <th>0</th>\n",
       "      <td>2022.10.01</td>\n",
       "      <td>스포츠</td>\n",
       "      <td>한국프로축구연맹</td>\n",
       "      <td>0.8569</td>\n",
       "    </tr>\n",
       "    <tr>\n",
       "      <th>1</th>\n",
       "      <td>2022.10.01</td>\n",
       "      <td>스포츠</td>\n",
       "      <td>캘리포니아주</td>\n",
       "      <td>0.8492</td>\n",
       "    </tr>\n",
       "    <tr>\n",
       "      <th>2</th>\n",
       "      <td>2022.10.01</td>\n",
       "      <td>스포츠</td>\n",
       "      <td>올림픽공원</td>\n",
       "      <td>0.8453</td>\n",
       "    </tr>\n",
       "    <tr>\n",
       "      <th>3</th>\n",
       "      <td>2022.10.01</td>\n",
       "      <td>스포츠</td>\n",
       "      <td>한국시리즈</td>\n",
       "      <td>0.8377</td>\n",
       "    </tr>\n",
       "    <tr>\n",
       "      <th>4</th>\n",
       "      <td>2022.10.01</td>\n",
       "      <td>스포츠</td>\n",
       "      <td>샌디에이고</td>\n",
       "      <td>0.8336</td>\n",
       "    </tr>\n",
       "    <tr>\n",
       "      <th>...</th>\n",
       "      <td>...</td>\n",
       "      <td>...</td>\n",
       "      <td>...</td>\n",
       "      <td>...</td>\n",
       "    </tr>\n",
       "    <tr>\n",
       "      <th>3998</th>\n",
       "      <td>2022.10.30</td>\n",
       "      <td>연예</td>\n",
       "      <td>아시아</td>\n",
       "      <td>0.7698</td>\n",
       "    </tr>\n",
       "    <tr>\n",
       "      <th>3999</th>\n",
       "      <td>2022.10.30</td>\n",
       "      <td>연예</td>\n",
       "      <td>서비스</td>\n",
       "      <td>0.7658</td>\n",
       "    </tr>\n",
       "    <tr>\n",
       "      <th>4000</th>\n",
       "      <td>2022.10.30</td>\n",
       "      <td>연예</td>\n",
       "      <td>페스티벌</td>\n",
       "      <td>0.7560</td>\n",
       "    </tr>\n",
       "    <tr>\n",
       "      <th>4001</th>\n",
       "      <td>2022.10.30</td>\n",
       "      <td>연예</td>\n",
       "      <td>콘서트</td>\n",
       "      <td>0.7455</td>\n",
       "    </tr>\n",
       "    <tr>\n",
       "      <th>4002</th>\n",
       "      <td>2022.10.30</td>\n",
       "      <td>연예</td>\n",
       "      <td>코로나</td>\n",
       "      <td>0.7426</td>\n",
       "    </tr>\n",
       "  </tbody>\n",
       "</table>\n",
       "<p>4003 rows × 4 columns</p>\n",
       "</div>"
      ],
      "text/plain": [
       "            date category   keyword  importance\n",
       "0     2022.10.01      스포츠  한국프로축구연맹      0.8569\n",
       "1     2022.10.01      스포츠    캘리포니아주      0.8492\n",
       "2     2022.10.01      스포츠     올림픽공원      0.8453\n",
       "3     2022.10.01      스포츠     한국시리즈      0.8377\n",
       "4     2022.10.01      스포츠     샌디에이고      0.8336\n",
       "...          ...      ...       ...         ...\n",
       "3998  2022.10.30       연예       아시아      0.7698\n",
       "3999  2022.10.30       연예       서비스      0.7658\n",
       "4000  2022.10.30       연예      페스티벌      0.7560\n",
       "4001  2022.10.30       연예       콘서트      0.7455\n",
       "4002  2022.10.30       연예       코로나      0.7426\n",
       "\n",
       "[4003 rows x 4 columns]"
      ]
     },
     "execution_count": 17,
     "metadata": {},
     "output_type": "execute_result"
    }
   ],
   "source": [
    "keywords = pd.read_csv('./Data/keywords.csv')\n",
    "\n",
    "keywords"
   ]
  },
  {
   "cell_type": "code",
   "execution_count": 18,
   "metadata": {},
   "outputs": [],
   "source": [
    "sql_insert = 'INSERT INTO keywords (date, category, keyword, importance) VALUES (%s, %s, %s, %s)'"
   ]
  },
  {
   "cell_type": "code",
   "execution_count": 19,
   "metadata": {},
   "outputs": [],
   "source": [
    "conn = pymysql.connect(host='localhost', user='root', password='1234', db='dins', charset='utf8')\n",
    "cursor = conn.cursor()\n",
    "\n",
    "\n",
    "for index, row in keywords.iterrows():\n",
    "    cursor.execute(sql_insert, (row.date, row.category, row.keyword, row.importance))\n",
    "\n",
    "conn.commit()\n",
    "conn.close()"
   ]
  },
  {
   "cell_type": "code",
   "execution_count": 106,
   "metadata": {},
   "outputs": [],
   "source": [
    "# keywords = model.extract_keywords(contents_nouns, keyphrase_ngram_range=(1,1), top_n=15, use_mmr=True)\n",
    "\n",
    "# keywords"
   ]
  }
 ],
 "metadata": {
  "kernelspec": {
   "display_name": "Python 3.7.13 ('DINS')",
   "language": "python",
   "name": "python3"
  },
  "language_info": {
   "codemirror_mode": {
    "name": "ipython",
    "version": 3
   },
   "file_extension": ".py",
   "mimetype": "text/x-python",
   "name": "python",
   "nbconvert_exporter": "python",
   "pygments_lexer": "ipython3",
   "version": "3.7.13"
  },
  "orig_nbformat": 4,
  "vscode": {
   "interpreter": {
    "hash": "e590ccd7b691ab80e99d866104013fd94fd750e462d26c4ca346d9f79ec019e5"
   }
  }
 },
 "nbformat": 4,
 "nbformat_minor": 2
}
