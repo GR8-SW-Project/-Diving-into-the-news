{
 "cells": [
  {
   "cell_type": "code",
   "execution_count": 1,
   "metadata": {},
   "outputs": [
    {
     "name": "stderr",
     "output_type": "stream",
     "text": [
      "c:\\ProgramData\\Anaconda3\\envs\\DINS\\lib\\site-packages\\tqdm\\auto.py:22: TqdmWarning: IProgress not found. Please update jupyter and ipywidgets. See https://ipywidgets.readthedocs.io/en/stable/user_install.html\n",
      "  from .autonotebook import tqdm as notebook_tqdm\n"
     ]
    }
   ],
   "source": [
    "import numpy as np\n",
    "import pandas as pd\n",
    "import matplotlib.pyplot as plt\n",
    "\n",
    "from konlpy.tag import Komoran\n",
    "\n",
    "import os\n",
    "\n",
    "from keybert import KeyBERT\n",
    "import tqdm"
   ]
  },
  {
   "cell_type": "code",
   "execution_count": 2,
   "metadata": {},
   "outputs": [
    {
     "data": {
      "text/html": [
       "<div>\n",
       "<style scoped>\n",
       "    .dataframe tbody tr th:only-of-type {\n",
       "        vertical-align: middle;\n",
       "    }\n",
       "\n",
       "    .dataframe tbody tr th {\n",
       "        vertical-align: top;\n",
       "    }\n",
       "\n",
       "    .dataframe thead th {\n",
       "        text-align: right;\n",
       "    }\n",
       "</style>\n",
       "<table border=\"1\" class=\"dataframe\">\n",
       "  <thead>\n",
       "    <tr style=\"text-align: right;\">\n",
       "      <th></th>\n",
       "      <th>title</th>\n",
       "      <th>headline</th>\n",
       "      <th>date</th>\n",
       "      <th>link</th>\n",
       "      <th>content</th>\n",
       "      <th>category</th>\n",
       "      <th>site</th>\n",
       "    </tr>\n",
       "  </thead>\n",
       "  <tbody>\n",
       "    <tr>\n",
       "      <th>4282</th>\n",
       "      <td>슈팅 0개로 침묵한 손흥민, '북런던 더비' 5∼6점대 평점</td>\n",
       "      <td>잉글랜드 프리미어리그 '북런던 더비'에서 골 침묵을 지킨 손흥민이 현지 매체로부터 ...</td>\n",
       "      <td>2022.10.01</td>\n",
       "      <td>https://news.sbs.co.kr//news/endPage.do?news_i...</td>\n",
       "      <td>잉글랜드 프리미어리그 '북런던 더비'에서 골 침묵을 지킨 손흥민(30·토트넘)이...</td>\n",
       "      <td>스포츠</td>\n",
       "      <td>sbs</td>\n",
       "    </tr>\n",
       "  </tbody>\n",
       "</table>\n",
       "</div>"
      ],
      "text/plain": [
       "                                  title  \\\n",
       "4282  슈팅 0개로 침묵한 손흥민, '북런던 더비' 5∼6점대 평점   \n",
       "\n",
       "                                               headline        date  \\\n",
       "4282  잉글랜드 프리미어리그 '북런던 더비'에서 골 침묵을 지킨 손흥민이 현지 매체로부터 ...  2022.10.01   \n",
       "\n",
       "                                                   link  \\\n",
       "4282  https://news.sbs.co.kr//news/endPage.do?news_i...   \n",
       "\n",
       "                                                content category site  \n",
       "4282    잉글랜드 프리미어리그 '북런던 더비'에서 골 침묵을 지킨 손흥민(30·토트넘)이...      스포츠  sbs  "
      ]
     },
     "execution_count": 2,
     "metadata": {},
     "output_type": "execute_result"
    }
   ],
   "source": [
    "data = pd.read_csv('./Data/SBS.csv')\n",
    "data = data.iloc[4282:, :]\n",
    "\n",
    "data.head(1)"
   ]
  },
  {
   "cell_type": "code",
   "execution_count": 3,
   "metadata": {},
   "outputs": [
    {
     "data": {
      "text/plain": [
       "7"
      ]
     },
     "execution_count": 3,
     "metadata": {},
     "output_type": "execute_result"
    }
   ],
   "source": [
    "categories = ['sports', 'international', 'social', 'culture', 'economy', 'politics', 'entertainments']\n",
    "\n",
    "len(categories)"
   ]
  },
  {
   "cell_type": "code",
   "execution_count": 4,
   "metadata": {},
   "outputs": [
    {
     "data": {
      "text/plain": [
       "7"
      ]
     },
     "execution_count": 4,
     "metadata": {},
     "output_type": "execute_result"
    }
   ],
   "source": [
    "stopwords = []\n",
    "\n",
    "for category in categories:\n",
    "    stopwords.append(pd.read_csv('./Data/stopwords_{0}.csv'.format(category)).noun.tolist())\n",
    "\n",
    "len(stopwords)"
   ]
  },
  {
   "cell_type": "code",
   "execution_count": 5,
   "metadata": {},
   "outputs": [
    {
     "data": {
      "text/plain": [
       "7"
      ]
     },
     "execution_count": 5,
     "metadata": {},
     "output_type": "execute_result"
    }
   ],
   "source": [
    "nouns_cnt = []\n",
    "\n",
    "for category in categories:\n",
    "    nouns_cnt.append(pd.read_csv('./Data/SBS_nouns_cnt_{0}(excluded).csv'.format(category)).noun.tolist())\n",
    "\n",
    "len(nouns_cnt)"
   ]
  },
  {
   "cell_type": "code",
   "execution_count": 6,
   "metadata": {},
   "outputs": [
    {
     "data": {
      "text/plain": [
       "30"
      ]
     },
     "execution_count": 6,
     "metadata": {},
     "output_type": "execute_result"
    }
   ],
   "source": [
    "dates = data.date.unique()\n",
    "\n",
    "len(dates)\n",
    "# 2022.10.01 ~ 2022.10.30"
   ]
  },
  {
   "cell_type": "code",
   "execution_count": 7,
   "metadata": {},
   "outputs": [],
   "source": [
    "data_date = []\n",
    "\n",
    "for date in dates:\n",
    "    data_date.append(data.groupby('date').get_group(date))"
   ]
  },
  {
   "cell_type": "code",
   "execution_count": 8,
   "metadata": {},
   "outputs": [
    {
     "data": {
      "text/plain": [
       "7"
      ]
     },
     "execution_count": 8,
     "metadata": {},
     "output_type": "execute_result"
    }
   ],
   "source": [
    "categories_news = data.category.unique()\n",
    "\n",
    "len(categories_news)"
   ]
  },
  {
   "cell_type": "code",
   "execution_count": 9,
   "metadata": {},
   "outputs": [],
   "source": [
    "datas = []\n",
    "\n",
    "\n",
    "for data in data_date:\n",
    "    data_category = []\n",
    "    for category in categories_news:\n",
    "        try:\n",
    "            data_category.append(data.groupby('category').get_group(category).content)\n",
    "        except (KeyError):\n",
    "            pass\n",
    "    \n",
    "    datas.append(data_category)"
   ]
  },
  {
   "cell_type": "code",
   "execution_count": 10,
   "metadata": {},
   "outputs": [
    {
     "data": {
      "text/plain": [
       "30"
      ]
     },
     "execution_count": 10,
     "metadata": {},
     "output_type": "execute_result"
    }
   ],
   "source": [
    "len(datas)"
   ]
  },
  {
   "cell_type": "code",
   "execution_count": 11,
   "metadata": {},
   "outputs": [],
   "source": [
    "komoran = Komoran()\n",
    "\n",
    "contents_nouns = []"
   ]
  },
  {
   "cell_type": "code",
   "execution_count": 12,
   "metadata": {},
   "outputs": [],
   "source": [
    "datas_nouns = []\n",
    "\n",
    "for data_date in datas:\n",
    "    contents_nouns = []\n",
    "    \n",
    "    category_idx = 0\n",
    "    \n",
    "    for contents in data_date:\n",
    "        content_nouns = ''\n",
    "        \n",
    "        for text in contents:\n",
    "            poses = komoran.pos(text)\n",
    "        \n",
    "            for pos in poses:\n",
    "                if len(pos[0]) < 3:\n",
    "                    continue\n",
    "                \n",
    "                if pos[-1] == 'NNP':\n",
    "                    if pos[0] not in stopwords[category_idx] and pos[0] in nouns_cnt[category_idx]:\n",
    "                        content_nouns += pos[0] + ' '\n",
    "        \n",
    "        category_idx += 1\n",
    "        \n",
    "        contents_nouns.append(content_nouns)\n",
    "        \n",
    "    datas_nouns.append(contents_nouns)"
   ]
  },
  {
   "cell_type": "code",
   "execution_count": 13,
   "metadata": {},
   "outputs": [
    {
     "data": {
      "text/plain": [
       "30"
      ]
     },
     "execution_count": 13,
     "metadata": {},
     "output_type": "execute_result"
    }
   ],
   "source": [
    "len(datas_nouns)"
   ]
  },
  {
   "cell_type": "code",
   "execution_count": 23,
   "metadata": {},
   "outputs": [
    {
     "data": {
      "text/plain": [
       "['손흥민 토트넘 손흥민 토트넘 손흥민 손흥민 손흥민 토트넘 해리 케인 손흥민 손흥민 토트넘 토트넘 손흥민 토트넘 토트넘 손흥민 손흥민 손흥민 토트넘 토트넘 토트넘 카타르 월드컵 토트넘 손흥민 손흥민 토트넘 토트넘 토트넘 토트넘 손흥민 이해인 이해인 이해인 이해인 이해인 이해인 이해인 이해인 이해인 이해인 신한은행 차준환 차준환 차준환 나폴리 김민재 나폴리 김민재 에르난데스 김민재 김민재 나폴리 나폴리 김민재 나폴리 김민재 토리노 이청용 한국프로축구연맹 김수지 김수지 김수지 박민지 박민지 대한축구협회 한국프로축구연맹 김하성 김하성 김하성 김하성 김하성 김하성 최지만 휴스턴 최지만 최지만 토트넘 손흥민 손흥민 손흥민 손흥민 김채연 김채연 김채연 김채연 김채연 김채연 유소연 유소연 유소연 유소연 차준환 차준환 차준환 차준환 차준환 이해인 김민재 나폴리 나폴리 김민재 나폴리 토리노 김민재 에르난데스 나폴리 김민재 김민재 나폴리 김민재 김민재 나폴리 ',\n",
       " '석유수출국기구 러시아 오스트리아 코로나 사우디아라비아 러시아 코로나 러시아 우크라이나 중앙은행 사우디아라비아 러시아 우크라이나 러시아 러시아 우크라이나 러시아 러시아 우크라이나 도네츠크 루한스크 자포리자 헤르손 우크라이나 러시아 러시아 러시아 러시아 핵무기 우크라이나 우크라이나 우크라이나 우크라이나 안보리 러시아 러시아 중앙은행 러시아 바이든 러시아 우크라이나 우크라이나 자포리자 우크라이나 자포리자 자포리자 우크라이나 러시아 러시아 우크라이나 러시아 우크라이나 자포리자 우크라이나 우크라이나 자포리자 러시아 아프리카 러시아 우크라이나 러시아 벨라루스 러시아 이탈리아 러시아 러시아 러시아 러시아 우크라이나 러시아 러시아 우크라이나 안보리 안보리 브라질 우크라이나 도네츠크 러시아 러시아 우크라이나 안보리 이라크 노르웨이 테슬라 테슬라 테슬라 테슬라 테슬라 인도네시아 인도네시아 인도네시아 일본은행 멕시코 멕시코 멕시코 필리핀 러시아 드미트리 아프리카 아프리카 노벨 문학상 아프리카 프랑스 아프리카 프랑스 아프리카 아프리카 하루키 하루키 하루키 하루키 프랑스 노벨 문학상 하루키 하루키 하루키 하루키 하루키 하루키 하루키 노벨 문학상 노벨 문학상 하루키 하루키 하루키 하루키 하루키 하루키 하루키 러시아 우크라이나 핵무기 하루키 하루키 하루키 하루키 하루키 하루키 하루키 하루키 하루키 노벨 문학상 노벨 문학상 노벨 문학상 하루키 노벨 문학상 하루키 노벨 문학상 하루키 노벨 문학상 아프리카 하루키 하루키 하루키 하루키 하루키 하루키 하루키 하루키 노벨 문학상 스웨덴 하루키 노벨 문학상 하루키 하루키 하루키 하루키 하루키 하루키 하루키 하루키 하루키 하루키 영국 정부 우크라이나 러시아 바이든 유럽연합 우크라이나 러시아 우크라이나 러시아 러시아 중앙은행 러시아 러시아 러시아 바이든 러시아 바이든 우크라이나 북대서양조약기구 러시아 우크라이나 옌스 스톨텐베르그 우크라이나 러시아 러시아 안보리 러시아 러시아 우크라이나 러시아 러시아 핵무기 러시아 우크라이나 러시아 우크라이나 도네츠크 자포리자 헤르손 블라디미르 푸틴 러시아 러시아 러시아 핵무기 러시아 우크라이나 우크라이나 우크라이나 러시아 우크라이나 러시아 바이든 유럽연합 러시아 러시아 우크라이나 러시아 러시아 중앙은행 러시아 러시아 러시아 바이든 러시아 바이든 우크라이나 북대서양조약기구 러시아 우크라이나 옌스 스톨텐베르그 우크라이나 러시아 러시아 안보리 러시아 러시아 우크라이나 러시아 러시아 핵무기 러시아 우크라이나 러시아 우크라이나 도네츠크 자포리자 헤르손 블라디미르 푸틴 러시아 러시아 러시아 핵무기 러시아 우크라이나 우크라이나 우크라이나 러시아 블라디미르 푸틴 러시아 러시아 국방부 우크라이나 러시아 러시아 러시아 러시아 우크라이나 동원령 러시아 국방부 러시아 우크라이나 안보리 러시아 우크라이나 러시아 허리케인 허리케인 허리케인 허리케인 플로리다 허리케인 노스캐롤라이나 노스캐롤라이나 허리케인 허리케인 허리케인 조 바이든 바이든 플로리다 플로리다 프라이스 캐나다 반도체 반도체 반도체 조지아 현대차 윤석열 바이든 블라디미르 푸틴 러시아 우크라이나 러시아 우크라이나 러시아 우크라이나 도네츠크 루한스크 자포리자 헤르손 러시아 러시아 우크라이나 우크라이나 러시아 옌스 스톨텐베르그 러시아 우크라이나 우크라이나 우크라이나 러시아 러시아 영국 정부 러시아 중앙은행 러시아 영국 정부 러시아 이탈리아 이탈리아 러시아 항공모함 러시아 우크라이나 핵무기 우크라이나 러시아 항공모함 항공모함 캐나다 덴마크 프랑스 스페인 스웨덴 러시아 러시아 우크라이나 러시아 조 바이든 러시아 러시아 러시아 중앙은행 러시아 미하일 세르게이 쇼이구 러시아 러시아 아르메니아 러시아 러시아 우크라이나 러시아 벨라루스 바이든 우크라이나 러시아 러시아 우크라이나 우크라이나 러시아 우크라이나 바이든 우크라이나 러시아 우크라이나 루한스크 우크라이나 미하일 우크라이나 크렘린궁 우크라이나 하르키우 루한스크 우크라이나 하르키우 루한스크 루한스크 우크라이나 루한스크 러시아 루한스크 블라디미르 푸틴 크렘린궁 우크라이나 러시아 러시아 우크라이나 우크라이나 도네츠크 루한스크 자포리자 헤르손 러시아 블라디미르 푸틴 러시아 러시아 우크라이나 우크라이나 우크라이나 우크라이나 러시아 러시아 ',\n",
       " '두산건설 이재명 두산건설 두산그룹 이재명 이재명 차병원 설악산 설악산 코로나 코로나 국군의 날 국군의 날 국군의 날 윤석열 국군의 날 두산건설 이재명 두산건설 두산그룹 이재명 차병원 이동하 러시아 우크라이나 우크라이나 러시아 러시아 우크라이나 시진핑 반도체 코로나 코로나 코로나 코로나 코로나 코로나 코로나 코로나 지리산 두산건설 두산건설 두산건설 이재명 코로나 코로나 중앙재난안전대책본부 코로나 ',\n",
       " '미세먼지 초미세먼지 개천절 임은지 ',\n",
       " '무역수지 삼성전자 반도체 반도체 반도체 무역수지 세계 경제 추경호 무역수지 무역수지 에너지 에너지 에너지 무역수지 에너지 무역수지 무역수지 반도체 에너지 에너지 에너지 삼성전자 에너지 추경호 에너지 에너지 우크라이나 에너지 에너지 에너지 에너지 ',\n",
       " '윤석열 비핵화 국군의 날 계룡대 윤석열 비핵화 윤석열 비핵화 윤석열 이재명 민주당 국군의 날 국군의 날 합동참모본부 평안남도 로널드 레이건 항공모함 시진핑 핵실험 상임위원회 윤석열 국군의 날 계룡대 국군의 날 이재명 윤석열 정진석 비상대책위 민주당 민주당 더불어민주당 윤석열 민주당 민주당 윤석열 민주당 윤석열 윤석열 계룡대 국군의 날 핵실험 국군의 날 비핵화 문재인 계룡대 계룡대 해병대 김건희 이종섭 계룡대 러시아 우크라이나 러시아 우크라이나 우크라이나 러시아 우크라이나 러시아 우크라이나 윤석열 윤석열 윤석열 국군의 날 윤석열 국군의 날 합동참모본부 국군의 날 상임위원회 계룡대 국군의 날 윤석열 윤석열 안보리 상임위원회 윤석열 국군의 날 국군의 날 권영세 김규현 합동참모본부 윤석열 계룡대 국군의 날 국군의 날 비핵화 바이든 정상회담 로널드 레이건 국군의 날 상임위원회 윤석열 국군의 날 국군의 날 권영세 김규현 비무장지대 항공모함 잠수함 욱일기 잠수함 로널드 레이건 해상자위대 욱일기 잠수함 잠수함 잠수함 잠수함 핵실험 인플레이션 인플레이션 캐나다 민주당 윤석열 민주당 윤석열 윤석열 민주당 윤석열 민주당 윤석열 윤석열 민주당 민주당 이재명 이재명 민주당 바이든 민주당 민주당 민주당 민주당 주호영 민주당 이재명 윤석열 합동참모본부 잠수함 국군의 날 합동참모본부 국군의 날 계룡대 잠수함 항공모함 로널드 레이건 평안남도 윤석열 ',\n",
       " '박민영 박민영 박민영 박민영 류현진 류현진 구준엽 서희원 구준엽 서희원 구준엽 서희원 구준엽 서희원 서희원 구준엽 서희원 ']"
      ]
     },
     "execution_count": 23,
     "metadata": {},
     "output_type": "execute_result"
    }
   ],
   "source": [
    "datas_nouns[0]"
   ]
  },
  {
   "cell_type": "code",
   "execution_count": 14,
   "metadata": {},
   "outputs": [],
   "source": [
    "model = KeyBERT('bert-base-nli-mean-tokens')"
   ]
  },
  {
   "cell_type": "code",
   "execution_count": 15,
   "metadata": {},
   "outputs": [],
   "source": [
    "datas_keywords = []\n",
    "\n",
    "for data_date in datas_nouns:\n",
    "    contents_keywords = []\n",
    "    \n",
    "    for content_nouns in data_date:\n",
    "        contents_keywords.append(model.extract_keywords(content_nouns, keyphrase_ngram_range=(1,1), top_n=20, use_mmr=True))\n",
    "    \n",
    "    datas_keywords.append(contents_keywords)"
   ]
  },
  {
   "cell_type": "code",
   "execution_count": 16,
   "metadata": {},
   "outputs": [],
   "source": [
    "result_keywords = []\n",
    "\n",
    "date_idx = 0\n",
    "category_idx = 0\n",
    "\n",
    "for data_keywords in datas_keywords:\n",
    "    for keywords in data_keywords:\n",
    "        for keyword in keywords:\n",
    "            result_keywords.append((dates[date_idx], categories_news[category_idx], ) + keyword) # (date, category, keyword, importance)\n",
    "    \n",
    "        category_idx += 1\n",
    "            \n",
    "    date_idx += 1\n",
    "    category_idx = 0"
   ]
  },
  {
   "cell_type": "code",
   "execution_count": 17,
   "metadata": {},
   "outputs": [
    {
     "data": {
      "text/html": [
       "<div>\n",
       "<style scoped>\n",
       "    .dataframe tbody tr th:only-of-type {\n",
       "        vertical-align: middle;\n",
       "    }\n",
       "\n",
       "    .dataframe tbody tr th {\n",
       "        vertical-align: top;\n",
       "    }\n",
       "\n",
       "    .dataframe thead th {\n",
       "        text-align: right;\n",
       "    }\n",
       "</style>\n",
       "<table border=\"1\" class=\"dataframe\">\n",
       "  <thead>\n",
       "    <tr style=\"text-align: right;\">\n",
       "      <th></th>\n",
       "      <th>date</th>\n",
       "      <th>category</th>\n",
       "      <th>keyword</th>\n",
       "      <th>importance</th>\n",
       "    </tr>\n",
       "  </thead>\n",
       "  <tbody>\n",
       "    <tr>\n",
       "      <th>0</th>\n",
       "      <td>2022.10.01</td>\n",
       "      <td>스포츠</td>\n",
       "      <td>손흥민</td>\n",
       "      <td>0.8441</td>\n",
       "    </tr>\n",
       "    <tr>\n",
       "      <th>1</th>\n",
       "      <td>2022.10.01</td>\n",
       "      <td>스포츠</td>\n",
       "      <td>한국프로축구연맹</td>\n",
       "      <td>0.8174</td>\n",
       "    </tr>\n",
       "    <tr>\n",
       "      <th>2</th>\n",
       "      <td>2022.10.01</td>\n",
       "      <td>스포츠</td>\n",
       "      <td>신한은행</td>\n",
       "      <td>0.8048</td>\n",
       "    </tr>\n",
       "    <tr>\n",
       "      <th>3</th>\n",
       "      <td>2022.10.01</td>\n",
       "      <td>스포츠</td>\n",
       "      <td>토트넘</td>\n",
       "      <td>0.7854</td>\n",
       "    </tr>\n",
       "    <tr>\n",
       "      <th>4</th>\n",
       "      <td>2022.10.01</td>\n",
       "      <td>스포츠</td>\n",
       "      <td>토리노</td>\n",
       "      <td>0.7779</td>\n",
       "    </tr>\n",
       "    <tr>\n",
       "      <th>...</th>\n",
       "      <td>...</td>\n",
       "      <td>...</td>\n",
       "      <td>...</td>\n",
       "      <td>...</td>\n",
       "    </tr>\n",
       "    <tr>\n",
       "      <th>3223</th>\n",
       "      <td>2022.10.30</td>\n",
       "      <td>정치</td>\n",
       "      <td>코로나</td>\n",
       "      <td>0.7142</td>\n",
       "    </tr>\n",
       "    <tr>\n",
       "      <th>3224</th>\n",
       "      <td>2022.10.30</td>\n",
       "      <td>정치</td>\n",
       "      <td>비상대책위</td>\n",
       "      <td>0.3600</td>\n",
       "    </tr>\n",
       "    <tr>\n",
       "      <th>3225</th>\n",
       "      <td>2022.10.30</td>\n",
       "      <td>연예</td>\n",
       "      <td>장윤정</td>\n",
       "      <td>0.8763</td>\n",
       "    </tr>\n",
       "    <tr>\n",
       "      <th>3226</th>\n",
       "      <td>2022.10.30</td>\n",
       "      <td>연예</td>\n",
       "      <td>이태원</td>\n",
       "      <td>0.8089</td>\n",
       "    </tr>\n",
       "    <tr>\n",
       "      <th>3227</th>\n",
       "      <td>2022.10.30</td>\n",
       "      <td>연예</td>\n",
       "      <td>코로나</td>\n",
       "      <td>0.7202</td>\n",
       "    </tr>\n",
       "  </tbody>\n",
       "</table>\n",
       "<p>3228 rows × 4 columns</p>\n",
       "</div>"
      ],
      "text/plain": [
       "            date category   keyword  importance\n",
       "0     2022.10.01      스포츠       손흥민      0.8441\n",
       "1     2022.10.01      스포츠  한국프로축구연맹      0.8174\n",
       "2     2022.10.01      스포츠      신한은행      0.8048\n",
       "3     2022.10.01      스포츠       토트넘      0.7854\n",
       "4     2022.10.01      스포츠       토리노      0.7779\n",
       "...          ...      ...       ...         ...\n",
       "3223  2022.10.30       정치       코로나      0.7142\n",
       "3224  2022.10.30       정치     비상대책위      0.3600\n",
       "3225  2022.10.30       연예       장윤정      0.8763\n",
       "3226  2022.10.30       연예       이태원      0.8089\n",
       "3227  2022.10.30       연예       코로나      0.7202\n",
       "\n",
       "[3228 rows x 4 columns]"
      ]
     },
     "execution_count": 17,
     "metadata": {},
     "output_type": "execute_result"
    }
   ],
   "source": [
    "result = pd.DataFrame(result_keywords, columns=['date', 'category', 'keyword', 'importance'])\n",
    "\n",
    "result"
   ]
  },
  {
   "cell_type": "code",
   "execution_count": 18,
   "metadata": {},
   "outputs": [],
   "source": [
    "result.to_csv('./Data/keywords.csv', index=False)"
   ]
  },
  {
   "cell_type": "code",
   "execution_count": 19,
   "metadata": {},
   "outputs": [],
   "source": [
    "import pymysql"
   ]
  },
  {
   "cell_type": "code",
   "execution_count": 20,
   "metadata": {},
   "outputs": [
    {
     "data": {
      "text/html": [
       "<div>\n",
       "<style scoped>\n",
       "    .dataframe tbody tr th:only-of-type {\n",
       "        vertical-align: middle;\n",
       "    }\n",
       "\n",
       "    .dataframe tbody tr th {\n",
       "        vertical-align: top;\n",
       "    }\n",
       "\n",
       "    .dataframe thead th {\n",
       "        text-align: right;\n",
       "    }\n",
       "</style>\n",
       "<table border=\"1\" class=\"dataframe\">\n",
       "  <thead>\n",
       "    <tr style=\"text-align: right;\">\n",
       "      <th></th>\n",
       "      <th>date</th>\n",
       "      <th>category</th>\n",
       "      <th>keyword</th>\n",
       "      <th>importance</th>\n",
       "    </tr>\n",
       "  </thead>\n",
       "  <tbody>\n",
       "    <tr>\n",
       "      <th>0</th>\n",
       "      <td>2022.10.01</td>\n",
       "      <td>스포츠</td>\n",
       "      <td>손흥민</td>\n",
       "      <td>0.8441</td>\n",
       "    </tr>\n",
       "    <tr>\n",
       "      <th>1</th>\n",
       "      <td>2022.10.01</td>\n",
       "      <td>스포츠</td>\n",
       "      <td>한국프로축구연맹</td>\n",
       "      <td>0.8174</td>\n",
       "    </tr>\n",
       "    <tr>\n",
       "      <th>2</th>\n",
       "      <td>2022.10.01</td>\n",
       "      <td>스포츠</td>\n",
       "      <td>신한은행</td>\n",
       "      <td>0.8048</td>\n",
       "    </tr>\n",
       "    <tr>\n",
       "      <th>3</th>\n",
       "      <td>2022.10.01</td>\n",
       "      <td>스포츠</td>\n",
       "      <td>토트넘</td>\n",
       "      <td>0.7854</td>\n",
       "    </tr>\n",
       "    <tr>\n",
       "      <th>4</th>\n",
       "      <td>2022.10.01</td>\n",
       "      <td>스포츠</td>\n",
       "      <td>토리노</td>\n",
       "      <td>0.7779</td>\n",
       "    </tr>\n",
       "    <tr>\n",
       "      <th>...</th>\n",
       "      <td>...</td>\n",
       "      <td>...</td>\n",
       "      <td>...</td>\n",
       "      <td>...</td>\n",
       "    </tr>\n",
       "    <tr>\n",
       "      <th>3223</th>\n",
       "      <td>2022.10.30</td>\n",
       "      <td>정치</td>\n",
       "      <td>코로나</td>\n",
       "      <td>0.7142</td>\n",
       "    </tr>\n",
       "    <tr>\n",
       "      <th>3224</th>\n",
       "      <td>2022.10.30</td>\n",
       "      <td>정치</td>\n",
       "      <td>비상대책위</td>\n",
       "      <td>0.3600</td>\n",
       "    </tr>\n",
       "    <tr>\n",
       "      <th>3225</th>\n",
       "      <td>2022.10.30</td>\n",
       "      <td>연예</td>\n",
       "      <td>장윤정</td>\n",
       "      <td>0.8763</td>\n",
       "    </tr>\n",
       "    <tr>\n",
       "      <th>3226</th>\n",
       "      <td>2022.10.30</td>\n",
       "      <td>연예</td>\n",
       "      <td>이태원</td>\n",
       "      <td>0.8089</td>\n",
       "    </tr>\n",
       "    <tr>\n",
       "      <th>3227</th>\n",
       "      <td>2022.10.30</td>\n",
       "      <td>연예</td>\n",
       "      <td>코로나</td>\n",
       "      <td>0.7202</td>\n",
       "    </tr>\n",
       "  </tbody>\n",
       "</table>\n",
       "<p>3228 rows × 4 columns</p>\n",
       "</div>"
      ],
      "text/plain": [
       "            date category   keyword  importance\n",
       "0     2022.10.01      스포츠       손흥민      0.8441\n",
       "1     2022.10.01      스포츠  한국프로축구연맹      0.8174\n",
       "2     2022.10.01      스포츠      신한은행      0.8048\n",
       "3     2022.10.01      스포츠       토트넘      0.7854\n",
       "4     2022.10.01      스포츠       토리노      0.7779\n",
       "...          ...      ...       ...         ...\n",
       "3223  2022.10.30       정치       코로나      0.7142\n",
       "3224  2022.10.30       정치     비상대책위      0.3600\n",
       "3225  2022.10.30       연예       장윤정      0.8763\n",
       "3226  2022.10.30       연예       이태원      0.8089\n",
       "3227  2022.10.30       연예       코로나      0.7202\n",
       "\n",
       "[3228 rows x 4 columns]"
      ]
     },
     "execution_count": 20,
     "metadata": {},
     "output_type": "execute_result"
    }
   ],
   "source": [
    "keywords = pd.read_csv('./Data/keywords.csv')\n",
    "\n",
    "keywords"
   ]
  },
  {
   "cell_type": "code",
   "execution_count": 21,
   "metadata": {},
   "outputs": [],
   "source": [
    "sql_insert = 'INSERT INTO keywords (date, category, keyword, importance) VALUES (%s, %s, %s, %s)'"
   ]
  },
  {
   "cell_type": "code",
   "execution_count": 22,
   "metadata": {},
   "outputs": [],
   "source": [
    "conn = pymysql.connect(host='localhost', user='root', password='1234', db='dins', charset='utf8')\n",
    "cursor = conn.cursor()\n",
    "\n",
    "\n",
    "for index, row in keywords.iterrows():\n",
    "    cursor.execute(sql_insert, (row.date, row.category, row.keyword, row.importance))\n",
    "\n",
    "conn.commit()\n",
    "conn.close()"
   ]
  },
  {
   "cell_type": "code",
   "execution_count": 106,
   "metadata": {},
   "outputs": [],
   "source": [
    "# keywords = model.extract_keywords(contents_nouns, keyphrase_ngram_range=(1,1), top_n=15, use_mmr=True)\n",
    "\n",
    "# keywords"
   ]
  }
 ],
 "metadata": {
  "kernelspec": {
   "display_name": "Python 3.7.13 ('DINS')",
   "language": "python",
   "name": "python3"
  },
  "language_info": {
   "codemirror_mode": {
    "name": "ipython",
    "version": 3
   },
   "file_extension": ".py",
   "mimetype": "text/x-python",
   "name": "python",
   "nbconvert_exporter": "python",
   "pygments_lexer": "ipython3",
   "version": "3.7.13"
  },
  "orig_nbformat": 4,
  "vscode": {
   "interpreter": {
    "hash": "e590ccd7b691ab80e99d866104013fd94fd750e462d26c4ca346d9f79ec019e5"
   }
  }
 },
 "nbformat": 4,
 "nbformat_minor": 2
}
