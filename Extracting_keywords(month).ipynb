{
 "cells": [
  {
   "cell_type": "code",
   "execution_count": 1,
   "metadata": {},
   "outputs": [
    {
     "name": "stderr",
     "output_type": "stream",
     "text": [
      "c:\\ProgramData\\Anaconda3\\envs\\DINS\\lib\\site-packages\\tqdm\\auto.py:22: TqdmWarning: IProgress not found. Please update jupyter and ipywidgets. See https://ipywidgets.readthedocs.io/en/stable/user_install.html\n",
      "  from .autonotebook import tqdm as notebook_tqdm\n"
     ]
    }
   ],
   "source": [
    "import numpy as np\n",
    "import pandas as pd\n",
    "import matplotlib.pyplot as plt\n",
    "\n",
    "from konlpy.tag import Okt\n",
    "\n",
    "import os\n",
    "\n",
    "from keybert import KeyBERT\n",
    "import tqdm"
   ]
  },
  {
   "cell_type": "code",
   "execution_count": 70,
   "metadata": {},
   "outputs": [
    {
     "data": {
      "text/html": [
       "<div>\n",
       "<style scoped>\n",
       "    .dataframe tbody tr th:only-of-type {\n",
       "        vertical-align: middle;\n",
       "    }\n",
       "\n",
       "    .dataframe tbody tr th {\n",
       "        vertical-align: top;\n",
       "    }\n",
       "\n",
       "    .dataframe thead th {\n",
       "        text-align: right;\n",
       "    }\n",
       "</style>\n",
       "<table border=\"1\" class=\"dataframe\">\n",
       "  <thead>\n",
       "    <tr style=\"text-align: right;\">\n",
       "      <th></th>\n",
       "      <th>title</th>\n",
       "      <th>headline</th>\n",
       "      <th>date</th>\n",
       "      <th>link</th>\n",
       "      <th>content</th>\n",
       "      <th>category</th>\n",
       "      <th>site</th>\n",
       "    </tr>\n",
       "  </thead>\n",
       "  <tbody>\n",
       "    <tr>\n",
       "      <th>0</th>\n",
       "      <td>이란 남부 원유시설서 화재…업체 대표 \"정체불명 세력이 방화\"</td>\n",
       "      <td>이란 남부 원유시설에서 불이 나 한때 생산이 중단됐다고 현지 언론이 13일 보도했습...</td>\n",
       "      <td>2022.09.13</td>\n",
       "      <td>https://news.sbs.co.kr//news/endPage.do?news_i...</td>\n",
       "      <td>이란 남부 원유시설에서 불이 나 한때 생산이 중단됐다고 현지 언론이 13일(현지...</td>\n",
       "      <td>국제</td>\n",
       "      <td>sbs</td>\n",
       "    </tr>\n",
       "  </tbody>\n",
       "</table>\n",
       "</div>"
      ],
      "text/plain": [
       "                                title  \\\n",
       "0  이란 남부 원유시설서 화재…업체 대표 \"정체불명 세력이 방화\"   \n",
       "\n",
       "                                            headline        date  \\\n",
       "0  이란 남부 원유시설에서 불이 나 한때 생산이 중단됐다고 현지 언론이 13일 보도했습...  2022.09.13   \n",
       "\n",
       "                                                link  \\\n",
       "0  https://news.sbs.co.kr//news/endPage.do?news_i...   \n",
       "\n",
       "                                             content category site  \n",
       "0    이란 남부 원유시설에서 불이 나 한때 생산이 중단됐다고 현지 언론이 13일(현지...       국제  sbs  "
      ]
     },
     "execution_count": 70,
     "metadata": {},
     "output_type": "execute_result"
    }
   ],
   "source": [
    "data = pd.read_csv('./Data/SBS.csv')\n",
    "\n",
    "data.head(1)"
   ]
  },
  {
   "cell_type": "code",
   "execution_count": 71,
   "metadata": {},
   "outputs": [],
   "source": [
    "data.date = data.date.str.split('.').str[1]"
   ]
  },
  {
   "cell_type": "code",
   "execution_count": 73,
   "metadata": {},
   "outputs": [
    {
     "data": {
      "text/plain": [
       "6552"
      ]
     },
     "execution_count": 73,
     "metadata": {},
     "output_type": "execute_result"
    }
   ],
   "source": [
    "data_month = data.groupby('date').get_group('10')\n",
    "len(data_month)"
   ]
  },
  {
   "cell_type": "code",
   "execution_count": 75,
   "metadata": {},
   "outputs": [
    {
     "data": {
      "text/plain": [
       "7"
      ]
     },
     "execution_count": 75,
     "metadata": {},
     "output_type": "execute_result"
    }
   ],
   "source": [
    "categories = data_month.category.unique()\n",
    "\n",
    "len(categories)\n",
    "# '사회', '국제', '스포츠', '생활·문화', '경제', '정치', '연예'"
   ]
  },
  {
   "cell_type": "code",
   "execution_count": 76,
   "metadata": {},
   "outputs": [],
   "source": [
    "okt = Okt()"
   ]
  },
  {
   "cell_type": "code",
   "execution_count": 104,
   "metadata": {},
   "outputs": [],
   "source": [
    "datas = []\n",
    "\n",
    "for category in categories:\n",
    "    try:\n",
    "        datas.append(data_month.groupby('category').get_group(category).content)\n",
    "    except (KeyError):\n",
    "        pass"
   ]
  },
  {
   "cell_type": "code",
   "execution_count": 122,
   "metadata": {},
   "outputs": [],
   "source": [
    "datas_nouns = []\n",
    "\n",
    "for contents in datas:\n",
    "    content_nouns = ''\n",
    "    \n",
    "    for text in contents:\n",
    "        text_nouns = okt.nouns(text)\n",
    "        \n",
    "        for noun in text_nouns:\n",
    "            content_nouns += noun + ' '\n",
    "            \n",
    "    datas_nouns.append(content_nouns)"
   ]
  },
  {
   "cell_type": "code",
   "execution_count": 123,
   "metadata": {},
   "outputs": [],
   "source": [
    "model = KeyBERT('distilbert-base-nli-mean-tokens')"
   ]
  },
  {
   "cell_type": "code",
   "execution_count": 124,
   "metadata": {},
   "outputs": [],
   "source": [
    "datas_keywords = []\n",
    "\n",
    "for content_nouns in datas_nouns:\n",
    "    datas_keywords.append(model.extract_keywords(content_nouns, keyphrase_ngram_range=(1,1), top_n=20, use_mmr=True))"
   ]
  },
  {
   "cell_type": "code",
   "execution_count": 129,
   "metadata": {},
   "outputs": [],
   "source": [
    "result_keywords = []\n",
    "\n",
    "category_idx = 0\n",
    "\n",
    "for keywords in datas_keywords:\n",
    "    for keyword in keywords:\n",
    "        result_keywords.append(('10', categories[category_idx], ) + keyword) # (date, category, keyword, importance)\n",
    "\n",
    "    category_idx += 1"
   ]
  },
  {
   "cell_type": "code",
   "execution_count": 132,
   "metadata": {},
   "outputs": [
    {
     "data": {
      "text/html": [
       "<div>\n",
       "<style scoped>\n",
       "    .dataframe tbody tr th:only-of-type {\n",
       "        vertical-align: middle;\n",
       "    }\n",
       "\n",
       "    .dataframe tbody tr th {\n",
       "        vertical-align: top;\n",
       "    }\n",
       "\n",
       "    .dataframe thead th {\n",
       "        text-align: right;\n",
       "    }\n",
       "</style>\n",
       "<table border=\"1\" class=\"dataframe\">\n",
       "  <thead>\n",
       "    <tr style=\"text-align: right;\">\n",
       "      <th></th>\n",
       "      <th>month</th>\n",
       "      <th>category</th>\n",
       "      <th>keyword</th>\n",
       "      <th>importance</th>\n",
       "    </tr>\n",
       "  </thead>\n",
       "  <tbody>\n",
       "    <tr>\n",
       "      <th>0</th>\n",
       "      <td>10</td>\n",
       "      <td>스포츠</td>\n",
       "      <td>월드베이스볼클래식</td>\n",
       "      <td>0.8933</td>\n",
       "    </tr>\n",
       "    <tr>\n",
       "      <th>1</th>\n",
       "      <td>10</td>\n",
       "      <td>스포츠</td>\n",
       "      <td>다이아몬드백스</td>\n",
       "      <td>0.8778</td>\n",
       "    </tr>\n",
       "    <tr>\n",
       "      <th>2</th>\n",
       "      <td>10</td>\n",
       "      <td>스포츠</td>\n",
       "      <td>유럽챔피언스리그</td>\n",
       "      <td>0.8759</td>\n",
       "    </tr>\n",
       "    <tr>\n",
       "      <th>3</th>\n",
       "      <td>10</td>\n",
       "      <td>스포츠</td>\n",
       "      <td>도미니카공화국</td>\n",
       "      <td>0.8708</td>\n",
       "    </tr>\n",
       "    <tr>\n",
       "      <th>4</th>\n",
       "      <td>10</td>\n",
       "      <td>스포츠</td>\n",
       "      <td>사우스캐롤라이나주</td>\n",
       "      <td>0.8674</td>\n",
       "    </tr>\n",
       "    <tr>\n",
       "      <th>...</th>\n",
       "      <td>...</td>\n",
       "      <td>...</td>\n",
       "      <td>...</td>\n",
       "      <td>...</td>\n",
       "    </tr>\n",
       "    <tr>\n",
       "      <th>135</th>\n",
       "      <td>10</td>\n",
       "      <td>연예</td>\n",
       "      <td>후반작업</td>\n",
       "      <td>0.8105</td>\n",
       "    </tr>\n",
       "    <tr>\n",
       "      <th>136</th>\n",
       "      <td>10</td>\n",
       "      <td>연예</td>\n",
       "      <td>지방검찰청</td>\n",
       "      <td>0.8022</td>\n",
       "    </tr>\n",
       "    <tr>\n",
       "      <th>137</th>\n",
       "      <td>10</td>\n",
       "      <td>연예</td>\n",
       "      <td>연세대학교</td>\n",
       "      <td>0.8021</td>\n",
       "    </tr>\n",
       "    <tr>\n",
       "      <th>138</th>\n",
       "      <td>10</td>\n",
       "      <td>연예</td>\n",
       "      <td>블랙박스</td>\n",
       "      <td>0.7925</td>\n",
       "    </tr>\n",
       "    <tr>\n",
       "      <th>139</th>\n",
       "      <td>10</td>\n",
       "      <td>연예</td>\n",
       "      <td>슈퍼주니어</td>\n",
       "      <td>0.7856</td>\n",
       "    </tr>\n",
       "  </tbody>\n",
       "</table>\n",
       "<p>140 rows × 4 columns</p>\n",
       "</div>"
      ],
      "text/plain": [
       "    month category    keyword  importance\n",
       "0      10      스포츠  월드베이스볼클래식      0.8933\n",
       "1      10      스포츠    다이아몬드백스      0.8778\n",
       "2      10      스포츠   유럽챔피언스리그      0.8759\n",
       "3      10      스포츠    도미니카공화국      0.8708\n",
       "4      10      스포츠  사우스캐롤라이나주      0.8674\n",
       "..    ...      ...        ...         ...\n",
       "135    10       연예       후반작업      0.8105\n",
       "136    10       연예      지방검찰청      0.8022\n",
       "137    10       연예      연세대학교      0.8021\n",
       "138    10       연예       블랙박스      0.7925\n",
       "139    10       연예      슈퍼주니어      0.7856\n",
       "\n",
       "[140 rows x 4 columns]"
      ]
     },
     "execution_count": 132,
     "metadata": {},
     "output_type": "execute_result"
    }
   ],
   "source": [
    "result = pd.DataFrame(result_keywords, columns=['month', 'category', 'keyword', 'importance'])\n",
    "\n",
    "result"
   ]
  },
  {
   "cell_type": "code",
   "execution_count": 133,
   "metadata": {},
   "outputs": [],
   "source": [
    "result.to_csv('./Data/keywords(month).csv', index=False)"
   ]
  },
  {
   "cell_type": "code",
   "execution_count": 139,
   "metadata": {},
   "outputs": [],
   "source": [
    "import pymysql"
   ]
  },
  {
   "cell_type": "code",
   "execution_count": 140,
   "metadata": {},
   "outputs": [
    {
     "data": {
      "text/html": [
       "<div>\n",
       "<style scoped>\n",
       "    .dataframe tbody tr th:only-of-type {\n",
       "        vertical-align: middle;\n",
       "    }\n",
       "\n",
       "    .dataframe tbody tr th {\n",
       "        vertical-align: top;\n",
       "    }\n",
       "\n",
       "    .dataframe thead th {\n",
       "        text-align: right;\n",
       "    }\n",
       "</style>\n",
       "<table border=\"1\" class=\"dataframe\">\n",
       "  <thead>\n",
       "    <tr style=\"text-align: right;\">\n",
       "      <th></th>\n",
       "      <th>month</th>\n",
       "      <th>category</th>\n",
       "      <th>keyword</th>\n",
       "      <th>importance</th>\n",
       "    </tr>\n",
       "  </thead>\n",
       "  <tbody>\n",
       "    <tr>\n",
       "      <th>0</th>\n",
       "      <td>10</td>\n",
       "      <td>스포츠</td>\n",
       "      <td>월드베이스볼클래식</td>\n",
       "      <td>0.8933</td>\n",
       "    </tr>\n",
       "    <tr>\n",
       "      <th>1</th>\n",
       "      <td>10</td>\n",
       "      <td>스포츠</td>\n",
       "      <td>다이아몬드백스</td>\n",
       "      <td>0.8778</td>\n",
       "    </tr>\n",
       "    <tr>\n",
       "      <th>2</th>\n",
       "      <td>10</td>\n",
       "      <td>스포츠</td>\n",
       "      <td>유럽챔피언스리그</td>\n",
       "      <td>0.8759</td>\n",
       "    </tr>\n",
       "    <tr>\n",
       "      <th>3</th>\n",
       "      <td>10</td>\n",
       "      <td>스포츠</td>\n",
       "      <td>도미니카공화국</td>\n",
       "      <td>0.8708</td>\n",
       "    </tr>\n",
       "    <tr>\n",
       "      <th>4</th>\n",
       "      <td>10</td>\n",
       "      <td>스포츠</td>\n",
       "      <td>사우스캐롤라이나주</td>\n",
       "      <td>0.8674</td>\n",
       "    </tr>\n",
       "    <tr>\n",
       "      <th>...</th>\n",
       "      <td>...</td>\n",
       "      <td>...</td>\n",
       "      <td>...</td>\n",
       "      <td>...</td>\n",
       "    </tr>\n",
       "    <tr>\n",
       "      <th>135</th>\n",
       "      <td>10</td>\n",
       "      <td>연예</td>\n",
       "      <td>후반작업</td>\n",
       "      <td>0.8105</td>\n",
       "    </tr>\n",
       "    <tr>\n",
       "      <th>136</th>\n",
       "      <td>10</td>\n",
       "      <td>연예</td>\n",
       "      <td>지방검찰청</td>\n",
       "      <td>0.8022</td>\n",
       "    </tr>\n",
       "    <tr>\n",
       "      <th>137</th>\n",
       "      <td>10</td>\n",
       "      <td>연예</td>\n",
       "      <td>연세대학교</td>\n",
       "      <td>0.8021</td>\n",
       "    </tr>\n",
       "    <tr>\n",
       "      <th>138</th>\n",
       "      <td>10</td>\n",
       "      <td>연예</td>\n",
       "      <td>블랙박스</td>\n",
       "      <td>0.7925</td>\n",
       "    </tr>\n",
       "    <tr>\n",
       "      <th>139</th>\n",
       "      <td>10</td>\n",
       "      <td>연예</td>\n",
       "      <td>슈퍼주니어</td>\n",
       "      <td>0.7856</td>\n",
       "    </tr>\n",
       "  </tbody>\n",
       "</table>\n",
       "<p>140 rows × 4 columns</p>\n",
       "</div>"
      ],
      "text/plain": [
       "     month category    keyword  importance\n",
       "0       10      스포츠  월드베이스볼클래식      0.8933\n",
       "1       10      스포츠    다이아몬드백스      0.8778\n",
       "2       10      스포츠   유럽챔피언스리그      0.8759\n",
       "3       10      스포츠    도미니카공화국      0.8708\n",
       "4       10      스포츠  사우스캐롤라이나주      0.8674\n",
       "..     ...      ...        ...         ...\n",
       "135     10       연예       후반작업      0.8105\n",
       "136     10       연예      지방검찰청      0.8022\n",
       "137     10       연예      연세대학교      0.8021\n",
       "138     10       연예       블랙박스      0.7925\n",
       "139     10       연예      슈퍼주니어      0.7856\n",
       "\n",
       "[140 rows x 4 columns]"
      ]
     },
     "execution_count": 140,
     "metadata": {},
     "output_type": "execute_result"
    }
   ],
   "source": [
    "keywords = pd.read_csv('./Data/keywords(month).csv')\n",
    "\n",
    "keywords"
   ]
  },
  {
   "cell_type": "code",
   "execution_count": 144,
   "metadata": {},
   "outputs": [],
   "source": [
    "sql_insert = 'INSERT INTO keywords_month (month, category, keyword, importance) VALUES (%s, %s, %s, %s)'"
   ]
  },
  {
   "cell_type": "code",
   "execution_count": 145,
   "metadata": {},
   "outputs": [],
   "source": [
    "conn = pymysql.connect(host='localhost', user='root', password='1234', db='dins', charset='utf8')\n",
    "cursor = conn.cursor()\n",
    "\n",
    "\n",
    "for index, row in keywords.iterrows():\n",
    "    cursor.execute(sql_insert, (row.month, row.category, row.keyword, row.importance))\n",
    "\n",
    "conn.commit()\n",
    "conn.close()"
   ]
  },
  {
   "cell_type": "code",
   "execution_count": 106,
   "metadata": {},
   "outputs": [],
   "source": [
    "# keywords = model.extract_keywords(contents_nouns, keyphrase_ngram_range=(1,1), top_n=15, use_mmr=True)\n",
    "\n",
    "# keywords"
   ]
  }
 ],
 "metadata": {
  "kernelspec": {
   "display_name": "Python 3.7.13 ('DINS')",
   "language": "python",
   "name": "python3"
  },
  "language_info": {
   "codemirror_mode": {
    "name": "ipython",
    "version": 3
   },
   "file_extension": ".py",
   "mimetype": "text/x-python",
   "name": "python",
   "nbconvert_exporter": "python",
   "pygments_lexer": "ipython3",
   "version": "3.7.13"
  },
  "orig_nbformat": 4,
  "vscode": {
   "interpreter": {
    "hash": "e590ccd7b691ab80e99d866104013fd94fd750e462d26c4ca346d9f79ec019e5"
   }
  }
 },
 "nbformat": 4,
 "nbformat_minor": 2
}
