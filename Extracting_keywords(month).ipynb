{
 "cells": [
  {
   "cell_type": "code",
   "execution_count": 1,
   "metadata": {},
   "outputs": [
    {
     "name": "stderr",
     "output_type": "stream",
     "text": [
      "c:\\ProgramData\\Anaconda3\\envs\\DINS\\lib\\site-packages\\tqdm\\auto.py:22: TqdmWarning: IProgress not found. Please update jupyter and ipywidgets. See https://ipywidgets.readthedocs.io/en/stable/user_install.html\n",
      "  from .autonotebook import tqdm as notebook_tqdm\n"
     ]
    }
   ],
   "source": [
    "import numpy as np\n",
    "import pandas as pd\n",
    "import matplotlib.pyplot as plt\n",
    "\n",
    "from konlpy.tag import Komoran\n",
    "\n",
    "import os\n",
    "\n",
    "from keybert import KeyBERT\n",
    "import tqdm"
   ]
  },
  {
   "cell_type": "code",
   "execution_count": 2,
   "metadata": {},
   "outputs": [
    {
     "data": {
      "text/html": [
       "<div>\n",
       "<style scoped>\n",
       "    .dataframe tbody tr th:only-of-type {\n",
       "        vertical-align: middle;\n",
       "    }\n",
       "\n",
       "    .dataframe tbody tr th {\n",
       "        vertical-align: top;\n",
       "    }\n",
       "\n",
       "    .dataframe thead th {\n",
       "        text-align: right;\n",
       "    }\n",
       "</style>\n",
       "<table border=\"1\" class=\"dataframe\">\n",
       "  <thead>\n",
       "    <tr style=\"text-align: right;\">\n",
       "      <th></th>\n",
       "      <th>title</th>\n",
       "      <th>headline</th>\n",
       "      <th>date</th>\n",
       "      <th>link</th>\n",
       "      <th>content</th>\n",
       "      <th>category</th>\n",
       "      <th>site</th>\n",
       "    </tr>\n",
       "  </thead>\n",
       "  <tbody>\n",
       "    <tr>\n",
       "      <th>4282</th>\n",
       "      <td>슈팅 0개로 침묵한 손흥민, '북런던 더비' 5∼6점대 평점</td>\n",
       "      <td>잉글랜드 프리미어리그 '북런던 더비'에서 골 침묵을 지킨 손흥민이 현지 매체로부터 ...</td>\n",
       "      <td>2022.10.01</td>\n",
       "      <td>https://news.sbs.co.kr//news/endPage.do?news_i...</td>\n",
       "      <td>잉글랜드 프리미어리그 '북런던 더비'에서 골 침묵을 지킨 손흥민(30·토트넘)이...</td>\n",
       "      <td>스포츠</td>\n",
       "      <td>sbs</td>\n",
       "    </tr>\n",
       "  </tbody>\n",
       "</table>\n",
       "</div>"
      ],
      "text/plain": [
       "                                  title  \\\n",
       "4282  슈팅 0개로 침묵한 손흥민, '북런던 더비' 5∼6점대 평점   \n",
       "\n",
       "                                               headline        date  \\\n",
       "4282  잉글랜드 프리미어리그 '북런던 더비'에서 골 침묵을 지킨 손흥민이 현지 매체로부터 ...  2022.10.01   \n",
       "\n",
       "                                                   link  \\\n",
       "4282  https://news.sbs.co.kr//news/endPage.do?news_i...   \n",
       "\n",
       "                                                content category site  \n",
       "4282    잉글랜드 프리미어리그 '북런던 더비'에서 골 침묵을 지킨 손흥민(30·토트넘)이...      스포츠  sbs  "
      ]
     },
     "execution_count": 2,
     "metadata": {},
     "output_type": "execute_result"
    }
   ],
   "source": [
    "data = pd.read_csv('./Data/SBS.csv')\n",
    "data = data.iloc[4282:, :]\n",
    "\n",
    "data.head(1)"
   ]
  },
  {
   "cell_type": "code",
   "execution_count": 3,
   "metadata": {},
   "outputs": [
    {
     "data": {
      "text/plain": [
       "9584"
      ]
     },
     "execution_count": 3,
     "metadata": {},
     "output_type": "execute_result"
    }
   ],
   "source": [
    "stopwords = pd.read_csv('./Data/stopwords.csv').noun.tolist()\n",
    "\n",
    "len(stopwords)"
   ]
  },
  {
   "cell_type": "code",
   "execution_count": 4,
   "metadata": {},
   "outputs": [],
   "source": [
    "data.date = data.date.str.split('.').str[1]"
   ]
  },
  {
   "cell_type": "code",
   "execution_count": 5,
   "metadata": {},
   "outputs": [
    {
     "data": {
      "text/plain": [
       "6552"
      ]
     },
     "execution_count": 5,
     "metadata": {},
     "output_type": "execute_result"
    }
   ],
   "source": [
    "data_month = data.groupby('date').get_group('10')\n",
    "len(data_month)"
   ]
  },
  {
   "cell_type": "code",
   "execution_count": 6,
   "metadata": {},
   "outputs": [
    {
     "data": {
      "text/plain": [
       "7"
      ]
     },
     "execution_count": 6,
     "metadata": {},
     "output_type": "execute_result"
    }
   ],
   "source": [
    "categories = data_month.category.unique()\n",
    "\n",
    "len(categories)\n",
    "# '사회', '국제', '스포츠', '생활·문화', '경제', '정치', '연예'"
   ]
  },
  {
   "cell_type": "code",
   "execution_count": 7,
   "metadata": {},
   "outputs": [],
   "source": [
    "komoran = Komoran()"
   ]
  },
  {
   "cell_type": "code",
   "execution_count": 8,
   "metadata": {},
   "outputs": [],
   "source": [
    "datas = []\n",
    "\n",
    "for category in categories:\n",
    "    try:\n",
    "        datas.append(data_month.groupby('category').get_group(category).content)\n",
    "    except (KeyError):\n",
    "        pass"
   ]
  },
  {
   "cell_type": "code",
   "execution_count": 9,
   "metadata": {},
   "outputs": [],
   "source": [
    "datas_nouns = []\n",
    "\n",
    "for contents in datas:\n",
    "    content_nouns = ''\n",
    "    \n",
    "    for text in contents:\n",
    "        poses = komoran.pos(text)\n",
    "        \n",
    "        for pos in poses:\n",
    "            if len(pos[0]) < 3:\n",
    "                continue\n",
    "            \n",
    "            if pos[-1] == 'NNP':\n",
    "                if pos[0] not in stopwords:\n",
    "                    content_nouns += pos[0] + ' '\n",
    "            \n",
    "    datas_nouns.append(content_nouns)"
   ]
  },
  {
   "cell_type": "code",
   "execution_count": 10,
   "metadata": {},
   "outputs": [],
   "source": [
    "# model = KeyBERT('distilbert-base-nli-mean-tokens')\n",
    "\n",
    "model = KeyBERT('bert-base-nli-mean-tokens')"
   ]
  },
  {
   "cell_type": "code",
   "execution_count": 11,
   "metadata": {},
   "outputs": [],
   "source": [
    "datas_keywords = []\n",
    "\n",
    "for content_nouns in datas_nouns:\n",
    "    datas_keywords.append(model.extract_keywords(content_nouns, keyphrase_ngram_range=(1,1), top_n=20, use_mmr=True))"
   ]
  },
  {
   "cell_type": "code",
   "execution_count": 12,
   "metadata": {},
   "outputs": [],
   "source": [
    "result_keywords = []\n",
    "\n",
    "category_idx = 0\n",
    "\n",
    "for keywords in datas_keywords:\n",
    "    for keyword in keywords:\n",
    "        result_keywords.append(('10', categories[category_idx], ) + keyword) # (date, category, keyword, importance)\n",
    "\n",
    "    category_idx += 1"
   ]
  },
  {
   "cell_type": "code",
   "execution_count": 13,
   "metadata": {},
   "outputs": [
    {
     "data": {
      "text/html": [
       "<div>\n",
       "<style scoped>\n",
       "    .dataframe tbody tr th:only-of-type {\n",
       "        vertical-align: middle;\n",
       "    }\n",
       "\n",
       "    .dataframe tbody tr th {\n",
       "        vertical-align: top;\n",
       "    }\n",
       "\n",
       "    .dataframe thead th {\n",
       "        text-align: right;\n",
       "    }\n",
       "</style>\n",
       "<table border=\"1\" class=\"dataframe\">\n",
       "  <thead>\n",
       "    <tr style=\"text-align: right;\">\n",
       "      <th></th>\n",
       "      <th>month</th>\n",
       "      <th>category</th>\n",
       "      <th>keyword</th>\n",
       "      <th>importance</th>\n",
       "    </tr>\n",
       "  </thead>\n",
       "  <tbody>\n",
       "    <tr>\n",
       "      <th>0</th>\n",
       "      <td>10</td>\n",
       "      <td>스포츠</td>\n",
       "      <td>한국프로축구연맹</td>\n",
       "      <td>0.8569</td>\n",
       "    </tr>\n",
       "    <tr>\n",
       "      <th>1</th>\n",
       "      <td>10</td>\n",
       "      <td>스포츠</td>\n",
       "      <td>사우스캐롤라이나</td>\n",
       "      <td>0.8564</td>\n",
       "    </tr>\n",
       "    <tr>\n",
       "      <th>2</th>\n",
       "      <td>10</td>\n",
       "      <td>스포츠</td>\n",
       "      <td>고척스카이돔</td>\n",
       "      <td>0.8490</td>\n",
       "    </tr>\n",
       "    <tr>\n",
       "      <th>3</th>\n",
       "      <td>10</td>\n",
       "      <td>스포츠</td>\n",
       "      <td>챔피언스리그</td>\n",
       "      <td>0.8480</td>\n",
       "    </tr>\n",
       "    <tr>\n",
       "      <th>4</th>\n",
       "      <td>10</td>\n",
       "      <td>스포츠</td>\n",
       "      <td>펜실베이니아주</td>\n",
       "      <td>0.8472</td>\n",
       "    </tr>\n",
       "    <tr>\n",
       "      <th>...</th>\n",
       "      <td>...</td>\n",
       "      <td>...</td>\n",
       "      <td>...</td>\n",
       "      <td>...</td>\n",
       "    </tr>\n",
       "    <tr>\n",
       "      <th>135</th>\n",
       "      <td>10</td>\n",
       "      <td>연예</td>\n",
       "      <td>라스베이거스</td>\n",
       "      <td>0.8131</td>\n",
       "    </tr>\n",
       "    <tr>\n",
       "      <th>136</th>\n",
       "      <td>10</td>\n",
       "      <td>연예</td>\n",
       "      <td>손해배상</td>\n",
       "      <td>0.7969</td>\n",
       "    </tr>\n",
       "    <tr>\n",
       "      <th>137</th>\n",
       "      <td>10</td>\n",
       "      <td>연예</td>\n",
       "      <td>블랙박스</td>\n",
       "      <td>0.7887</td>\n",
       "    </tr>\n",
       "    <tr>\n",
       "      <th>138</th>\n",
       "      <td>10</td>\n",
       "      <td>연예</td>\n",
       "      <td>대주주</td>\n",
       "      <td>0.7808</td>\n",
       "    </tr>\n",
       "    <tr>\n",
       "      <th>139</th>\n",
       "      <td>10</td>\n",
       "      <td>연예</td>\n",
       "      <td>법무부</td>\n",
       "      <td>0.7394</td>\n",
       "    </tr>\n",
       "  </tbody>\n",
       "</table>\n",
       "<p>140 rows × 4 columns</p>\n",
       "</div>"
      ],
      "text/plain": [
       "    month category   keyword  importance\n",
       "0      10      스포츠  한국프로축구연맹      0.8569\n",
       "1      10      스포츠  사우스캐롤라이나      0.8564\n",
       "2      10      스포츠    고척스카이돔      0.8490\n",
       "3      10      스포츠    챔피언스리그      0.8480\n",
       "4      10      스포츠   펜실베이니아주      0.8472\n",
       "..    ...      ...       ...         ...\n",
       "135    10       연예    라스베이거스      0.8131\n",
       "136    10       연예      손해배상      0.7969\n",
       "137    10       연예      블랙박스      0.7887\n",
       "138    10       연예       대주주      0.7808\n",
       "139    10       연예       법무부      0.7394\n",
       "\n",
       "[140 rows x 4 columns]"
      ]
     },
     "execution_count": 13,
     "metadata": {},
     "output_type": "execute_result"
    }
   ],
   "source": [
    "result = pd.DataFrame(result_keywords, columns=['month', 'category', 'keyword', 'importance'])\n",
    "\n",
    "result"
   ]
  },
  {
   "cell_type": "code",
   "execution_count": 14,
   "metadata": {},
   "outputs": [],
   "source": [
    "result.to_csv('./Data/keywords(month).csv', index=False)"
   ]
  },
  {
   "cell_type": "code",
   "execution_count": 15,
   "metadata": {},
   "outputs": [],
   "source": [
    "import pymysql"
   ]
  },
  {
   "cell_type": "code",
   "execution_count": 16,
   "metadata": {},
   "outputs": [
    {
     "data": {
      "text/html": [
       "<div>\n",
       "<style scoped>\n",
       "    .dataframe tbody tr th:only-of-type {\n",
       "        vertical-align: middle;\n",
       "    }\n",
       "\n",
       "    .dataframe tbody tr th {\n",
       "        vertical-align: top;\n",
       "    }\n",
       "\n",
       "    .dataframe thead th {\n",
       "        text-align: right;\n",
       "    }\n",
       "</style>\n",
       "<table border=\"1\" class=\"dataframe\">\n",
       "  <thead>\n",
       "    <tr style=\"text-align: right;\">\n",
       "      <th></th>\n",
       "      <th>month</th>\n",
       "      <th>category</th>\n",
       "      <th>keyword</th>\n",
       "      <th>importance</th>\n",
       "    </tr>\n",
       "  </thead>\n",
       "  <tbody>\n",
       "    <tr>\n",
       "      <th>0</th>\n",
       "      <td>10</td>\n",
       "      <td>스포츠</td>\n",
       "      <td>한국프로축구연맹</td>\n",
       "      <td>0.8569</td>\n",
       "    </tr>\n",
       "    <tr>\n",
       "      <th>1</th>\n",
       "      <td>10</td>\n",
       "      <td>스포츠</td>\n",
       "      <td>사우스캐롤라이나</td>\n",
       "      <td>0.8564</td>\n",
       "    </tr>\n",
       "    <tr>\n",
       "      <th>2</th>\n",
       "      <td>10</td>\n",
       "      <td>스포츠</td>\n",
       "      <td>고척스카이돔</td>\n",
       "      <td>0.8490</td>\n",
       "    </tr>\n",
       "    <tr>\n",
       "      <th>3</th>\n",
       "      <td>10</td>\n",
       "      <td>스포츠</td>\n",
       "      <td>챔피언스리그</td>\n",
       "      <td>0.8480</td>\n",
       "    </tr>\n",
       "    <tr>\n",
       "      <th>4</th>\n",
       "      <td>10</td>\n",
       "      <td>스포츠</td>\n",
       "      <td>펜실베이니아주</td>\n",
       "      <td>0.8472</td>\n",
       "    </tr>\n",
       "    <tr>\n",
       "      <th>...</th>\n",
       "      <td>...</td>\n",
       "      <td>...</td>\n",
       "      <td>...</td>\n",
       "      <td>...</td>\n",
       "    </tr>\n",
       "    <tr>\n",
       "      <th>135</th>\n",
       "      <td>10</td>\n",
       "      <td>연예</td>\n",
       "      <td>라스베이거스</td>\n",
       "      <td>0.8131</td>\n",
       "    </tr>\n",
       "    <tr>\n",
       "      <th>136</th>\n",
       "      <td>10</td>\n",
       "      <td>연예</td>\n",
       "      <td>손해배상</td>\n",
       "      <td>0.7969</td>\n",
       "    </tr>\n",
       "    <tr>\n",
       "      <th>137</th>\n",
       "      <td>10</td>\n",
       "      <td>연예</td>\n",
       "      <td>블랙박스</td>\n",
       "      <td>0.7887</td>\n",
       "    </tr>\n",
       "    <tr>\n",
       "      <th>138</th>\n",
       "      <td>10</td>\n",
       "      <td>연예</td>\n",
       "      <td>대주주</td>\n",
       "      <td>0.7808</td>\n",
       "    </tr>\n",
       "    <tr>\n",
       "      <th>139</th>\n",
       "      <td>10</td>\n",
       "      <td>연예</td>\n",
       "      <td>법무부</td>\n",
       "      <td>0.7394</td>\n",
       "    </tr>\n",
       "  </tbody>\n",
       "</table>\n",
       "<p>140 rows × 4 columns</p>\n",
       "</div>"
      ],
      "text/plain": [
       "     month category   keyword  importance\n",
       "0       10      스포츠  한국프로축구연맹      0.8569\n",
       "1       10      스포츠  사우스캐롤라이나      0.8564\n",
       "2       10      스포츠    고척스카이돔      0.8490\n",
       "3       10      스포츠    챔피언스리그      0.8480\n",
       "4       10      스포츠   펜실베이니아주      0.8472\n",
       "..     ...      ...       ...         ...\n",
       "135     10       연예    라스베이거스      0.8131\n",
       "136     10       연예      손해배상      0.7969\n",
       "137     10       연예      블랙박스      0.7887\n",
       "138     10       연예       대주주      0.7808\n",
       "139     10       연예       법무부      0.7394\n",
       "\n",
       "[140 rows x 4 columns]"
      ]
     },
     "execution_count": 16,
     "metadata": {},
     "output_type": "execute_result"
    }
   ],
   "source": [
    "keywords = pd.read_csv('./Data/keywords(month).csv')\n",
    "\n",
    "keywords"
   ]
  },
  {
   "cell_type": "code",
   "execution_count": 17,
   "metadata": {},
   "outputs": [],
   "source": [
    "sql_insert = 'INSERT INTO keywords_month (month, category, keyword, importance) VALUES (%s, %s, %s, %s)'"
   ]
  },
  {
   "cell_type": "code",
   "execution_count": 18,
   "metadata": {},
   "outputs": [],
   "source": [
    "conn = pymysql.connect(host='localhost', user='root', password='1234', db='dins', charset='utf8')\n",
    "cursor = conn.cursor()\n",
    "\n",
    "\n",
    "for index, row in keywords.iterrows():\n",
    "    cursor.execute(sql_insert, (row.month, row.category, row.keyword, row.importance))\n",
    "\n",
    "conn.commit()\n",
    "conn.close()"
   ]
  },
  {
   "cell_type": "code",
   "execution_count": 106,
   "metadata": {},
   "outputs": [],
   "source": [
    "# keywords = model.extract_keywords(contents_nouns, keyphrase_ngram_range=(1,1), top_n=15, use_mmr=True)\n",
    "\n",
    "# keywords"
   ]
  }
 ],
 "metadata": {
  "kernelspec": {
   "display_name": "Python 3.7.13 ('DINS')",
   "language": "python",
   "name": "python3"
  },
  "language_info": {
   "codemirror_mode": {
    "name": "ipython",
    "version": 3
   },
   "file_extension": ".py",
   "mimetype": "text/x-python",
   "name": "python",
   "nbconvert_exporter": "python",
   "pygments_lexer": "ipython3",
   "version": "3.7.13"
  },
  "orig_nbformat": 4,
  "vscode": {
   "interpreter": {
    "hash": "e590ccd7b691ab80e99d866104013fd94fd750e462d26c4ca346d9f79ec019e5"
   }
  }
 },
 "nbformat": 4,
 "nbformat_minor": 2
}
