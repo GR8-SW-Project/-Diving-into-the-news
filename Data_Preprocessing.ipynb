{
 "cells": [
  {
   "cell_type": "code",
   "execution_count": 1,
   "metadata": {},
   "outputs": [
    {
     "name": "stderr",
     "output_type": "stream",
     "text": [
      "c:\\ProgramData\\Anaconda3\\envs\\DINS\\lib\\site-packages\\tqdm\\auto.py:22: TqdmWarning: IProgress not found. Please update jupyter and ipywidgets. See https://ipywidgets.readthedocs.io/en/stable/user_install.html\n",
      "  from .autonotebook import tqdm as notebook_tqdm\n"
     ]
    }
   ],
   "source": [
    "import numpy as np\n",
    "import pandas as pd\n",
    "import matplotlib.pyplot as plt\n",
    "\n",
    "from konlpy.tag import Okt\n",
    "\n",
    "import os\n",
    "\n",
    "from keybert import KeyBERT\n",
    "import tqdm"
   ]
  },
  {
   "cell_type": "code",
   "execution_count": 3,
   "metadata": {},
   "outputs": [],
   "source": [
    "# os.environ[\"CUDA_DEVICE_ORDER\"] = \"PCI_BUS_ID\"\n",
    "# os.environ[\"CUDA_VISIBLE_DEVICES\"] = \"0\""
   ]
  },
  {
   "cell_type": "code",
   "execution_count": 46,
   "metadata": {},
   "outputs": [
    {
     "data": {
      "text/html": [
       "<div>\n",
       "<style scoped>\n",
       "    .dataframe tbody tr th:only-of-type {\n",
       "        vertical-align: middle;\n",
       "    }\n",
       "\n",
       "    .dataframe tbody tr th {\n",
       "        vertical-align: top;\n",
       "    }\n",
       "\n",
       "    .dataframe thead th {\n",
       "        text-align: right;\n",
       "    }\n",
       "</style>\n",
       "<table border=\"1\" class=\"dataframe\">\n",
       "  <thead>\n",
       "    <tr style=\"text-align: right;\">\n",
       "      <th></th>\n",
       "      <th>title</th>\n",
       "      <th>headline</th>\n",
       "      <th>date</th>\n",
       "      <th>link</th>\n",
       "      <th>content</th>\n",
       "      <th>category</th>\n",
       "      <th>site</th>\n",
       "    </tr>\n",
       "  </thead>\n",
       "  <tbody>\n",
       "    <tr>\n",
       "      <th>0</th>\n",
       "      <td>BTS \"웰컴 제네레이션…변화에 겁먹지 않고 새로운 길로\"</td>\n",
       "      <td>미국 뉴욕을 찾은 방탄소년단, BTS가 \"지금 청년들은 변화에 겁먹기보단 '웰컴'이...</td>\n",
       "      <td>2021.09.20</td>\n",
       "      <td>https://news.sbs.co.kr//news/endPage.do?news_i...</td>\n",
       "      <td>미국 뉴욕을 찾은 방탄소년단, BTS가 \"지금 청년들은 변화에 겁먹기보단 '웰컴...</td>\n",
       "      <td>국제</td>\n",
       "      <td>sbs</td>\n",
       "    </tr>\n",
       "    <tr>\n",
       "      <th>1</th>\n",
       "      <td>고속도로 대부분 소통 원활…\"추석 당일 정체 심할 것\"</td>\n",
       "      <td>추석 전날인 오늘 저녁 전국 주요 고속도로의 정체가 대부분 해소돼 원활한 소통을 보...</td>\n",
       "      <td>2021.09.20</td>\n",
       "      <td>https://news.sbs.co.kr//news/endPage.do?news_i...</td>\n",
       "      <td>추석 전날인 오늘(20일) 저녁 전국 주요 고속도로의 정체가 대부분 해소돼 원활...</td>\n",
       "      <td>사회</td>\n",
       "      <td>sbs</td>\n",
       "    </tr>\n",
       "  </tbody>\n",
       "</table>\n",
       "</div>"
      ],
      "text/plain": [
       "                              title  \\\n",
       "0  BTS \"웰컴 제네레이션…변화에 겁먹지 않고 새로운 길로\"   \n",
       "1    고속도로 대부분 소통 원활…\"추석 당일 정체 심할 것\"   \n",
       "\n",
       "                                            headline        date  \\\n",
       "0  미국 뉴욕을 찾은 방탄소년단, BTS가 \"지금 청년들은 변화에 겁먹기보단 '웰컴'이...  2021.09.20   \n",
       "1  추석 전날인 오늘 저녁 전국 주요 고속도로의 정체가 대부분 해소돼 원활한 소통을 보...  2021.09.20   \n",
       "\n",
       "                                                link  \\\n",
       "0  https://news.sbs.co.kr//news/endPage.do?news_i...   \n",
       "1  https://news.sbs.co.kr//news/endPage.do?news_i...   \n",
       "\n",
       "                                             content category site  \n",
       "0    미국 뉴욕을 찾은 방탄소년단, BTS가 \"지금 청년들은 변화에 겁먹기보단 '웰컴...       국제  sbs  \n",
       "1    추석 전날인 오늘(20일) 저녁 전국 주요 고속도로의 정체가 대부분 해소돼 원활...       사회  sbs  "
      ]
     },
     "execution_count": 46,
     "metadata": {},
     "output_type": "execute_result"
    }
   ],
   "source": [
    "data = pd.read_csv('./Data/SBS.csv')\n",
    "\n",
    "data.head(2)"
   ]
  },
  {
   "cell_type": "code",
   "execution_count": 45,
   "metadata": {},
   "outputs": [],
   "source": [
    "# date 변경, link col_name 변경 및 저장\n",
    "\n",
    "# data.rename(columns={'news_link' : 'link'}, inplace=True)\n",
    "\n",
    "# data.date = data.date.str.split(' ').str[0]\n",
    "\n",
    "# data.head(1)\n",
    "\n",
    "# data.to_csv('./Data/SBS.csv', index=False)"
   ]
  },
  {
   "cell_type": "code",
   "execution_count": 26,
   "metadata": {},
   "outputs": [],
   "source": [
    "# okt = Okt()\n",
    "\n",
    "# contents_nouns = []"
   ]
  },
  {
   "cell_type": "code",
   "execution_count": 6,
   "metadata": {},
   "outputs": [],
   "source": [
    "# contents_nouns.append(p.map(get_nouns, contents))"
   ]
  },
  {
   "cell_type": "code",
   "execution_count": 4,
   "metadata": {},
   "outputs": [],
   "source": [
    "# for text in contents:\n",
    "#     nouns = okt.nouns(text)\n",
    "    \n",
    "#     text_nouns = ''\n",
    "#     for noun in nouns:\n",
    "#         text_nouns += noun + ' '\n",
    "    \n",
    "#     contents_nouns.append(text_nouns)\n",
    "#     print(text_nouns)"
   ]
  },
  {
   "cell_type": "code",
   "execution_count": 22,
   "metadata": {},
   "outputs": [
    {
     "data": {
      "text/plain": [
       "252"
      ]
     },
     "execution_count": 22,
     "metadata": {},
     "output_type": "execute_result"
    }
   ],
   "source": [
    "# contents = data.iloc[79573:].content\n",
    "\n",
    "# len(contents)"
   ]
  },
  {
   "cell_type": "code",
   "execution_count": 47,
   "metadata": {},
   "outputs": [
    {
     "data": {
      "text/plain": [
       "1588"
      ]
     },
     "execution_count": 47,
     "metadata": {},
     "output_type": "execute_result"
    }
   ],
   "source": [
    "data_sep = data.iloc[78237:]\n",
    "\n",
    "len(data_sep)"
   ]
  },
  {
   "cell_type": "code",
   "execution_count": 57,
   "metadata": {},
   "outputs": [],
   "source": [
    "data_0913 = data_sep.groupby('date').get_group('2022.09.13').content\n",
    "data_0914 = data_sep.groupby('date').get_group('2022.09.14').content\n",
    "data_0915 = data_sep.groupby('date').get_group('2022.09.15').content\n",
    "data_0916 = data_sep.groupby('date').get_group('2022.09.16').content\n",
    "data_0917 = data_sep.groupby('date').get_group('2022.09.17').content\n",
    "data_0918 = data_sep.groupby('date').get_group('2022.09.18').content\n",
    "data_0919 = data_sep.groupby('date').get_group('2022.09.19').content"
   ]
  },
  {
   "cell_type": "code",
   "execution_count": 85,
   "metadata": {},
   "outputs": [],
   "source": [
    "okt = Okt()\n",
    "\n",
    "contents_nouns = []"
   ]
  },
  {
   "cell_type": "code",
   "execution_count": 86,
   "metadata": {},
   "outputs": [],
   "source": [
    "dates = data_sep.date.unique()"
   ]
  },
  {
   "cell_type": "code",
   "execution_count": 87,
   "metadata": {},
   "outputs": [],
   "source": [
    "datas = []\n",
    "\n",
    "for date in dates:\n",
    "    datas.append(data_sep.groupby('date').get_group(date).content)"
   ]
  },
  {
   "cell_type": "code",
   "execution_count": 95,
   "metadata": {},
   "outputs": [],
   "source": [
    "contents_nouns = []\n",
    "\n",
    "for contents in datas:\n",
    "    content_nouns = ''\n",
    "    \n",
    "    for text in contents:\n",
    "        text_nouns = okt.nouns(text)\n",
    "    \n",
    "        for noun in text_nouns:\n",
    "            content_nouns += noun + ' '\n",
    "            \n",
    "    contents_nouns.append(content_nouns)"
   ]
  },
  {
   "cell_type": "code",
   "execution_count": 25,
   "metadata": {},
   "outputs": [],
   "source": [
    "# content_nouns = ''\n",
    "\n",
    "# for text in contents:\n",
    "#     text_nouns = okt.nouns(text)\n",
    "    \n",
    "#     for noun in text_nouns:\n",
    "#         content_nouns += noun + ' '\n",
    "    \n",
    "\n",
    "# contents_nouns.append(content_nouns)"
   ]
  },
  {
   "cell_type": "code",
   "execution_count": 102,
   "metadata": {},
   "outputs": [],
   "source": [
    "model = KeyBERT('distilbert-base-nli-mean-tokens')"
   ]
  },
  {
   "cell_type": "code",
   "execution_count": 105,
   "metadata": {},
   "outputs": [],
   "source": [
    "contents_keywords = []\n",
    "\n",
    "for content_nouns in contents_nouns:\n",
    "    contents_keywords.append(model.extract_keywords(content_nouns, keyphrase_ngram_range=(1,1), top_n=20, use_mmr=True))"
   ]
  },
  {
   "cell_type": "code",
   "execution_count": 131,
   "metadata": {},
   "outputs": [],
   "source": [
    "result_keywords = []\n",
    "\n",
    "date_idx = 0\n",
    "for keywords in contents_keywords:\n",
    "    date_keywords = []\n",
    "    for keyword in keywords:\n",
    "        date_keywords.append((dates[date_idx], ) + keyword) # (date, keyword, importance)\n",
    "    \n",
    "    date_idx += 1\n",
    "    \n",
    "    result_keywords.append(date_keywords)"
   ]
  },
  {
   "cell_type": "code",
   "execution_count": 138,
   "metadata": {},
   "outputs": [
    {
     "data": {
      "text/plain": [
       "array([[['2022.09.13', '조선민주주의인민공화국', '0.8774'],\n",
       "        ['2022.09.13', '미국배우조합상', '0.8682'],\n",
       "        ['2022.09.13', '대륙간탄도미사일', '0.8636'],\n",
       "        ['2022.09.13', '남아프리카공화국', '0.8603'],\n",
       "        ['2022.09.13', '정보통신망법', '0.8461'],\n",
       "        ['2022.09.13', '통신비밀보호법', '0.843'],\n",
       "        ['2022.09.13', '콘세르트헤바우', '0.8408'],\n",
       "        ['2022.09.13', '마이크로소프트', '0.8375'],\n",
       "        ['2022.09.13', '칸국제영화제', '0.8359'],\n",
       "        ['2022.09.13', '사법연수원', '0.8357'],\n",
       "        ['2022.09.13', '아동복지법', '0.8324'],\n",
       "        ['2022.09.13', '방탄소년단', '0.8311'],\n",
       "        ['2022.09.13', '원삼국시대', '0.8247'],\n",
       "        ['2022.09.13', '북아일랜드', '0.824'],\n",
       "        ['2022.09.13', '서울대학교', '0.8232'],\n",
       "        ['2022.09.13', '특별자치시', '0.8227'],\n",
       "        ['2022.09.13', '지방자치단체', '0.8194'],\n",
       "        ['2022.09.13', '로스앤젤레스', '0.813'],\n",
       "        ['2022.09.13', '카타르월드컵', '0.8032'],\n",
       "        ['2022.09.13', '신재생에너지', '0.8024']],\n",
       "\n",
       "       [['2022.09.14', '전기통신사업법', '0.8768'],\n",
       "        ['2022.09.14', '원자력발전소', '0.8664'],\n",
       "        ['2022.09.14', '조직폭력배', '0.8654'],\n",
       "        ['2022.09.14', '레반도프스키', '0.8589'],\n",
       "        ['2022.09.14', '개인정보보호법', '0.8578'],\n",
       "        ['2022.09.14', '유럽챔피언스리그', '0.8534'],\n",
       "        ['2022.09.14', '남아프리카공화국', '0.85'],\n",
       "        ['2022.09.14', '지방자치단체', '0.844'],\n",
       "        ['2022.09.14', '마이크로소프트', '0.8439'],\n",
       "        ['2022.09.14', '세베로도네츠크', '0.8424'],\n",
       "        ['2022.09.14', '남방큰돌고래', '0.842'],\n",
       "        ['2022.09.14', '캘리포니아주', '0.8416'],\n",
       "        ['2022.09.14', '국립서울현충원', '0.8416'],\n",
       "        ['2022.09.14', '뮤직비디오', '0.8319'],\n",
       "        ['2022.09.14', '북아일랜드', '0.8289'],\n",
       "        ['2022.09.14', '국무조정실장', '0.8282'],\n",
       "        ['2022.09.14', '안산와스타디움', '0.8281'],\n",
       "        ['2022.09.14', '숙명여자대', '0.8264'],\n",
       "        ['2022.09.14', '방탄소년단', '0.8251'],\n",
       "        ['2022.09.14', '청룡영화제', '0.8007']],\n",
       "\n",
       "       [['2022.09.15', '농림축산식품부', '0.8733'],\n",
       "        ['2022.09.15', '도미니카공화국', '0.8644'],\n",
       "        ['2022.09.15', '토론토국제영화제', '0.8642'],\n",
       "        ['2022.09.15', '인천국제공항공사', '0.8608'],\n",
       "        ['2022.09.15', '사우스캐롤라이나주', '0.8546'],\n",
       "        ['2022.09.15', '흥남철수작전', '0.8518'],\n",
       "        ['2022.09.15', '다이아몬드백스', '0.851'],\n",
       "        ['2022.09.15', '통상교섭본부장', '0.849'],\n",
       "        ['2022.09.15', '서울중앙지법', '0.8412'],\n",
       "        ['2022.09.15', '대종상영화제', '0.8375'],\n",
       "        ['2022.09.15', '종합소득세', '0.837'],\n",
       "        ['2022.09.15', '전남대학교', '0.8349'],\n",
       "        ['2022.09.15', '송도해수욕장', '0.8346'],\n",
       "        ['2022.09.15', '유럽챔피언스리그', '0.8276'],\n",
       "        ['2022.09.15', '국가보안법', '0.8204'],\n",
       "        ['2022.09.15', '코르티나담페초', '0.8193'],\n",
       "        ['2022.09.15', '제너럴모터스', '0.8146'],\n",
       "        ['2022.09.15', '붕어싸만코', '0.8145'],\n",
       "        ['2022.09.15', '방탄소년단', '0.8133'],\n",
       "        ['2022.09.15', '뉴욕타임즈', '0.8082']],\n",
       "\n",
       "       [['2022.09.16', '조선민주주의인민공화국', '0.9186'],\n",
       "        ['2022.09.16', '토론토국제영화제', '0.8755'],\n",
       "        ['2022.09.16', '도미니카공화국', '0.8733'],\n",
       "        ['2022.09.16', '수원지방법원', '0.8705'],\n",
       "        ['2022.09.16', '국무조정실장', '0.8616'],\n",
       "        ['2022.09.16', '올림픽주경기장', '0.8597'],\n",
       "        ['2022.09.16', '광역단체장', '0.8553'],\n",
       "        ['2022.09.16', '존스홉킨스대', '0.8547'],\n",
       "        ['2022.09.16', '진경산수화', '0.8545'],\n",
       "        ['2022.09.16', '여성가족부', '0.8493'],\n",
       "        ['2022.09.16', '다이아몬드백스', '0.8429'],\n",
       "        ['2022.09.16', '지급준비율', '0.842'],\n",
       "        ['2022.09.16', '헌법재판관', '0.8411'],\n",
       "        ['2022.09.16', '승진훈련장', '0.8328'],\n",
       "        ['2022.09.16', '서울특별시', '0.8249'],\n",
       "        ['2022.09.16', '지방자치단체', '0.8207'],\n",
       "        ['2022.09.16', '뉴욕주립대', '0.8185'],\n",
       "        ['2022.09.16', '룩셈부르크', '0.8182'],\n",
       "        ['2022.09.16', '교육지원청', '0.8172'],\n",
       "        ['2022.09.16', '학교폭력', '0.8076']],\n",
       "\n",
       "       [['2022.09.17', '다이아몬드백스', '0.877'],\n",
       "        ['2022.09.17', '원자력발전소', '0.8536'],\n",
       "        ['2022.09.17', '유럽챔피언스리그', '0.8486'],\n",
       "        ['2022.09.17', '북아일랜드', '0.8335'],\n",
       "        ['2022.09.17', '캘리포니아주', '0.8306'],\n",
       "        ['2022.09.17', '평균자책점', '0.8279'],\n",
       "        ['2022.09.17', '샌프란시스코', '0.8268'],\n",
       "        ['2022.09.17', '서울중앙지법', '0.8255'],\n",
       "        ['2022.09.17', '불가촉천민', '0.8227'],\n",
       "        ['2022.09.17', '올림피아코스', '0.8225'],\n",
       "        ['2022.09.17', '마그데부르크', '0.8204'],\n",
       "        ['2022.09.17', '공직선거법', '0.8192'],\n",
       "        ['2022.09.17', '동아시안컵', '0.8186'],\n",
       "        ['2022.09.17', '우타르프라데시', '0.811'],\n",
       "        ['2022.09.17', '헥토파스칼', '0.808'],\n",
       "        ['2022.09.17', '월스트리트저널', '0.8078'],\n",
       "        ['2022.09.17', '벤처캐피털', '0.8066'],\n",
       "        ['2022.09.17', '뉴욕타임스', '0.8043'],\n",
       "        ['2022.09.17', '미술감독', '0.7924'],\n",
       "        ['2022.09.17', '초등학교', '0.7732']],\n",
       "\n",
       "       [['2022.09.18', '병력수송장갑차', '0.8797'],\n",
       "        ['2022.09.18', '남북기본합의서', '0.8715'],\n",
       "        ['2022.09.18', '원자력발전소', '0.8676'],\n",
       "        ['2022.09.18', '송도해수욕장', '0.845'],\n",
       "        ['2022.09.18', '공직선거법', '0.8435'],\n",
       "        ['2022.09.18', '국립과천과학관', '0.8405'],\n",
       "        ['2022.09.18', '개발도상국', '0.836'],\n",
       "        ['2022.09.18', '골드만삭스', '0.8334'],\n",
       "        ['2022.09.18', '도쿠시마현', '0.8307'],\n",
       "        ['2022.09.18', '지방자치단체', '0.83'],\n",
       "        ['2022.09.18', '국내총생산', '0.8284'],\n",
       "        ['2022.09.18', '캘리포니아주', '0.8277'],\n",
       "        ['2022.09.18', '샌프란시스코', '0.8247'],\n",
       "        ['2022.09.18', '고려대학교', '0.8182'],\n",
       "        ['2022.09.18', '마서스비니어드', '0.816'],\n",
       "        ['2022.09.18', '학교폭력', '0.8132'],\n",
       "        ['2022.09.18', '물가상승률', '0.8126'],\n",
       "        ['2022.09.18', '뉴욕타임스', '0.8067'],\n",
       "        ['2022.09.18', '분쟁해결', '0.8046'],\n",
       "        ['2022.09.18', '테라폼랩스', '0.7987']],\n",
       "\n",
       "       [['2022.09.19', '월드베이스볼클래식', '0.8766'],\n",
       "        ['2022.09.19', '통합정보시스템', '0.8685'],\n",
       "        ['2022.09.19', '도미니카공화국', '0.862'],\n",
       "        ['2022.09.19', '개인정보보호법', '0.8477'],\n",
       "        ['2022.09.19', '영일대해수욕장', '0.8429'],\n",
       "        ['2022.09.19', '방탄소년단', '0.8321'],\n",
       "        ['2022.09.19', '세브란스병원', '0.8316'],\n",
       "        ['2022.09.19', '의정부교도소', '0.8312'],\n",
       "        ['2022.09.19', '단국대병원', '0.8282'],\n",
       "        ['2022.09.19', '형사소송법', '0.8268'],\n",
       "        ['2022.09.19', '유고슬라비아', '0.8216'],\n",
       "        ['2022.09.19', '지방자치단체', '0.8213'],\n",
       "        ['2022.09.19', '새마을금고', '0.8211'],\n",
       "        ['2022.09.19', '캘리포니아주', '0.8191'],\n",
       "        ['2022.09.19', '전남도지사', '0.8184'],\n",
       "        ['2022.09.19', '스카이스포츠', '0.8123'],\n",
       "        ['2022.09.19', '카타르월드컵', '0.8053'],\n",
       "        ['2022.09.19', '옥토버페스트', '0.8043'],\n",
       "        ['2022.09.19', '뉴욕타임스', '0.7998'],\n",
       "        ['2022.09.19', '디씨인사이드', '0.7922']]], dtype='<U32')"
      ]
     },
     "execution_count": 138,
     "metadata": {},
     "output_type": "execute_result"
    }
   ],
   "source": [
    "result_keywords = np.array(result_keywords)"
   ]
  },
  {
   "cell_type": "code",
   "execution_count": 143,
   "metadata": {},
   "outputs": [],
   "source": [
    "result_keywords = result_keywords.reshape(140,3)"
   ]
  },
  {
   "cell_type": "code",
   "execution_count": 153,
   "metadata": {},
   "outputs": [
    {
     "data": {
      "text/html": [
       "<div>\n",
       "<style scoped>\n",
       "    .dataframe tbody tr th:only-of-type {\n",
       "        vertical-align: middle;\n",
       "    }\n",
       "\n",
       "    .dataframe tbody tr th {\n",
       "        vertical-align: top;\n",
       "    }\n",
       "\n",
       "    .dataframe thead th {\n",
       "        text-align: right;\n",
       "    }\n",
       "</style>\n",
       "<table border=\"1\" class=\"dataframe\">\n",
       "  <thead>\n",
       "    <tr style=\"text-align: right;\">\n",
       "      <th></th>\n",
       "      <th>date</th>\n",
       "      <th>keyword</th>\n",
       "      <th>importance</th>\n",
       "    </tr>\n",
       "  </thead>\n",
       "  <tbody>\n",
       "    <tr>\n",
       "      <th>0</th>\n",
       "      <td>2022.09.13</td>\n",
       "      <td>조선민주주의인민공화국</td>\n",
       "      <td>0.8774</td>\n",
       "    </tr>\n",
       "    <tr>\n",
       "      <th>1</th>\n",
       "      <td>2022.09.13</td>\n",
       "      <td>미국배우조합상</td>\n",
       "      <td>0.8682</td>\n",
       "    </tr>\n",
       "    <tr>\n",
       "      <th>2</th>\n",
       "      <td>2022.09.13</td>\n",
       "      <td>대륙간탄도미사일</td>\n",
       "      <td>0.8636</td>\n",
       "    </tr>\n",
       "    <tr>\n",
       "      <th>3</th>\n",
       "      <td>2022.09.13</td>\n",
       "      <td>남아프리카공화국</td>\n",
       "      <td>0.8603</td>\n",
       "    </tr>\n",
       "    <tr>\n",
       "      <th>4</th>\n",
       "      <td>2022.09.13</td>\n",
       "      <td>정보통신망법</td>\n",
       "      <td>0.8461</td>\n",
       "    </tr>\n",
       "    <tr>\n",
       "      <th>5</th>\n",
       "      <td>2022.09.13</td>\n",
       "      <td>통신비밀보호법</td>\n",
       "      <td>0.843</td>\n",
       "    </tr>\n",
       "    <tr>\n",
       "      <th>6</th>\n",
       "      <td>2022.09.13</td>\n",
       "      <td>콘세르트헤바우</td>\n",
       "      <td>0.8408</td>\n",
       "    </tr>\n",
       "    <tr>\n",
       "      <th>7</th>\n",
       "      <td>2022.09.13</td>\n",
       "      <td>마이크로소프트</td>\n",
       "      <td>0.8375</td>\n",
       "    </tr>\n",
       "    <tr>\n",
       "      <th>8</th>\n",
       "      <td>2022.09.13</td>\n",
       "      <td>칸국제영화제</td>\n",
       "      <td>0.8359</td>\n",
       "    </tr>\n",
       "    <tr>\n",
       "      <th>9</th>\n",
       "      <td>2022.09.13</td>\n",
       "      <td>사법연수원</td>\n",
       "      <td>0.8357</td>\n",
       "    </tr>\n",
       "    <tr>\n",
       "      <th>10</th>\n",
       "      <td>2022.09.13</td>\n",
       "      <td>아동복지법</td>\n",
       "      <td>0.8324</td>\n",
       "    </tr>\n",
       "    <tr>\n",
       "      <th>11</th>\n",
       "      <td>2022.09.13</td>\n",
       "      <td>방탄소년단</td>\n",
       "      <td>0.8311</td>\n",
       "    </tr>\n",
       "    <tr>\n",
       "      <th>12</th>\n",
       "      <td>2022.09.13</td>\n",
       "      <td>원삼국시대</td>\n",
       "      <td>0.8247</td>\n",
       "    </tr>\n",
       "    <tr>\n",
       "      <th>13</th>\n",
       "      <td>2022.09.13</td>\n",
       "      <td>북아일랜드</td>\n",
       "      <td>0.824</td>\n",
       "    </tr>\n",
       "    <tr>\n",
       "      <th>14</th>\n",
       "      <td>2022.09.13</td>\n",
       "      <td>서울대학교</td>\n",
       "      <td>0.8232</td>\n",
       "    </tr>\n",
       "    <tr>\n",
       "      <th>15</th>\n",
       "      <td>2022.09.13</td>\n",
       "      <td>특별자치시</td>\n",
       "      <td>0.8227</td>\n",
       "    </tr>\n",
       "    <tr>\n",
       "      <th>16</th>\n",
       "      <td>2022.09.13</td>\n",
       "      <td>지방자치단체</td>\n",
       "      <td>0.8194</td>\n",
       "    </tr>\n",
       "    <tr>\n",
       "      <th>17</th>\n",
       "      <td>2022.09.13</td>\n",
       "      <td>로스앤젤레스</td>\n",
       "      <td>0.813</td>\n",
       "    </tr>\n",
       "    <tr>\n",
       "      <th>18</th>\n",
       "      <td>2022.09.13</td>\n",
       "      <td>카타르월드컵</td>\n",
       "      <td>0.8032</td>\n",
       "    </tr>\n",
       "    <tr>\n",
       "      <th>19</th>\n",
       "      <td>2022.09.13</td>\n",
       "      <td>신재생에너지</td>\n",
       "      <td>0.8024</td>\n",
       "    </tr>\n",
       "    <tr>\n",
       "      <th>20</th>\n",
       "      <td>2022.09.14</td>\n",
       "      <td>전기통신사업법</td>\n",
       "      <td>0.8768</td>\n",
       "    </tr>\n",
       "  </tbody>\n",
       "</table>\n",
       "</div>"
      ],
      "text/plain": [
       "          date      keyword importance\n",
       "0   2022.09.13  조선민주주의인민공화국     0.8774\n",
       "1   2022.09.13      미국배우조합상     0.8682\n",
       "2   2022.09.13     대륙간탄도미사일     0.8636\n",
       "3   2022.09.13     남아프리카공화국     0.8603\n",
       "4   2022.09.13       정보통신망법     0.8461\n",
       "5   2022.09.13      통신비밀보호법      0.843\n",
       "6   2022.09.13      콘세르트헤바우     0.8408\n",
       "7   2022.09.13      마이크로소프트     0.8375\n",
       "8   2022.09.13       칸국제영화제     0.8359\n",
       "9   2022.09.13        사법연수원     0.8357\n",
       "10  2022.09.13        아동복지법     0.8324\n",
       "11  2022.09.13        방탄소년단     0.8311\n",
       "12  2022.09.13        원삼국시대     0.8247\n",
       "13  2022.09.13        북아일랜드      0.824\n",
       "14  2022.09.13        서울대학교     0.8232\n",
       "15  2022.09.13        특별자치시     0.8227\n",
       "16  2022.09.13       지방자치단체     0.8194\n",
       "17  2022.09.13       로스앤젤레스      0.813\n",
       "18  2022.09.13       카타르월드컵     0.8032\n",
       "19  2022.09.13       신재생에너지     0.8024\n",
       "20  2022.09.14      전기통신사업법     0.8768"
      ]
     },
     "execution_count": 153,
     "metadata": {},
     "output_type": "execute_result"
    }
   ],
   "source": [
    "result = pd.DataFrame(result_keywords, columns=['date', 'keyword', 'importance'])\n",
    "\n",
    "result.head(21)"
   ]
  },
  {
   "cell_type": "code",
   "execution_count": 154,
   "metadata": {},
   "outputs": [],
   "source": [
    "result.to_csv('./Data/keywords.csv', index=False)"
   ]
  },
  {
   "cell_type": "code",
   "execution_count": 114,
   "metadata": {},
   "outputs": [],
   "source": [
    "import pymysql"
   ]
  },
  {
   "cell_type": "code",
   "execution_count": 155,
   "metadata": {},
   "outputs": [
    {
     "data": {
      "text/html": [
       "<div>\n",
       "<style scoped>\n",
       "    .dataframe tbody tr th:only-of-type {\n",
       "        vertical-align: middle;\n",
       "    }\n",
       "\n",
       "    .dataframe tbody tr th {\n",
       "        vertical-align: top;\n",
       "    }\n",
       "\n",
       "    .dataframe thead th {\n",
       "        text-align: right;\n",
       "    }\n",
       "</style>\n",
       "<table border=\"1\" class=\"dataframe\">\n",
       "  <thead>\n",
       "    <tr style=\"text-align: right;\">\n",
       "      <th></th>\n",
       "      <th>date</th>\n",
       "      <th>keyword</th>\n",
       "      <th>importance</th>\n",
       "    </tr>\n",
       "  </thead>\n",
       "  <tbody>\n",
       "    <tr>\n",
       "      <th>0</th>\n",
       "      <td>2022.09.13</td>\n",
       "      <td>조선민주주의인민공화국</td>\n",
       "      <td>0.8774</td>\n",
       "    </tr>\n",
       "    <tr>\n",
       "      <th>1</th>\n",
       "      <td>2022.09.13</td>\n",
       "      <td>미국배우조합상</td>\n",
       "      <td>0.8682</td>\n",
       "    </tr>\n",
       "    <tr>\n",
       "      <th>2</th>\n",
       "      <td>2022.09.13</td>\n",
       "      <td>대륙간탄도미사일</td>\n",
       "      <td>0.8636</td>\n",
       "    </tr>\n",
       "    <tr>\n",
       "      <th>3</th>\n",
       "      <td>2022.09.13</td>\n",
       "      <td>남아프리카공화국</td>\n",
       "      <td>0.8603</td>\n",
       "    </tr>\n",
       "    <tr>\n",
       "      <th>4</th>\n",
       "      <td>2022.09.13</td>\n",
       "      <td>정보통신망법</td>\n",
       "      <td>0.8461</td>\n",
       "    </tr>\n",
       "  </tbody>\n",
       "</table>\n",
       "</div>"
      ],
      "text/plain": [
       "         date      keyword  importance\n",
       "0  2022.09.13  조선민주주의인민공화국      0.8774\n",
       "1  2022.09.13      미국배우조합상      0.8682\n",
       "2  2022.09.13     대륙간탄도미사일      0.8636\n",
       "3  2022.09.13     남아프리카공화국      0.8603\n",
       "4  2022.09.13       정보통신망법      0.8461"
      ]
     },
     "execution_count": 155,
     "metadata": {},
     "output_type": "execute_result"
    }
   ],
   "source": [
    "keywords = pd.read_csv('./Data/keywords.csv')\n",
    "\n",
    "keywords.head(5)"
   ]
  },
  {
   "cell_type": "code",
   "execution_count": 156,
   "metadata": {},
   "outputs": [],
   "source": [
    "sql_insert = 'INSERT INTO keywords (date, keyword, importance) VALUES (%s, %s, %s)'"
   ]
  },
  {
   "cell_type": "code",
   "execution_count": 157,
   "metadata": {},
   "outputs": [],
   "source": [
    "conn = pymysql.connect(host='localhost', user='root', password='1234', db='dins', charset='utf8')\n",
    "cursor = conn.cursor()\n",
    "\n",
    "\n",
    "for index, row in keywords.iterrows():\n",
    "    cursor.execute(sql_insert, (row.date, row.keyword, row.importance))\n",
    "\n",
    "conn.commit()\n",
    "conn.close()"
   ]
  },
  {
   "cell_type": "code",
   "execution_count": 106,
   "metadata": {},
   "outputs": [],
   "source": [
    "# keywords = model.extract_keywords(contents_nouns, keyphrase_ngram_range=(1,1), top_n=15, use_mmr=True)\n",
    "\n",
    "# keywords"
   ]
  }
 ],
 "metadata": {
  "kernelspec": {
   "display_name": "Python 3.7.13 ('DINS')",
   "language": "python",
   "name": "python3"
  },
  "language_info": {
   "codemirror_mode": {
    "name": "ipython",
    "version": 3
   },
   "file_extension": ".py",
   "mimetype": "text/x-python",
   "name": "python",
   "nbconvert_exporter": "python",
   "pygments_lexer": "ipython3",
   "version": "3.7.13"
  },
  "orig_nbformat": 4,
  "vscode": {
   "interpreter": {
    "hash": "e590ccd7b691ab80e99d866104013fd94fd750e462d26c4ca346d9f79ec019e5"
   }
  }
 },
 "nbformat": 4,
 "nbformat_minor": 2
}
