{
 "cells": [
  {
   "cell_type": "code",
   "execution_count": 1,
   "metadata": {},
   "outputs": [
    {
     "name": "stderr",
     "output_type": "stream",
     "text": [
      "c:\\ProgramData\\Anaconda3\\envs\\DINS\\lib\\site-packages\\tqdm\\auto.py:22: TqdmWarning: IProgress not found. Please update jupyter and ipywidgets. See https://ipywidgets.readthedocs.io/en/stable/user_install.html\n",
      "  from .autonotebook import tqdm as notebook_tqdm\n"
     ]
    }
   ],
   "source": [
    "import numpy as np\n",
    "import pandas as pd\n",
    "import matplotlib.pyplot as plt\n",
    "\n",
    "from konlpy.tag import Okt\n",
    "\n",
    "import os\n",
    "\n",
    "from keybert import KeyBERT\n",
    "import tqdm"
   ]
  },
  {
   "cell_type": "code",
   "execution_count": 3,
   "metadata": {},
   "outputs": [],
   "source": [
    "# os.environ[\"CUDA_DEVICE_ORDER\"] = \"PCI_BUS_ID\"\n",
    "# os.environ[\"CUDA_VISIBLE_DEVICES\"] = \"0\""
   ]
  },
  {
   "cell_type": "code",
   "execution_count": 3,
   "metadata": {},
   "outputs": [
    {
     "data": {
      "text/html": [
       "<div>\n",
       "<style scoped>\n",
       "    .dataframe tbody tr th:only-of-type {\n",
       "        vertical-align: middle;\n",
       "    }\n",
       "\n",
       "    .dataframe tbody tr th {\n",
       "        vertical-align: top;\n",
       "    }\n",
       "\n",
       "    .dataframe thead th {\n",
       "        text-align: right;\n",
       "    }\n",
       "</style>\n",
       "<table border=\"1\" class=\"dataframe\">\n",
       "  <thead>\n",
       "    <tr style=\"text-align: right;\">\n",
       "      <th></th>\n",
       "      <th>title</th>\n",
       "      <th>headline</th>\n",
       "      <th>date</th>\n",
       "      <th>link</th>\n",
       "      <th>content</th>\n",
       "      <th>category</th>\n",
       "      <th>site</th>\n",
       "    </tr>\n",
       "  </thead>\n",
       "  <tbody>\n",
       "    <tr>\n",
       "      <th>0</th>\n",
       "      <td>BTS \"웰컴 제네레이션…변화에 겁먹지 않고 새로운 길로\"</td>\n",
       "      <td>미국 뉴욕을 찾은 방탄소년단, BTS가 \"지금 청년들은 변화에 겁먹기보단 '웰컴'이...</td>\n",
       "      <td>2021.09.20</td>\n",
       "      <td>https://news.sbs.co.kr//news/endPage.do?news_i...</td>\n",
       "      <td>미국 뉴욕을 찾은 방탄소년단, BTS가 \"지금 청년들은 변화에 겁먹기보단 '웰컴...</td>\n",
       "      <td>국제</td>\n",
       "      <td>sbs</td>\n",
       "    </tr>\n",
       "  </tbody>\n",
       "</table>\n",
       "</div>"
      ],
      "text/plain": [
       "                              title  \\\n",
       "0  BTS \"웰컴 제네레이션…변화에 겁먹지 않고 새로운 길로\"   \n",
       "\n",
       "                                            headline        date  \\\n",
       "0  미국 뉴욕을 찾은 방탄소년단, BTS가 \"지금 청년들은 변화에 겁먹기보단 '웰컴'이...  2021.09.20   \n",
       "\n",
       "                                                link  \\\n",
       "0  https://news.sbs.co.kr//news/endPage.do?news_i...   \n",
       "\n",
       "                                             content category site  \n",
       "0    미국 뉴욕을 찾은 방탄소년단, BTS가 \"지금 청년들은 변화에 겁먹기보단 '웰컴...       국제  sbs  "
      ]
     },
     "execution_count": 3,
     "metadata": {},
     "output_type": "execute_result"
    }
   ],
   "source": [
    "data = pd.read_csv('./Data/SBS.csv')\n",
    "\n",
    "data.head(1)"
   ]
  },
  {
   "cell_type": "code",
   "execution_count": 45,
   "metadata": {},
   "outputs": [],
   "source": [
    "# date 변경, link col_name 변경 및 저장\n",
    "\n",
    "# data.rename(columns={'news_link' : 'link'}, inplace=True)\n",
    "\n",
    "# data.date = data.date.str.split(' ').str[0]\n",
    "\n",
    "# data.head(1)\n",
    "\n",
    "# data.to_csv('./Data/SBS.csv', index=False)"
   ]
  },
  {
   "cell_type": "code",
   "execution_count": 26,
   "metadata": {},
   "outputs": [],
   "source": [
    "# okt = Okt()\n",
    "\n",
    "# contents_nouns = []"
   ]
  },
  {
   "cell_type": "code",
   "execution_count": 6,
   "metadata": {},
   "outputs": [],
   "source": [
    "# contents_nouns.append(p.map(get_nouns, contents))"
   ]
  },
  {
   "cell_type": "code",
   "execution_count": 4,
   "metadata": {},
   "outputs": [],
   "source": [
    "# for text in contents:\n",
    "#     nouns = okt.nouns(text)\n",
    "    \n",
    "#     text_nouns = ''\n",
    "#     for noun in nouns:\n",
    "#         text_nouns += noun + ' '\n",
    "    \n",
    "#     contents_nouns.append(text_nouns)\n",
    "#     print(text_nouns)"
   ]
  },
  {
   "cell_type": "code",
   "execution_count": 22,
   "metadata": {},
   "outputs": [
    {
     "data": {
      "text/plain": [
       "252"
      ]
     },
     "execution_count": 22,
     "metadata": {},
     "output_type": "execute_result"
    }
   ],
   "source": [
    "# contents = data.iloc[79573:].content\n",
    "\n",
    "# len(contents)"
   ]
  },
  {
   "cell_type": "code",
   "execution_count": 4,
   "metadata": {},
   "outputs": [
    {
     "data": {
      "text/plain": [
       "1588"
      ]
     },
     "execution_count": 4,
     "metadata": {},
     "output_type": "execute_result"
    }
   ],
   "source": [
    "data_sep = data.iloc[78237:]\n",
    "\n",
    "len(data_sep)"
   ]
  },
  {
   "cell_type": "code",
   "execution_count": 5,
   "metadata": {},
   "outputs": [],
   "source": [
    "dates = data_sep.date.unique()\n",
    "# '2022.09.13', '2022.09.14', '2022.09.15', '2022.09.16',\n",
    "# '2022.09.17', '2022.09.18', '2022.09.19'"
   ]
  },
  {
   "cell_type": "code",
   "execution_count": 17,
   "metadata": {},
   "outputs": [],
   "source": [
    "categories = data_sep.category.unique()\n",
    "# '사회', '국제', '스포츠', '생활·문화', '경제', '정치', '연예'"
   ]
  },
  {
   "cell_type": "code",
   "execution_count": 11,
   "metadata": {},
   "outputs": [],
   "source": [
    "data_date = []\n",
    "\n",
    "for date in dates:\n",
    "    data_date.append(data_sep.groupby('date').get_group(date))"
   ]
  },
  {
   "cell_type": "code",
   "execution_count": 23,
   "metadata": {},
   "outputs": [],
   "source": [
    "datas = []\n",
    "\n",
    "\n",
    "for data in data_date:\n",
    "    data_category = []\n",
    "    for category in categories:\n",
    "        data_category.append(data.groupby('category').get_group(category).content)\n",
    "    \n",
    "    datas.append(data_category)"
   ]
  },
  {
   "cell_type": "code",
   "execution_count": 41,
   "metadata": {},
   "outputs": [],
   "source": [
    "okt = Okt()\n",
    "\n",
    "contents_nouns = []"
   ]
  },
  {
   "cell_type": "code",
   "execution_count": 42,
   "metadata": {},
   "outputs": [],
   "source": [
    "datas_nouns = []\n",
    "\n",
    "for data_date in datas:\n",
    "    contents_nouns = []\n",
    "    \n",
    "    for contents in data_date:\n",
    "        content_nouns = ''\n",
    "        \n",
    "        for text in contents:\n",
    "            text_nouns = okt.nouns(text)\n",
    "        \n",
    "            for noun in text_nouns:\n",
    "                content_nouns += noun + ' '\n",
    "            \n",
    "        contents_nouns.append(content_nouns)\n",
    "        \n",
    "    datas_nouns.append(contents_nouns)"
   ]
  },
  {
   "cell_type": "code",
   "execution_count": 25,
   "metadata": {},
   "outputs": [],
   "source": [
    "# content_nouns = ''\n",
    "\n",
    "# for text in contents:\n",
    "#     text_nouns = okt.nouns(text)\n",
    "    \n",
    "#     for noun in text_nouns:\n",
    "#         content_nouns += noun + ' '\n",
    "    \n",
    "\n",
    "# contents_nouns.append(content_nouns)"
   ]
  },
  {
   "cell_type": "code",
   "execution_count": 55,
   "metadata": {},
   "outputs": [],
   "source": [
    "model = KeyBERT('distilbert-base-nli-mean-tokens')"
   ]
  },
  {
   "cell_type": "code",
   "execution_count": 56,
   "metadata": {},
   "outputs": [],
   "source": [
    "datas_keywords = []\n",
    "\n",
    "for data_date in datas_nouns:\n",
    "    contents_keywords = []\n",
    "    \n",
    "    for content_nouns in data_date:\n",
    "        contents_keywords.append(model.extract_keywords(content_nouns, keyphrase_ngram_range=(1,1), top_n=20, use_mmr=True))\n",
    "    \n",
    "    datas_keywords.append(contents_keywords)"
   ]
  },
  {
   "cell_type": "code",
   "execution_count": 65,
   "metadata": {},
   "outputs": [],
   "source": [
    "result_keywords = []\n",
    "\n",
    "date_idx = 0\n",
    "category_idx = 0\n",
    "\n",
    "for data_keywords in datas_keywords:\n",
    "    for keywords in data_keywords:\n",
    "        for keyword in keywords:\n",
    "            result_keywords.append((dates[date_idx], categories[category_idx], ) + keyword) # (date, category, keyword, importance)\n",
    "    \n",
    "        category_idx += 1\n",
    "            \n",
    "    date_idx += 1\n",
    "    category_idx = 0"
   ]
  },
  {
   "cell_type": "code",
   "execution_count": 68,
   "metadata": {},
   "outputs": [
    {
     "data": {
      "text/html": [
       "<div>\n",
       "<style scoped>\n",
       "    .dataframe tbody tr th:only-of-type {\n",
       "        vertical-align: middle;\n",
       "    }\n",
       "\n",
       "    .dataframe tbody tr th {\n",
       "        vertical-align: top;\n",
       "    }\n",
       "\n",
       "    .dataframe thead th {\n",
       "        text-align: right;\n",
       "    }\n",
       "</style>\n",
       "<table border=\"1\" class=\"dataframe\">\n",
       "  <thead>\n",
       "    <tr style=\"text-align: right;\">\n",
       "      <th></th>\n",
       "      <th>date</th>\n",
       "      <th>category</th>\n",
       "      <th>keyword</th>\n",
       "      <th>importance</th>\n",
       "    </tr>\n",
       "  </thead>\n",
       "  <tbody>\n",
       "    <tr>\n",
       "      <th>0</th>\n",
       "      <td>2022.09.13</td>\n",
       "      <td>사회</td>\n",
       "      <td>정보통신망법</td>\n",
       "      <td>0.8443</td>\n",
       "    </tr>\n",
       "    <tr>\n",
       "      <th>1</th>\n",
       "      <td>2022.09.13</td>\n",
       "      <td>사회</td>\n",
       "      <td>통신비밀보호법</td>\n",
       "      <td>0.8406</td>\n",
       "    </tr>\n",
       "    <tr>\n",
       "      <th>2</th>\n",
       "      <td>2022.09.13</td>\n",
       "      <td>사회</td>\n",
       "      <td>서울중앙지법</td>\n",
       "      <td>0.8355</td>\n",
       "    </tr>\n",
       "    <tr>\n",
       "      <th>3</th>\n",
       "      <td>2022.09.13</td>\n",
       "      <td>사회</td>\n",
       "      <td>사법연수원</td>\n",
       "      <td>0.8345</td>\n",
       "    </tr>\n",
       "    <tr>\n",
       "      <th>4</th>\n",
       "      <td>2022.09.13</td>\n",
       "      <td>사회</td>\n",
       "      <td>문학평론가</td>\n",
       "      <td>0.8315</td>\n",
       "    </tr>\n",
       "    <tr>\n",
       "      <th>...</th>\n",
       "      <td>...</td>\n",
       "      <td>...</td>\n",
       "      <td>...</td>\n",
       "      <td>...</td>\n",
       "    </tr>\n",
       "    <tr>\n",
       "      <th>975</th>\n",
       "      <td>2022.09.19</td>\n",
       "      <td>연예</td>\n",
       "      <td>홈페이지</td>\n",
       "      <td>0.7316</td>\n",
       "    </tr>\n",
       "    <tr>\n",
       "      <th>976</th>\n",
       "      <td>2022.09.19</td>\n",
       "      <td>연예</td>\n",
       "      <td>미니음반</td>\n",
       "      <td>0.7308</td>\n",
       "    </tr>\n",
       "    <tr>\n",
       "      <th>977</th>\n",
       "      <td>2022.09.19</td>\n",
       "      <td>연예</td>\n",
       "      <td>화장실</td>\n",
       "      <td>0.7302</td>\n",
       "    </tr>\n",
       "    <tr>\n",
       "      <th>978</th>\n",
       "      <td>2022.09.19</td>\n",
       "      <td>연예</td>\n",
       "      <td>목격담</td>\n",
       "      <td>0.7289</td>\n",
       "    </tr>\n",
       "    <tr>\n",
       "      <th>979</th>\n",
       "      <td>2022.09.19</td>\n",
       "      <td>연예</td>\n",
       "      <td>한니발</td>\n",
       "      <td>0.7254</td>\n",
       "    </tr>\n",
       "  </tbody>\n",
       "</table>\n",
       "<p>980 rows × 4 columns</p>\n",
       "</div>"
      ],
      "text/plain": [
       "           date category  keyword  importance\n",
       "0    2022.09.13       사회   정보통신망법      0.8443\n",
       "1    2022.09.13       사회  통신비밀보호법      0.8406\n",
       "2    2022.09.13       사회   서울중앙지법      0.8355\n",
       "3    2022.09.13       사회    사법연수원      0.8345\n",
       "4    2022.09.13       사회    문학평론가      0.8315\n",
       "..          ...      ...      ...         ...\n",
       "975  2022.09.19       연예     홈페이지      0.7316\n",
       "976  2022.09.19       연예     미니음반      0.7308\n",
       "977  2022.09.19       연예      화장실      0.7302\n",
       "978  2022.09.19       연예      목격담      0.7289\n",
       "979  2022.09.19       연예      한니발      0.7254\n",
       "\n",
       "[980 rows x 4 columns]"
      ]
     },
     "execution_count": 68,
     "metadata": {},
     "output_type": "execute_result"
    }
   ],
   "source": [
    "result = pd.DataFrame(result_keywords, columns=['date', 'category', 'keyword', 'importance'])\n",
    "\n",
    "result"
   ]
  },
  {
   "cell_type": "code",
   "execution_count": 69,
   "metadata": {},
   "outputs": [],
   "source": [
    "result.to_csv('./Data/keywords.csv', index=False)"
   ]
  },
  {
   "cell_type": "code",
   "execution_count": 70,
   "metadata": {},
   "outputs": [],
   "source": [
    "import pymysql"
   ]
  },
  {
   "cell_type": "code",
   "execution_count": 72,
   "metadata": {},
   "outputs": [
    {
     "data": {
      "text/html": [
       "<div>\n",
       "<style scoped>\n",
       "    .dataframe tbody tr th:only-of-type {\n",
       "        vertical-align: middle;\n",
       "    }\n",
       "\n",
       "    .dataframe tbody tr th {\n",
       "        vertical-align: top;\n",
       "    }\n",
       "\n",
       "    .dataframe thead th {\n",
       "        text-align: right;\n",
       "    }\n",
       "</style>\n",
       "<table border=\"1\" class=\"dataframe\">\n",
       "  <thead>\n",
       "    <tr style=\"text-align: right;\">\n",
       "      <th></th>\n",
       "      <th>date</th>\n",
       "      <th>category</th>\n",
       "      <th>keyword</th>\n",
       "      <th>importance</th>\n",
       "    </tr>\n",
       "  </thead>\n",
       "  <tbody>\n",
       "    <tr>\n",
       "      <th>0</th>\n",
       "      <td>2022.09.13</td>\n",
       "      <td>사회</td>\n",
       "      <td>정보통신망법</td>\n",
       "      <td>0.8443</td>\n",
       "    </tr>\n",
       "    <tr>\n",
       "      <th>1</th>\n",
       "      <td>2022.09.13</td>\n",
       "      <td>사회</td>\n",
       "      <td>통신비밀보호법</td>\n",
       "      <td>0.8406</td>\n",
       "    </tr>\n",
       "    <tr>\n",
       "      <th>2</th>\n",
       "      <td>2022.09.13</td>\n",
       "      <td>사회</td>\n",
       "      <td>서울중앙지법</td>\n",
       "      <td>0.8355</td>\n",
       "    </tr>\n",
       "    <tr>\n",
       "      <th>3</th>\n",
       "      <td>2022.09.13</td>\n",
       "      <td>사회</td>\n",
       "      <td>사법연수원</td>\n",
       "      <td>0.8345</td>\n",
       "    </tr>\n",
       "    <tr>\n",
       "      <th>4</th>\n",
       "      <td>2022.09.13</td>\n",
       "      <td>사회</td>\n",
       "      <td>문학평론가</td>\n",
       "      <td>0.8315</td>\n",
       "    </tr>\n",
       "    <tr>\n",
       "      <th>...</th>\n",
       "      <td>...</td>\n",
       "      <td>...</td>\n",
       "      <td>...</td>\n",
       "      <td>...</td>\n",
       "    </tr>\n",
       "    <tr>\n",
       "      <th>975</th>\n",
       "      <td>2022.09.19</td>\n",
       "      <td>연예</td>\n",
       "      <td>홈페이지</td>\n",
       "      <td>0.7316</td>\n",
       "    </tr>\n",
       "    <tr>\n",
       "      <th>976</th>\n",
       "      <td>2022.09.19</td>\n",
       "      <td>연예</td>\n",
       "      <td>미니음반</td>\n",
       "      <td>0.7308</td>\n",
       "    </tr>\n",
       "    <tr>\n",
       "      <th>977</th>\n",
       "      <td>2022.09.19</td>\n",
       "      <td>연예</td>\n",
       "      <td>화장실</td>\n",
       "      <td>0.7302</td>\n",
       "    </tr>\n",
       "    <tr>\n",
       "      <th>978</th>\n",
       "      <td>2022.09.19</td>\n",
       "      <td>연예</td>\n",
       "      <td>목격담</td>\n",
       "      <td>0.7289</td>\n",
       "    </tr>\n",
       "    <tr>\n",
       "      <th>979</th>\n",
       "      <td>2022.09.19</td>\n",
       "      <td>연예</td>\n",
       "      <td>한니발</td>\n",
       "      <td>0.7254</td>\n",
       "    </tr>\n",
       "  </tbody>\n",
       "</table>\n",
       "<p>980 rows × 4 columns</p>\n",
       "</div>"
      ],
      "text/plain": [
       "           date category  keyword  importance\n",
       "0    2022.09.13       사회   정보통신망법      0.8443\n",
       "1    2022.09.13       사회  통신비밀보호법      0.8406\n",
       "2    2022.09.13       사회   서울중앙지법      0.8355\n",
       "3    2022.09.13       사회    사법연수원      0.8345\n",
       "4    2022.09.13       사회    문학평론가      0.8315\n",
       "..          ...      ...      ...         ...\n",
       "975  2022.09.19       연예     홈페이지      0.7316\n",
       "976  2022.09.19       연예     미니음반      0.7308\n",
       "977  2022.09.19       연예      화장실      0.7302\n",
       "978  2022.09.19       연예      목격담      0.7289\n",
       "979  2022.09.19       연예      한니발      0.7254\n",
       "\n",
       "[980 rows x 4 columns]"
      ]
     },
     "execution_count": 72,
     "metadata": {},
     "output_type": "execute_result"
    }
   ],
   "source": [
    "keywords = pd.read_csv('./Data/keywords.csv')\n",
    "\n",
    "keywords"
   ]
  },
  {
   "cell_type": "code",
   "execution_count": 73,
   "metadata": {},
   "outputs": [],
   "source": [
    "sql_insert = 'INSERT INTO keywords (date, category, keyword, importance) VALUES (%s, %s, %s, %s)'"
   ]
  },
  {
   "cell_type": "code",
   "execution_count": 76,
   "metadata": {},
   "outputs": [],
   "source": [
    "conn = pymysql.connect(host='localhost', user='root', password='1234', db='dins', charset='utf8')\n",
    "cursor = conn.cursor()\n",
    "\n",
    "\n",
    "for index, row in keywords.iterrows():\n",
    "    cursor.execute(sql_insert, (row.date, row.category, row.keyword, row.importance))\n",
    "\n",
    "conn.commit()\n",
    "conn.close()"
   ]
  },
  {
   "cell_type": "code",
   "execution_count": 106,
   "metadata": {},
   "outputs": [],
   "source": [
    "# keywords = model.extract_keywords(contents_nouns, keyphrase_ngram_range=(1,1), top_n=15, use_mmr=True)\n",
    "\n",
    "# keywords"
   ]
  }
 ],
 "metadata": {
  "kernelspec": {
   "display_name": "Python 3.7.13 ('DINS')",
   "language": "python",
   "name": "python3"
  },
  "language_info": {
   "codemirror_mode": {
    "name": "ipython",
    "version": 3
   },
   "file_extension": ".py",
   "mimetype": "text/x-python",
   "name": "python",
   "nbconvert_exporter": "python",
   "pygments_lexer": "ipython3",
   "version": "3.7.13"
  },
  "orig_nbformat": 4,
  "vscode": {
   "interpreter": {
    "hash": "e590ccd7b691ab80e99d866104013fd94fd750e462d26c4ca346d9f79ec019e5"
   }
  }
 },
 "nbformat": 4,
 "nbformat_minor": 2
}
