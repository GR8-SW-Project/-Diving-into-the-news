{
 "cells": [
  {
   "cell_type": "code",
   "execution_count": 10,
   "metadata": {},
   "outputs": [],
   "source": [
    "import numpy as np\n",
    "import pandas as pd\n",
    "import matplotlib.pyplot as plt\n",
    "\n",
    "from konlpy.tag import Okt\n",
    "\n",
    "import os\n",
    "\n",
    "from keybert import KeyBERT\n",
    "import tqdm"
   ]
  },
  {
   "cell_type": "code",
   "execution_count": 3,
   "metadata": {},
   "outputs": [],
   "source": [
    "# os.environ[\"CUDA_DEVICE_ORDER\"] = \"PCI_BUS_ID\"\n",
    "# os.environ[\"CUDA_VISIBLE_DEVICES\"] = \"0\""
   ]
  },
  {
   "cell_type": "code",
   "execution_count": 2,
   "metadata": {},
   "outputs": [
    {
     "data": {
      "text/html": [
       "<div>\n",
       "<style scoped>\n",
       "    .dataframe tbody tr th:only-of-type {\n",
       "        vertical-align: middle;\n",
       "    }\n",
       "\n",
       "    .dataframe tbody tr th {\n",
       "        vertical-align: top;\n",
       "    }\n",
       "\n",
       "    .dataframe thead th {\n",
       "        text-align: right;\n",
       "    }\n",
       "</style>\n",
       "<table border=\"1\" class=\"dataframe\">\n",
       "  <thead>\n",
       "    <tr style=\"text-align: right;\">\n",
       "      <th></th>\n",
       "      <th>title</th>\n",
       "      <th>headline</th>\n",
       "      <th>date</th>\n",
       "      <th>news_link</th>\n",
       "      <th>content</th>\n",
       "      <th>category</th>\n",
       "      <th>site</th>\n",
       "    </tr>\n",
       "  </thead>\n",
       "  <tbody>\n",
       "    <tr>\n",
       "      <th>0</th>\n",
       "      <td>BTS \"웰컴 제네레이션…변화에 겁먹지 않고 새로운 길로\"</td>\n",
       "      <td>미국 뉴욕을 찾은 방탄소년단, BTS가 \"지금 청년들은 변화에 겁먹기보단 '웰컴'이...</td>\n",
       "      <td>2021.09.20 22:09</td>\n",
       "      <td>https://news.sbs.co.kr//news/endPage.do?news_i...</td>\n",
       "      <td>미국 뉴욕을 찾은 방탄소년단, BTS가 \"지금 청년들은 변화에 겁먹기보단 '웰컴...</td>\n",
       "      <td>국제</td>\n",
       "      <td>sbs</td>\n",
       "    </tr>\n",
       "    <tr>\n",
       "      <th>1</th>\n",
       "      <td>고속도로 대부분 소통 원활…\"추석 당일 정체 심할 것\"</td>\n",
       "      <td>추석 전날인 오늘 저녁 전국 주요 고속도로의 정체가 대부분 해소돼 원활한 소통을 보...</td>\n",
       "      <td>2021.09.20 22:00</td>\n",
       "      <td>https://news.sbs.co.kr//news/endPage.do?news_i...</td>\n",
       "      <td>추석 전날인 오늘(20일) 저녁 전국 주요 고속도로의 정체가 대부분 해소돼 원활...</td>\n",
       "      <td>사회</td>\n",
       "      <td>sbs</td>\n",
       "    </tr>\n",
       "  </tbody>\n",
       "</table>\n",
       "</div>"
      ],
      "text/plain": [
       "                              title  \\\n",
       "0  BTS \"웰컴 제네레이션…변화에 겁먹지 않고 새로운 길로\"   \n",
       "1    고속도로 대부분 소통 원활…\"추석 당일 정체 심할 것\"   \n",
       "\n",
       "                                            headline              date  \\\n",
       "0  미국 뉴욕을 찾은 방탄소년단, BTS가 \"지금 청년들은 변화에 겁먹기보단 '웰컴'이...  2021.09.20 22:09   \n",
       "1  추석 전날인 오늘 저녁 전국 주요 고속도로의 정체가 대부분 해소돼 원활한 소통을 보...  2021.09.20 22:00   \n",
       "\n",
       "                                           news_link  \\\n",
       "0  https://news.sbs.co.kr//news/endPage.do?news_i...   \n",
       "1  https://news.sbs.co.kr//news/endPage.do?news_i...   \n",
       "\n",
       "                                             content category site  \n",
       "0    미국 뉴욕을 찾은 방탄소년단, BTS가 \"지금 청년들은 변화에 겁먹기보단 '웰컴...       국제  sbs  \n",
       "1    추석 전날인 오늘(20일) 저녁 전국 주요 고속도로의 정체가 대부분 해소돼 원활...       사회  sbs  "
      ]
     },
     "execution_count": 2,
     "metadata": {},
     "output_type": "execute_result"
    }
   ],
   "source": [
    "data = pd.read_csv('./Data/SBS.csv')\n",
    "\n",
    "data.head(2)"
   ]
  },
  {
   "cell_type": "code",
   "execution_count": 5,
   "metadata": {},
   "outputs": [
    {
     "data": {
      "text/plain": [
       "0      미국 뉴욕을 찾은 방탄소년단, BTS가 \"지금 청년들은 변화에 겁먹기보단 '웰컴...\n",
       "1      추석 전날인 오늘(20일) 저녁 전국 주요 고속도로의 정체가 대부분 해소돼 원활...\n",
       "2      화이자 측은 바이오엔테크와 공동 개발한 코로나19 백신이 5~11세 연령대에서도...\n",
       "3      인천에서 검거된 베트남 불법체류자 2명이 인계 과정에서 달아났다가 잇따라 붙잡혔...\n",
       "4      경기 김포 시내 도로를 달리던 승용차가 갓길에 주차된 트럭을 들이받아 4명이 다...\n",
       "5                       8시 뉴스 마칩니다. 시청해주신 여러분 고맙습니다.  \n",
       "6      연휴 초반 맑은 날씨가 함께했는데요, 내일(21일)은 전국에 비 예보가 들어 있...\n",
       "7      국내 리그 오프시즌 동안 미국 WNBA에서 뛰고 있는 여자 농구의 간판 박지수 ...\n",
       "8      당구 좋아하시는 분들은 가면을 쓴 당구 유튜버 '해커'를 많이들 아실 텐데요. ...\n",
       "9      <앵커>   손흥민 선수가 2주 만에 종아리 부상을 털고 복귀해 풀타임을 소화했...\n",
       "Name: content, dtype: object"
      ]
     },
     "execution_count": 5,
     "metadata": {},
     "output_type": "execute_result"
    }
   ],
   "source": [
    "contents = data.content.iloc[:10]\n",
    "\n",
    "contents"
   ]
  },
  {
   "cell_type": "code",
   "execution_count": 26,
   "metadata": {},
   "outputs": [],
   "source": [
    "okt = Okt()\n",
    "\n",
    "contents_nouns = []"
   ]
  },
  {
   "cell_type": "code",
   "execution_count": 5,
   "metadata": {},
   "outputs": [],
   "source": [
    "# def get_nouns(text):\n",
    "#     nouns = okt.nouns(text)\n",
    "    \n",
    "#     return nouns"
   ]
  },
  {
   "cell_type": "code",
   "execution_count": 6,
   "metadata": {},
   "outputs": [],
   "source": [
    "# contents_nouns.append(p.map(get_nouns, contents))"
   ]
  },
  {
   "cell_type": "code",
   "execution_count": 27,
   "metadata": {},
   "outputs": [
    {
     "name": "stdout",
     "output_type": "stream",
     "text": [
      "미국 뉴욕 방탄소년단 지금 청년 변화 겁 먹기 웰컴 말 앞 세대 라며 코로나 로 상황 긍정 에너지 일상 메시지 뉴욕 유엔 회장 가능 발전 목표 고위 회의 모멘트 행사 미래세 문화 위 대통령 특별 사절 이자 세계 청년 대표 자격 초청 명의 멤버 명 발언 방식 연설 진 지난 저 기분 렛츠 리브 온 지금 고 분 고 말 은 지금 대해 길 의미 코로나 로스트 레이 션 기도 어른 눈 보이지 길 말 수 것 말 뷔 우리 미래 대해 생각 고 지민 공부 거나 운동 청년 사진 길 다기 용기 도전 중인 모습 고 전 진 의미 로스트 레이 션 이 웰컴 레이 션 이름 더 것 변화 겁 먹기 웰컴 말 앞 세대 강조 은 가능성 희망 예상 밖 상황 길 게 길 발견 것 라며 시작 세상 서로 웰컴 말 고 화답 백신 관련 홉 저희 명 모두 백신 고 은 백신 접종 저희 팬 위 티켓 라며 우리 우리 지금 수 것 중 말 뷔 다시 얼굴 마주 날 며 그때 모두 긍정 에너지 일상 고 격려 \n",
      "추석 전날 오늘 저녁 전국 주요 고속도로 정체 대부분 해소 소통 보이 한국 도로공사 밤 기준 경부 고속도로 부산 방향 한남 서초 구간 정체 빚 서울 방향 안성 부근 남사 서초 반포 총 구간 차 제 속도 내지 못 서해안 고속도로 목포 방향 차량 흐름 서울 방향 송악 서해 대교 금천 부근 등 구간 차 서행 수도권 제 순환 고속도로 영동 고속도로 등 곳 차 제 속도 밤 기준 승용차 서울 요금소 출발 전국 주요 도시 시간 부산 울산 대구 광주 대전 강릉 예상 도로공사 추석 당일 내일 전국 교통량 예상 수도권 비 수도권 이동 비 수도권 수도권 예측 내일 귀성 방향 정체 아침 시작 오후 절정 렀 다가 저녁 해소 것 전망 경 방향 정체 오전 시작 오후 절정 렀 다가 모레 새벽 해소 것 \n",
      "화이자 측은 바이오 테크 공동 개발 코로나 백신 세 연령 효과 발표 화이자 현지 시간 기자회견 이 임상시험 결과 공개 안정 성도 확인 임상시험 유치원 생 초등학생 명 대상 및 성인 기준 정량 달 접종 주 간격 투여 방식 진행 그 결과 차 접종 뒤 이 성인 바이러스 항체 수준 것 화이자 측 설명 화이자 또 접종 부위 통증 발열 등 보통 부작용 더 백신 안전성 확인 강조 회사 측은 시일 내 식품 약국 해당 연령 대한 접종 승인 요청 계획 화이자 백신 현재 미국 세 이상은 정식 승인 긴급 사용 승인 상태 미국 비롯 서방 국가 상당수 세 이상 연령 백신 접종 허용 \n",
      "인천 검거 베트남 불법체류자 명 인계 과정 인천 서부 경찰서 출입국관리법 위반 및 도주 혐의 베트남 국적 남성 씨 씨 입건 또 씨 도주 도운 조력자 명 출입국관리법 위반 및 범인 도피 혐의 입건 씨 씨 국내 입국 불법 체류 오늘 새벽 인천 시 서구 빌라 검거 뒤 인천 출입국 외국인 청 앞 경찰관 밀 혐의 이 해당 빌라 소란 신고 출동 경찰 신원 확인 과정 다른 베트남 불법체류자 명과 경찰 관련 법규 신병 인계 위해 중구 인천 출입국 외국인 청 앞 이 데리 이 차량 중 수갑 찬 상태 경찰관 밀 그대로 씨 사건 발생 여 분만 새벽 중구 인하대병원 인근 골목 수갑 찬 상태 추적 나선 경찰 씨 경찰 추적 피해 도주 중 사건 발생 여 분만 오후 서구 촌 사거리 차량 타고 경찰 경찰 씨 조력자 명 상대로 도주 경로 등 사건 경위 조사 \n",
      "경기 김포 시내 도로 승용차 갓길 주차 트럭 명 오늘 오후 쯤 김포시 걸포동 나진 교 인근 도로 씨 몰던 승용차 갓길 주차 톤 트럭 뒤 이 사고 씨 등 명 근처 병원 치료 사고 충격 불 나 승용차 모두 타고 트럭 일부 불 경찰 사고 경위 조사 \n",
      "뉴스 시청 여러분 \n",
      "연휴 초반 맑은 날씨 내일 은 전국 비 예보 새벽 서쪽 지방 차례 전국 비 확대 매우 집중 수 습기 남해안 제주도 그 밖 지역 예상 오후 날 저녁 잠시 구름 이 따라서 구름 사이 보름달 볼 수 내일 아침 서울 도 출발 낮 최고 기온 도로 선선 모레 전국 지역 비 예보 길 날씨 참고 태빈 기상캐스터 \n",
      "국내 리그 오프 시즌 동안 미국 여자 농구 간판 박지수 선수 활약 팀 점차 승리 끝내기 블록 슛 보시 \n",
      "당구 분 가면 당구 유튜버 해커 를 프로 대회 세계 최강 쿠드 롱 이변 해커 시즌 대회 초청 선수 참가 차 대회 첫 판 탈락 이번 차 대회 차례 승리 뒤 강 전 세계 최강 쿠드 롱 상대 안 거 예상 쿠드 롱 압도 끝 세트 스코어 완승 지난 연속 추석 대회 제패 쿠드 롱 대회 최대 이변 희생양 \n",
      "앵커 손흥민 선수 주 종아리 부상 복귀 풀타임 소화 토트넘 연패 유병민 기자 기자 종아리 부상 주 선발 라인업 이름 손흥민 최 전방 스트라이커 경기 시작 과감 슈팅 첼시 골문 좌우 공격 몸 수비 최 전방 첼시 압박 손흥민 전반 골키퍼 기회 아쉬움 동안 라운드 누비 건재 함 토트넘 후반 첼시 티아고 실바 캉테 뤼디거 골 허용 연패 호날두 맨유 복귀 이후 경기 골 웨스트햄 전반 오른발 슈팅 골키퍼 재차 동점 골 후반 린 가드 오른발 슈팅 승부 맨유 후반 추가 시간 수비수 핸드볼 파울로 페널티 킥 허용 데헤아 골키퍼 선방 승리 연승 질주 파리 생제르맹 메시 회심 왼발 프리킥 골대 모서리 땅 후반 추가 시간 카르 디 극장 골로 연승 영상편집 남 일 \n"
     ]
    }
   ],
   "source": [
    "for text in contents:\n",
    "    nouns = okt.nouns(text)\n",
    "    \n",
    "    text_nouns = ''\n",
    "    for noun in nouns:\n",
    "        text_nouns += noun + ' '\n",
    "    \n",
    "    contents_nouns.append(text_nouns)\n",
    "    print(text_nouns)"
   ]
  },
  {
   "cell_type": "code",
   "execution_count": 28,
   "metadata": {},
   "outputs": [
    {
     "data": {
      "text/plain": [
       "'미국 뉴욕 방탄소년단 지금 청년 변화 겁 먹기 웰컴 말 앞 세대 라며 코로나 로 상황 긍정 에너지 일상 메시지 뉴욕 유엔 회장 가능 발전 목표 고위 회의 모멘트 행사 미래세 문화 위 대통령 특별 사절 이자 세계 청년 대표 자격 초청 명의 멤버 명 발언 방식 연설 진 지난 저 기분 렛츠 리브 온 지금 고 분 고 말 은 지금 대해 길 의미 코로나 로스트 레이 션 기도 어른 눈 보이지 길 말 수 것 말 뷔 우리 미래 대해 생각 고 지민 공부 거나 운동 청년 사진 길 다기 용기 도전 중인 모습 고 전 진 의미 로스트 레이 션 이 웰컴 레이 션 이름 더 것 변화 겁 먹기 웰컴 말 앞 세대 강조 은 가능성 희망 예상 밖 상황 길 게 길 발견 것 라며 시작 세상 서로 웰컴 말 고 화답 백신 관련 홉 저희 명 모두 백신 고 은 백신 접종 저희 팬 위 티켓 라며 우리 우리 지금 수 것 중 말 뷔 다시 얼굴 마주 날 며 그때 모두 긍정 에너지 일상 고 격려 '"
      ]
     },
     "execution_count": 28,
     "metadata": {},
     "output_type": "execute_result"
    }
   ],
   "source": [
    "contents_nouns[0]"
   ]
  },
  {
   "cell_type": "code",
   "execution_count": 31,
   "metadata": {},
   "outputs": [],
   "source": [
    "model = KeyBERT('distilbert-base-nli-mean-tokens')"
   ]
  },
  {
   "cell_type": "code",
   "execution_count": 19,
   "metadata": {},
   "outputs": [
    {
     "data": {
      "text/plain": [
       "[]"
      ]
     },
     "execution_count": 19,
     "metadata": {},
     "output_type": "execute_result"
    }
   ],
   "source": [
    "keywords = model.extract_keywords(data.content.iloc[0], keyphrase_ngram_range=(1,1), stop_words='korea', top_n=10)\n",
    "\n",
    "keywords"
   ]
  },
  {
   "cell_type": "code",
   "execution_count": 66,
   "metadata": {},
   "outputs": [],
   "source": [
    "keywords = []\n",
    "\n",
    "for content_nouns in contents_nouns:\n",
    "    keyword = model.extract_keywords(content_nouns, keyphrase_ngram_range=(1,1), top_n=5, use_mmr=True, diversity=0.05)\n",
    "    \n",
    "    keywords.append(keyword)"
   ]
  },
  {
   "cell_type": "code",
   "execution_count": 67,
   "metadata": {},
   "outputs": [
    {
     "data": {
      "text/plain": [
       "[[('방탄소년단', 0.8186),\n",
       "  ('가능성', 0.687),\n",
       "  ('특별', 0.6841),\n",
       "  ('모멘트', 0.6807),\n",
       "  ('발견', 0.6647)],\n",
       " [('고속도로', 0.7394),\n",
       "  ('도로공사', 0.7242),\n",
       "  ('수도권', 0.7136),\n",
       "  ('대부분', 0.6942),\n",
       "  ('요금소', 0.6882)],\n",
       " [('초등학생', 0.7756),\n",
       "  ('바이러스', 0.7439),\n",
       "  ('부작용', 0.7431),\n",
       "  ('임상시험', 0.7139),\n",
       "  ('화이자', 0.7137)],\n",
       " [('출입국관리법', 0.8516),\n",
       "  ('불법체류자', 0.8322),\n",
       "  ('인하대병원', 0.8222),\n",
       "  ('경찰관', 0.7425),\n",
       "  ('출입국', 0.7263)],\n",
       " [('걸포동', 0.7114),\n",
       "  ('승용차', 0.6975),\n",
       "  ('김포시', 0.6604),\n",
       "  ('몰던', 0.6361),\n",
       "  ('경찰', 0.6309)],\n",
       " [('여러분', 0.8893), ('뉴스', 0.8297), ('시청', 0.7808)],\n",
       " [('기상캐스터', 0.7669),\n",
       "  ('보름달', 0.7095),\n",
       "  ('제주도', 0.7017),\n",
       "  ('집중', 0.6733),\n",
       "  ('전국', 0.6651)],\n",
       " [('박지수', 0.7717),\n",
       "  ('국내', 0.6795),\n",
       "  ('동안', 0.6682),\n",
       "  ('블록', 0.6679),\n",
       "  ('간판', 0.6671)],\n",
       " [('스코어', 0.6581),\n",
       "  ('유튜버', 0.6484),\n",
       "  ('탈락', 0.6475),\n",
       "  ('연속', 0.6415),\n",
       "  ('당구', 0.6402)],\n",
       " [('영상편집', 0.7865),\n",
       "  ('스트라이커', 0.737),\n",
       "  ('생제르맹', 0.7282),\n",
       "  ('유병민', 0.7183),\n",
       "  ('손흥민', 0.7129)]]"
      ]
     },
     "execution_count": 67,
     "metadata": {},
     "output_type": "execute_result"
    }
   ],
   "source": [
    "keywords"
   ]
  },
  {
   "cell_type": "code",
   "execution_count": null,
   "metadata": {},
   "outputs": [],
   "source": []
  }
 ],
 "metadata": {
  "kernelspec": {
   "display_name": "Python 3.7.13 ('DINS')",
   "language": "python",
   "name": "python3"
  },
  "language_info": {
   "codemirror_mode": {
    "name": "ipython",
    "version": 3
   },
   "file_extension": ".py",
   "mimetype": "text/x-python",
   "name": "python",
   "nbconvert_exporter": "python",
   "pygments_lexer": "ipython3",
   "version": "3.7.13"
  },
  "orig_nbformat": 4,
  "vscode": {
   "interpreter": {
    "hash": "e590ccd7b691ab80e99d866104013fd94fd750e462d26c4ca346d9f79ec019e5"
   }
  }
 },
 "nbformat": 4,
 "nbformat_minor": 2
}
