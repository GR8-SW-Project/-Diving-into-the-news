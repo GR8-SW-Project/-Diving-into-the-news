{
 "cells": [
  {
   "cell_type": "code",
   "execution_count": 1,
   "metadata": {},
   "outputs": [],
   "source": [
    "import numpy as np\n",
    "import pandas as pd\n",
    "\n",
    "from collections import Counter"
   ]
  },
  {
   "cell_type": "code",
   "execution_count": 4,
   "metadata": {},
   "outputs": [],
   "source": [
    "categories = ['sports', 'international', 'social', 'culture', 'economy', 'politics', 'entertainments']"
   ]
  },
  {
   "cell_type": "code",
   "execution_count": 5,
   "metadata": {},
   "outputs": [],
   "source": [
    "for category in categories:\n",
    "    nouns = pd.read_csv('../Data/SBS_nouns_cnt_{0}.csv'.format(category)).noun.to_list()\n",
    "    nouns_excluded = pd.read_csv('../Data/SBS_nouns_cnt_{0}(excluded).csv'.format(category)).noun.to_list()\n",
    "    \n",
    "    stopwords = []\n",
    "    \n",
    "    for noun in nouns:\n",
    "        if noun not in nouns_excluded:\n",
    "            stopwords.append(noun)\n",
    "    \n",
    "    df = pd.DataFrame(stopwords, columns=['noun'])\n",
    "    df.to_csv('../Data/stopwords_{0}.csv'.format(category), index=False)"
   ]
  }
 ],
 "metadata": {
  "kernelspec": {
   "display_name": "Python 3.7.13 ('DINS')",
   "language": "python",
   "name": "python3"
  },
  "language_info": {
   "codemirror_mode": {
    "name": "ipython",
    "version": 3
   },
   "file_extension": ".py",
   "mimetype": "text/x-python",
   "name": "python",
   "nbconvert_exporter": "python",
   "pygments_lexer": "ipython3",
   "version": "3.7.13"
  },
  "orig_nbformat": 4,
  "vscode": {
   "interpreter": {
    "hash": "e590ccd7b691ab80e99d866104013fd94fd750e462d26c4ca346d9f79ec019e5"
   }
  }
 },
 "nbformat": 4,
 "nbformat_minor": 2
}
