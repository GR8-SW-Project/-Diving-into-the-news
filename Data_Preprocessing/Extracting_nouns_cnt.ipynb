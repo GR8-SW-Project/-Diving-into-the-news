{
 "cells": [
  {
   "cell_type": "code",
   "execution_count": 1,
   "metadata": {},
   "outputs": [],
   "source": [
    "import numpy as np\n",
    "import pandas as pd\n",
    "\n",
    "from konlpy.tag import Komoran\n",
    "\n",
    "from collections import Counter"
   ]
  },
  {
   "cell_type": "code",
   "execution_count": 2,
   "metadata": {},
   "outputs": [],
   "source": [
    "# # news concat\n",
    "\n",
    "# news1 = pd.read_csv('./Data/SBS1.csv')\n",
    "# news2 = pd.read_csv('./Data/SBS2.csv')\n",
    "\n",
    "# print(len(news1), len(news2)) # 79825 9247\n",
    "\n",
    "\n",
    "# news = pd.concat([news1, news2])\n",
    "\n",
    "# len(news) # 89072\n",
    "\n",
    "\n",
    "# news = news.drop_duplicates() # 89071\n",
    "\n",
    "# len(news)\n",
    "\n",
    "\n",
    "# news.to_csv('./Data/SBS.csv', index=False)\n",
    "\n",
    "# news_data = pd.read_csv('./Data/SBS.csv')\n",
    "\n",
    "# news_data = news_data.iloc[78237:]\n",
    "\n",
    "# news_data.to_csv('./Data/SBS.csv', index=False)"
   ]
  },
  {
   "cell_type": "code",
   "execution_count": 2,
   "metadata": {},
   "outputs": [
    {
     "data": {
      "text/plain": [
       "6552"
      ]
     },
     "execution_count": 2,
     "metadata": {},
     "output_type": "execute_result"
    }
   ],
   "source": [
    "news_data = pd.read_csv('../Data/SBS.csv')\n",
    "\n",
    "# news_data.loc[news_data.date.str.contains('2022.10.01')] # 4282\n",
    "\n",
    "news_data = news_data.iloc[4282:, :]\n",
    "\n",
    "news = news_data.content\n",
    "\n",
    "len(news)"
   ]
  },
  {
   "cell_type": "code",
   "execution_count": 3,
   "metadata": {},
   "outputs": [],
   "source": [
    "komoran = Komoran()\n",
    "\n",
    "contents_nouns = []"
   ]
  },
  {
   "cell_type": "code",
   "execution_count": 4,
   "metadata": {},
   "outputs": [],
   "source": [
    "for content in news:\n",
    "    poses = komoran.pos(content)\n",
    "    \n",
    "    for pos in poses:\n",
    "        if len(pos[0]) < 3:\n",
    "            continue\n",
    "        \n",
    "        if pos[-1] == 'NNP':\n",
    "            contents_nouns.append(pos[0])"
   ]
  },
  {
   "cell_type": "code",
   "execution_count": 5,
   "metadata": {},
   "outputs": [
    {
     "data": {
      "text/plain": [
       "11366"
      ]
     },
     "execution_count": 5,
     "metadata": {},
     "output_type": "execute_result"
    }
   ],
   "source": [
    "cnt = Counter(contents_nouns)\n",
    "nouns_cnt = cnt.most_common(len(cnt))\n",
    "\n",
    "len(nouns_cnt)"
   ]
  },
  {
   "cell_type": "code",
   "execution_count": 8,
   "metadata": {},
   "outputs": [
    {
     "name": "stdout",
     "output_type": "stream",
     "text": [
      "10.462607777582264\n"
     ]
    }
   ],
   "source": [
    "sum = 0\n",
    "\n",
    "for noun_cnt in nouns_cnt:\n",
    "    sum += noun_cnt[-1]\n",
    "\n",
    "print(sum / len(nouns_cnt))"
   ]
  },
  {
   "cell_type": "code",
   "execution_count": 6,
   "metadata": {},
   "outputs": [
    {
     "data": {
      "text/html": [
       "<div>\n",
       "<style scoped>\n",
       "    .dataframe tbody tr th:only-of-type {\n",
       "        vertical-align: middle;\n",
       "    }\n",
       "\n",
       "    .dataframe tbody tr th {\n",
       "        vertical-align: top;\n",
       "    }\n",
       "\n",
       "    .dataframe thead th {\n",
       "        text-align: right;\n",
       "    }\n",
       "</style>\n",
       "<table border=\"1\" class=\"dataframe\">\n",
       "  <thead>\n",
       "    <tr style=\"text-align: right;\">\n",
       "      <th></th>\n",
       "      <th>noun</th>\n",
       "      <th>cnt</th>\n",
       "    </tr>\n",
       "  </thead>\n",
       "  <tbody>\n",
       "    <tr>\n",
       "      <th>0</th>\n",
       "      <td>러시아</td>\n",
       "      <td>2419</td>\n",
       "    </tr>\n",
       "    <tr>\n",
       "      <th>1</th>\n",
       "      <td>이미지</td>\n",
       "      <td>2131</td>\n",
       "    </tr>\n",
       "    <tr>\n",
       "      <th>2</th>\n",
       "      <td>민주당</td>\n",
       "      <td>2054</td>\n",
       "    </tr>\n",
       "    <tr>\n",
       "      <th>3</th>\n",
       "      <td>우크라이나</td>\n",
       "      <td>1955</td>\n",
       "    </tr>\n",
       "    <tr>\n",
       "      <th>4</th>\n",
       "      <td>연합뉴스</td>\n",
       "      <td>1892</td>\n",
       "    </tr>\n",
       "  </tbody>\n",
       "</table>\n",
       "</div>"
      ],
      "text/plain": [
       "    noun   cnt\n",
       "0    러시아  2419\n",
       "1    이미지  2131\n",
       "2    민주당  2054\n",
       "3  우크라이나  1955\n",
       "4   연합뉴스  1892"
      ]
     },
     "execution_count": 6,
     "metadata": {},
     "output_type": "execute_result"
    }
   ],
   "source": [
    "df = pd.DataFrame(nouns_cnt, columns=['noun', 'cnt'])\n",
    "\n",
    "df.head()"
   ]
  },
  {
   "cell_type": "code",
   "execution_count": 7,
   "metadata": {},
   "outputs": [],
   "source": [
    "df.to_csv('../Data/SBS_nouns_cnt(included).csv', index=False)"
   ]
  }
 ],
 "metadata": {
  "kernelspec": {
   "display_name": "Python 3.7.13 ('DINS')",
   "language": "python",
   "name": "python3"
  },
  "language_info": {
   "codemirror_mode": {
    "name": "ipython",
    "version": 3
   },
   "file_extension": ".py",
   "mimetype": "text/x-python",
   "name": "python",
   "nbconvert_exporter": "python",
   "pygments_lexer": "ipython3",
   "version": "3.7.13"
  },
  "orig_nbformat": 4,
  "vscode": {
   "interpreter": {
    "hash": "e590ccd7b691ab80e99d866104013fd94fd750e462d26c4ca346d9f79ec019e5"
   }
  }
 },
 "nbformat": 4,
 "nbformat_minor": 2
}
