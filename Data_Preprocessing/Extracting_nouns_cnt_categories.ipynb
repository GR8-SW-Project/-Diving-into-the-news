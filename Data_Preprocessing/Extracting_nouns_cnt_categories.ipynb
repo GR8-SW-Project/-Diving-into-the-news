{
 "cells": [
  {
   "cell_type": "code",
   "execution_count": 1,
   "metadata": {},
   "outputs": [],
   "source": [
    "import numpy as np\n",
    "import pandas as pd\n",
    "\n",
    "from konlpy.tag import Komoran\n",
    "\n",
    "from collections import Counter"
   ]
  },
  {
   "cell_type": "code",
   "execution_count": 2,
   "metadata": {},
   "outputs": [
    {
     "data": {
      "text/plain": [
       "6552"
      ]
     },
     "execution_count": 2,
     "metadata": {},
     "output_type": "execute_result"
    }
   ],
   "source": [
    "news_data = pd.read_csv('../Data/SBS.csv')\n",
    "\n",
    "# news_data.loc[news_data.date.str.contains('2022.10.01')] # 4282\n",
    "\n",
    "news_data = news_data.iloc[4282:, :]\n",
    "len(news_data)"
   ]
  },
  {
   "cell_type": "code",
   "execution_count": 3,
   "metadata": {},
   "outputs": [
    {
     "data": {
      "text/plain": [
       "7"
      ]
     },
     "execution_count": 3,
     "metadata": {},
     "output_type": "execute_result"
    }
   ],
   "source": [
    "categories = news_data.category.unique()\n",
    "\n",
    "len(categories)"
   ]
  },
  {
   "cell_type": "code",
   "execution_count": 4,
   "metadata": {},
   "outputs": [
    {
     "data": {
      "text/plain": [
       "array(['스포츠', '국제', '사회', '생활·문화', '경제', '정치', '연예'], dtype=object)"
      ]
     },
     "execution_count": 4,
     "metadata": {},
     "output_type": "execute_result"
    }
   ],
   "source": [
    "categories"
   ]
  },
  {
   "cell_type": "code",
   "execution_count": 5,
   "metadata": {},
   "outputs": [],
   "source": [
    "news = []\n",
    "\n",
    "for category in categories:\n",
    "    try:\n",
    "        news.append(news_data.groupby('category').get_group(category).content)\n",
    "    except (KeyError):\n",
    "        pass"
   ]
  },
  {
   "cell_type": "code",
   "execution_count": 6,
   "metadata": {},
   "outputs": [
    {
     "data": {
      "text/plain": [
       "7"
      ]
     },
     "execution_count": 6,
     "metadata": {},
     "output_type": "execute_result"
    }
   ],
   "source": [
    "len(news)"
   ]
  },
  {
   "cell_type": "code",
   "execution_count": 7,
   "metadata": {},
   "outputs": [],
   "source": [
    "komoran = Komoran()\n",
    "\n",
    "contents_nouns = []"
   ]
  },
  {
   "cell_type": "code",
   "execution_count": 18,
   "metadata": {},
   "outputs": [],
   "source": [
    "for news_category in news:\n",
    "    contents_nouns_category = []\n",
    "    \n",
    "    for content in news_category:\n",
    "        poses = komoran.pos(content)\n",
    "        \n",
    "        for pos in poses:\n",
    "            if len(pos[0]) < 3:\n",
    "                continue\n",
    "            \n",
    "            if pos[-1] == 'NNP':\n",
    "                contents_nouns_category.append(pos[0])\n",
    "    \n",
    "    contents_nouns.append(contents_nouns_category)"
   ]
  },
  {
   "cell_type": "code",
   "execution_count": 19,
   "metadata": {},
   "outputs": [
    {
     "data": {
      "text/plain": [
       "7"
      ]
     },
     "execution_count": 19,
     "metadata": {},
     "output_type": "execute_result"
    }
   ],
   "source": [
    "len(contents_nouns)"
   ]
  },
  {
   "cell_type": "code",
   "execution_count": 26,
   "metadata": {},
   "outputs": [],
   "source": [
    "nouns_mean_category =   [9, 9, 10, 4, 6, 12, 4]\n",
    "mean_idx = 0\n",
    "\n",
    "nouns_cnt = []\n",
    "\n",
    "for contents_nouns_category in contents_nouns:\n",
    "    cnt = Counter(contents_nouns_category)\n",
    "    nouns_cnt_category = cnt.most_common(len(cnt))\n",
    "    \n",
    "    nouns_cnt_sep = []\n",
    "    \n",
    "    for noun_cnt in nouns_cnt_category:\n",
    "        if noun_cnt[-1] > nouns_mean_category[mean_idx]:\n",
    "            nouns_cnt_sep.append(noun_cnt)\n",
    "    \n",
    "    mean_idx += 1\n",
    "    \n",
    "    nouns_cnt.append(nouns_cnt_sep)"
   ]
  },
  {
   "cell_type": "code",
   "execution_count": 27,
   "metadata": {},
   "outputs": [
    {
     "data": {
      "text/plain": [
       "7"
      ]
     },
     "execution_count": 27,
     "metadata": {},
     "output_type": "execute_result"
    }
   ],
   "source": [
    "len(nouns_cnt)"
   ]
  },
  {
   "cell_type": "code",
   "execution_count": 28,
   "metadata": {},
   "outputs": [],
   "source": [
    "categories = ['sports', 'international', 'social', 'culture', 'economy', 'politics', 'entertainments']\n",
    "category_idx = 0\n",
    "\n",
    "for nouns_cnt_category in nouns_cnt:\n",
    "    df = pd.DataFrame(nouns_cnt_category, columns=['noun', 'cnt'])\n",
    "    df.to_csv('../Data/SBS_nouns_cnt_{0}.csv'.format(categories[category_idx]), index=False)\n",
    "    \n",
    "    category_idx += 1"
   ]
  },
  {
   "cell_type": "code",
   "execution_count": 18,
   "metadata": {},
   "outputs": [
    {
     "name": "stdout",
     "output_type": "stream",
     "text": [
      "-mean-\n",
      "sports: 9.0\n",
      "international: 9.0\n",
      "social: 10.0\n",
      "culture: 4.0\n",
      "economy: 6.0\n",
      "politics: 12.0\n",
      "entertainments: 4.0\n"
     ]
    }
   ],
   "source": [
    "category_idx = 0\n",
    "\n",
    "print('-mean-')\n",
    "for nouns_cnt_category in nouns_cnt:\n",
    "    sum = 0\n",
    "    \n",
    "    for noun_cnt in nouns_cnt_category:\n",
    "        sum += noun_cnt[-1]\n",
    "        \n",
    "    print('{}:'.format(categories[category_idx]), round(sum / len(nouns_cnt_category), 0))\n",
    "    \n",
    "    category_idx += 1"
   ]
  },
  {
   "cell_type": "code",
   "execution_count": 17,
   "metadata": {},
   "outputs": [
    {
     "name": "stdout",
     "output_type": "stream",
     "text": [
      "-median-\n",
      "sports: 2\n",
      "international: 2\n",
      "social: 2.0\n",
      "culture: 1\n",
      "economy: 2.0\n",
      "politics: 2\n",
      "entertainments: 2.0\n"
     ]
    }
   ],
   "source": [
    "category_idx = 0\n",
    "\n",
    "print('-median-')\n",
    "for nouns_cnt_category in nouns_cnt:\n",
    "    cnt = []\n",
    "    \n",
    "    for noun_cnt in nouns_cnt_category:\n",
    "        cnt.append(noun_cnt[-1])\n",
    "    \n",
    "    if len(cnt) % 2 ==0:\n",
    "        cnt_idx = len(cnt) // 2\n",
    "        \n",
    "        print('{}:'.format(categories[category_idx]), (cnt[cnt_idx -1] + cnt[cnt_idx]) / 2)\n",
    "    else:\n",
    "        cnt_idx = len(cnt) // 2 + 1\n",
    "        \n",
    "        print('{}:'.format(categories[category_idx]), cnt[cnt_idx])\n",
    "    \n",
    "    category_idx += 1"
   ]
  },
  {
   "cell_type": "code",
   "execution_count": null,
   "metadata": {},
   "outputs": [],
   "source": []
  }
 ],
 "metadata": {
  "kernelspec": {
   "display_name": "Python 3.7.13 ('DINS')",
   "language": "python",
   "name": "python3"
  },
  "language_info": {
   "codemirror_mode": {
    "name": "ipython",
    "version": 3
   },
   "file_extension": ".py",
   "mimetype": "text/x-python",
   "name": "python",
   "nbconvert_exporter": "python",
   "pygments_lexer": "ipython3",
   "version": "3.7.13"
  },
  "orig_nbformat": 4,
  "vscode": {
   "interpreter": {
    "hash": "e590ccd7b691ab80e99d866104013fd94fd750e462d26c4ca346d9f79ec019e5"
   }
  }
 },
 "nbformat": 4,
 "nbformat_minor": 2
}
